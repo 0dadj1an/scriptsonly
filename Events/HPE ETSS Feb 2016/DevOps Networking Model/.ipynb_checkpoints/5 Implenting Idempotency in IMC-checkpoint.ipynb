{
 "cells": [
  {
   "cell_type": "markdown",
   "metadata": {},
   "source": [
    "# Implenting Idempotency using HPE IMC\n",
    "\n",
    "Try saying that five times fast. \n",
    "\n"
   ]
  },
  {
   "cell_type": "markdown",
   "metadata": {},
   "source": [
    "\n",
    "# What if those VLANS already exist?\n",
    "\n",
    "There's a concept called idempotency which can be loosely explained as \n",
    ">Make sure it's like this.\n",
    " If it's not like this, make it like this.\n",
    " If it's already like this. Don't do anything\n",
    " \n",
    "Essentially, it's a way to declare the desired configuration state of whatever it is you're trying to configure. If the configuration state of that server, or switch or router is already in that state, than just leave it alone. \n",
    "\n",
    "It's a way to ensure that configuration drift doesn't happen. \n",
    "\n",
    "So if there's some rabbid network administrator with a console cable running around laughing maniacly as he randomly changes things... \n",
    "\n",
    "![jack photo](http://assets.nydailynews.com/polopoly_fs/1.1582165!/img/httpImage/image.jpg_gen/derivatives/gallery_1200/jack-nicholson-shining.jpg)"
   ]
  },
  {
   "cell_type": "markdown",
   "metadata": {},
   "source": [
    "# Idempotent VLANs\n",
    "\n",
    "So we're going to look at the last example [here](insert link) where we did the following:\n",
    "- grabbed the jinja template for vlans directly from a GIThub repository\n",
    "- grabbed the desired vlans file directly from a GIThub repository\n",
    "- renderd the Jinja template using the values from the vlan file to get our final config\n",
    "- used the pyhpeimc library to push the commands through the executecmd RESTful API\n",
    "\n",
    "\n"
   ]
  },
  {
   "cell_type": "markdown",
   "metadata": {},
   "source": [
    "## Import Libraries"
   ]
  },
  {
   "cell_type": "code",
   "execution_count": 1,
   "metadata": {
    "collapsed": true
   },
   "outputs": [],
   "source": [
    "import requests\n",
    "import yaml\n",
    "import time\n",
    "#import githubuser\n",
    "from pyhpeimc.auth import *\n",
    "from pyhpeimc.plat.device import *\n",
    "from pyhpeimc.plat.icc import *\n",
    "from pyhpeimc.plat.vlanm import *\n",
    "auth = IMCAuth(\"http://\", \"10.101.0.203\", \"8080\", \"admin\", \"admin\")\n"
   ]
  },
  {
   "cell_type": "markdown",
   "metadata": {},
   "source": [
    "## Download VLANs list from Github"
   ]
  },
  {
   "cell_type": "code",
   "execution_count": 3,
   "metadata": {
    "collapsed": false
   },
   "outputs": [],
   "source": [
    "#gitauth = githubuser.gitcreds() #you didn't think I was going to give you my password did you?\n",
    "desired_vlan_list = yaml.load(requests.get('https://raw.githubusercontent.com/netmanchris/Jinja2-Network-Configurations-Scripts/master/vlans.yaml', ).text)\n"
   ]
  },
  {
   "cell_type": "markdown",
   "metadata": {},
   "source": [
    "### Print VLANs"
   ]
  },
  {
   "cell_type": "code",
   "execution_count": 4,
   "metadata": {
    "collapsed": false
   },
   "outputs": [
    {
     "name": "stdout",
     "output_type": "stream",
     "text": [
      "- {vlanId: '1', vlanName: default, vlanStatus: '1'}\n",
      "- {vlanId: '2', vlanName: TenantABC, vlanStatus: '1'}\n",
      "- {vlanId: '3', vlanName: management, vlanStatus: '1'}\n",
      "- {vlanId: '10', vlanName: mgmt, vlanStatus: '1'}\n",
      "\n"
     ]
    }
   ],
   "source": [
    "print (yaml.dump(desired_vlan_list['vlans'], indent = 4))"
   ]
  },
  {
   "cell_type": "markdown",
   "metadata": {},
   "source": [
    "### Gather just the VLAN IDs"
   ]
  },
  {
   "cell_type": "code",
   "execution_count": 5,
   "metadata": {
    "collapsed": false
   },
   "outputs": [
    {
     "data": {
      "text/plain": [
       "['1', '2', '3', '10']"
      ]
     },
     "execution_count": 5,
     "metadata": {},
     "output_type": "execute_result"
    }
   ],
   "source": [
    "desired_vlan_ids = [vlan['vlanId'] for vlan in desired_vlan_list['vlans']]\n",
    "desired_vlan_ids"
   ]
  },
  {
   "cell_type": "markdown",
   "metadata": {},
   "source": [
    "## Get Current VLANs on Target Device"
   ]
  },
  {
   "cell_type": "code",
   "execution_count": 23,
   "metadata": {
    "collapsed": false
   },
   "outputs": [],
   "source": [
    "devid = get_dev_details('10.20.10.10', auth.creds, auth.url)['id']\n",
    "dev_vlan_list = get_dev_vlans(devid, auth.creds, auth.url)"
   ]
  },
  {
   "cell_type": "code",
   "execution_count": 24,
   "metadata": {
    "collapsed": false
   },
   "outputs": [
    {
     "data": {
      "text/plain": [
       "'221'"
      ]
     },
     "execution_count": 24,
     "metadata": {},
     "output_type": "execute_result"
    }
   ],
   "source": [
    "devid"
   ]
  },
  {
   "cell_type": "code",
   "execution_count": 25,
   "metadata": {
    "collapsed": false
   },
   "outputs": [
    {
     "name": "stdout",
     "output_type": "stream",
     "text": [
      "- {vlanId: '1', vlanName: default, vlanStatus: '1'}\n",
      "- {vlanId: '5', vlanName: DoesntBelong, vlanStatus: '1'}\n",
      "\n"
     ]
    }
   ],
   "source": [
    "print (yaml.dump(dev_vlan_list, indent = 4))\n"
   ]
  },
  {
   "cell_type": "markdown",
   "metadata": {},
   "source": [
    "## Add Desired VLANs to Target Device"
   ]
  },
  {
   "cell_type": "code",
   "execution_count": 26,
   "metadata": {
    "collapsed": false
   },
   "outputs": [
    {
     "name": "stdout",
     "output_type": "stream",
     "text": [
      "Help on function create_dev_vlan in module pyhpeimc.plat.vlanm:\n",
      "\n",
      "create_dev_vlan(devid, vlanid, vlan_name, auth, url)\n",
      "    function takes devid and vlanid vlan_name of specific device and 802.1q VLAN tag and issues a RESTFUL call to add the\n",
      "    specified VLAN from the target device. VLAN Name MUST be valid on target device.\n",
      "    :param devid: int or str value of the target device\n",
      "    :param vlanid:int or str value of target 802.1q VLAN\n",
      "    :param vlan_name: str value of the target 802.1q VLAN name. MUST be valid name on target device.\n",
      "    :return:HTTP Status code of 201 with no values.\n",
      "\n"
     ]
    }
   ],
   "source": [
    "help (create_dev_vlan)"
   ]
  },
  {
   "cell_type": "code",
   "execution_count": 27,
   "metadata": {
    "collapsed": false
   },
   "outputs": [],
   "source": [
    "def add_vlans():\n",
    "    start_time = time.time()\n",
    "    for vlan in desired_vlan_list['vlans']:\n",
    "        if vlan['vlanId'] in dev_vlan_ids:\n",
    "            pass\n",
    "        else:\n",
    "            print ('adding vlan ' + str(vlan['vlanId']))\n",
    "            create_dev_vlan(devid, vlan['vlanId'], vlan['vlanName'], auth=auth.creds, url=auth.url)\n",
    "            \n",
    "    print(\"Operation took --- %s seconds ---\" % (time.time() - start_time))\n",
    "    "
   ]
  },
  {
   "cell_type": "code",
   "execution_count": 28,
   "metadata": {
    "collapsed": false
   },
   "outputs": [
    {
     "name": "stdout",
     "output_type": "stream",
     "text": [
      "adding vlan 2\n",
      "adding vlan 3\n",
      "adding vlan 10\n",
      "Operation took --- 0.588191032409668 seconds ---\n"
     ]
    },
    {
     "data": {
      "text/plain": [
       "[{'vlanId': '1', 'vlanName': 'default', 'vlanStatus': '1'},\n",
       " {'vlanId': '2', 'vlanName': 'TenantABC', 'vlanStatus': '1'},\n",
       " {'vlanId': '3', 'vlanName': 'management', 'vlanStatus': '1'},\n",
       " {'vlanId': '5', 'vlanName': 'DoesntBelong', 'vlanStatus': '1'},\n",
       " {'vlanId': '10', 'vlanName': 'mgmt', 'vlanStatus': '1'}]"
      ]
     },
     "execution_count": 28,
     "metadata": {},
     "output_type": "execute_result"
    }
   ],
   "source": [
    "dev_vlan_ids = [ vlan['vlanId'] for vlan in (get_dev_vlans(devid, auth.creds, auth.url))]\n",
    "add_vlans()\n",
    "get_dev_vlans(devid, auth.creds, auth.url)\n"
   ]
  },
  {
   "cell_type": "code",
   "execution_count": 29,
   "metadata": {
    "collapsed": false
   },
   "outputs": [
    {
     "data": {
      "text/plain": [
       "['1', '5']"
      ]
     },
     "execution_count": 29,
     "metadata": {},
     "output_type": "execute_result"
    }
   ],
   "source": [
    "dev_vlan_ids"
   ]
  },
  {
   "cell_type": "code",
   "execution_count": 38,
   "metadata": {
    "collapsed": false
   },
   "outputs": [
    {
     "name": "stdout",
     "output_type": "stream",
     "text": [
      "adding vlan 2\n",
      "adding vlan 3\n",
      "adding vlan 10\n",
      "Operation took --- 0.46547794342041016 seconds ---\n"
     ]
    }
   ],
   "source": [
    "dev_vlan_ids = [ vlan['vlanId'] for vlan in (get_dev_vlans(devid, auth.creds, auth.url))]\n",
    "dev_vlan_ids\n",
    "add_vlans()"
   ]
  },
  {
   "cell_type": "code",
   "execution_count": 39,
   "metadata": {
    "collapsed": false
   },
   "outputs": [
    {
     "name": "stdout",
     "output_type": "stream",
     "text": [
      "Operation took --- 5.0067901611328125e-06 seconds ---\n"
     ]
    }
   ],
   "source": [
    "dev_vlan_ids = [ vlan['vlanId'] for vlan in (get_dev_vlans(devid, auth.creds, auth.url))]\n",
    "add_vlans()"
   ]
  },
  {
   "cell_type": "code",
   "execution_count": 40,
   "metadata": {
    "collapsed": false
   },
   "outputs": [
    {
     "name": "stdout",
     "output_type": "stream",
     "text": [
      "Operation took --- 5.9604644775390625e-06 seconds ---\n"
     ]
    }
   ],
   "source": [
    "dev_vlan_ids = [ vlan['vlanId'] for vlan in (get_dev_vlans(devid, auth.creds, auth.url))]\n",
    "add_vlans()"
   ]
  },
  {
   "cell_type": "markdown",
   "metadata": {},
   "source": [
    "## Remove Undesired VLANs from Target Device"
   ]
  },
  {
   "cell_type": "code",
   "execution_count": 33,
   "metadata": {
    "collapsed": false
   },
   "outputs": [
    {
     "name": "stdout",
     "output_type": "stream",
     "text": [
      "Help on function delete_dev_vlans in module pyhpeimc.plat.vlanm:\n",
      "\n",
      "delete_dev_vlans(devid, vlanid, auth, url)\n",
      "    function takes devid and vlanid of specific device and 802.1q VLAN tag and issues a RESTFUL call to remove the\n",
      "    specified VLAN from the target device.\n",
      "    :param devid: int or str value of the target device\n",
      "    :param vlanid:\n",
      "    :return:HTTP Status code of 204 with no values.\n",
      "\n"
     ]
    }
   ],
   "source": [
    "help (delete_dev_vlans)"
   ]
  },
  {
   "cell_type": "code",
   "execution_count": 34,
   "metadata": {
    "collapsed": false
   },
   "outputs": [],
   "source": [
    "def del_vlans():\n",
    "    start_time = time.time()\n",
    "    for vlan in get_dev_vlans(devid, auth.creds, auth.url):\n",
    "        if vlan['vlanId'] not in desired_vlan_ids:\n",
    "            print (\"Deleting vlan \" + vlan['vlanId'])\n",
    "            delete_dev_vlans(devid, vlan['vlanId'], auth.creds, auth.url)\n",
    "        else:\n",
    "            print ('Not touching VLAN ' + str(vlan['vlanId']))\n",
    "    print(\"Operation took --- %s seconds ---\" % (time.time() - start_time))\n",
    "    "
   ]
  },
  {
   "cell_type": "code",
   "execution_count": 35,
   "metadata": {
    "collapsed": false
   },
   "outputs": [
    {
     "name": "stdout",
     "output_type": "stream",
     "text": [
      "Not touching VLAN 1\n",
      "Not touching VLAN 2\n",
      "Not touching VLAN 3\n",
      "Deleting vlan 5\n",
      "Vlan deleted\n",
      "Not touching VLAN 10\n",
      "Operation took --- 0.48636412620544434 seconds ---\n"
     ]
    }
   ],
   "source": [
    "del_vlans()"
   ]
  },
  {
   "cell_type": "markdown",
   "metadata": {},
   "source": [
    "# Cleaning up After Ourselves"
   ]
  },
  {
   "cell_type": "code",
   "execution_count": 36,
   "metadata": {
    "collapsed": false
   },
   "outputs": [
    {
     "name": "stdout",
     "output_type": "stream",
     "text": [
      "['1', '2', '3', '10']\n",
      "Unable to delete VLAN.\n",
      "VLAN does not Exist\n",
      "Device does not support VLAN function\n",
      "Vlan deleted\n",
      "Vlan deleted\n",
      "Vlan deleted\n"
     ]
    }
   ],
   "source": [
    "create_dev_vlan(devid, '5', 'DoesntBelong', auth.creds, auth.url)\n",
    "remove_vlans = [ vlan['vlanId'] for vlan in desired_vlan_list['vlans']]\n",
    "print (remove_vlans)\n",
    "for i in remove_vlans:\n",
    "    delete_dev_vlans(devid, i, auth.creds, auth.url)"
   ]
  },
  {
   "cell_type": "code",
   "execution_count": 37,
   "metadata": {
    "collapsed": false
   },
   "outputs": [
    {
     "data": {
      "text/plain": [
       "[{'vlanId': '1', 'vlanName': 'default', 'vlanStatus': '1'},\n",
       " {'vlanId': '5', 'vlanName': 'DoesntBelong', 'vlanStatus': '1'}]"
      ]
     },
     "execution_count": 37,
     "metadata": {},
     "output_type": "execute_result"
    }
   ],
   "source": [
    "get_dev_vlans(devid, auth.creds, auth.url)"
   ]
  },
  {
   "cell_type": "code",
   "execution_count": null,
   "metadata": {
    "collapsed": true
   },
   "outputs": [],
   "source": []
  }
 ],
 "metadata": {
  "kernelspec": {
   "display_name": "Python 3",
   "language": "python",
   "name": "python3"
  },
  "language_info": {
   "codemirror_mode": {
    "name": "ipython",
    "version": 3
   },
   "file_extension": ".py",
   "mimetype": "text/x-python",
   "name": "python",
   "nbconvert_exporter": "python",
   "pygments_lexer": "ipython3",
   "version": "3.4.3"
  }
 },
 "nbformat": 4,
 "nbformat_minor": 0
}

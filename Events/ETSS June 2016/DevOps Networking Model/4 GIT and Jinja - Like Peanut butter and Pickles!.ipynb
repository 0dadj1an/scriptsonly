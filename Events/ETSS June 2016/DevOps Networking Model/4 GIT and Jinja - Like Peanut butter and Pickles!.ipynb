{
 "cells": [
  {
   "cell_type": "code",
   "execution_count": 1,
   "metadata": {
    "collapsed": false,
    "slideshow": {
     "slide_type": "skip"
    }
   },
   "outputs": [
    {
     "data": {
      "text/html": [
       "<style>\n",
       "table {float:left}\n",
       "</style>"
      ],
      "text/plain": [
       "<IPython.core.display.HTML object>"
      ]
     },
     "metadata": {},
     "output_type": "execute_result"
    }
   ],
   "source": [
    "%%html\n",
    "<style>\n",
    "table {float:left}\n",
    "</style>"
   ]
  },
  {
   "cell_type": "markdown",
   "metadata": {
    "slideshow": {
     "slide_type": "slide"
    }
   },
   "source": [
    "# Using GITHub to build our Network Configs\n",
    "\n",
    "As I wrote in [this post](https://kontrolissues.wordpress.com/2015/12/04/2015-2015-recap-and-plans-for-the-year/), one of my goals for this year is to be able to compltely automate the build of my lab environment programatically. \n",
    "\n",
    "In the last couple of jinja posts, I wrote about the basics of Jinja2 templates and how they can be applied to building network configurations. \n",
    "\n",
    "In this post, I'm going to take the next step and move those files from my local hard drive out to...\n",
    "\n",
    "> duh duh dahhhhhhhhhh\n",
    "\n",
    "The cloud.\n",
    "\n",
    "![The cloud](http://tse1.mm.bing.net/th?&id=OIP.M3407dafc5125fa282800d982c7ea84afH0&w=300&h=200&c=0&pid=1.9&rs=0&p=0&r=0)\n",
    "\n",
    "\n"
   ]
  },
  {
   "cell_type": "markdown",
   "metadata": {
    "slideshow": {
     "slide_type": "slide"
    }
   },
   "source": [
    "# Before we get started...\n",
    "\n",
    "We're going to go over some basics on the tools we're using to make sure everyone's on the same page. cool?\n",
    "\n",
    "### What's GIT?\n",
    "\n",
    "Git is a widely-used source code management system for software development. It is a distributed revision control system with an emphasis on speed, data integrity, and support for distributed, non-linear workflows. [wikipedia](https://goo.gl/bAsYMZ)\n",
    "\n",
    "### Huh?\n",
    "\n",
    "GIT is a piece of software that allows you to track changes to files over time. \n",
    "\n",
    "### So what's GITHub?\n",
    "\n",
    "\"Where software is built\n",
    "Powerful collaboration, code review, and code management for\n",
    "open source and private projects. Public projects are always free. \" [Github.com](https://github.com/)\n",
    "\n",
    "GITHub is like facebook for developers. It's a place where you can sync your local GIT repository to a central location, and then sync that central location to other local repositories. \n",
    "\n",
    "Different people can connect to the same repository allowing multiple people to work on the same project. \n",
    "\n",
    "### What's a repository?\n",
    "\n",
    "A repository is essentially a collection of files that make up a project. You could think of it like a folder or directory. That analogy is not exact as it's possible for a repository to have multiple sub-folders or directories, but it's close enough for our purposes. \n",
    "\n",
    "### Is GIT only for Code?\n",
    "GIT was definitely designed for software developers to as a versioning control system while developing software, \n",
    "but you can use it for tracking changes to things other than \n",
    "\n",
    "You could use it for anything text format that you want to track changes to over time. For example\n",
    "- grocery lists\n",
    "- contact list\n",
    "- tracking your weight\n",
    "\n",
    "There are a lot of interesting uses for GIT, one of those that we're going to use today is looking at storing our Jinja2 templates on a public GIT repository and loading them directly into our python script as part of the code."
   ]
  },
  {
   "cell_type": "markdown",
   "metadata": {
    "slideshow": {
     "slide_type": "slide"
    }
   },
   "source": [
    "# Import Required Libraries\n",
    "\n",
    "Unles you've already got them, you'll need to  <code> pip install jinj2 </code> and <code> pip install requests </code>these two libraries before loading them into your running environment."
   ]
  },
  {
   "cell_type": "code",
   "execution_count": 2,
   "metadata": {
    "collapsed": false,
    "slideshow": {
     "slide_type": "-"
    }
   },
   "outputs": [],
   "source": [
    "import requests\n",
    "import yaml\n",
    "#import githubuser\n",
    "import mygithub\n",
    "from jinja2 import Environment, FileSystemLoader, Template"
   ]
  },
  {
   "cell_type": "markdown",
   "metadata": {
    "collapsed": true,
    "slideshow": {
     "slide_type": "slide"
    }
   },
   "source": [
    "# Loading Templates from GITHub\n",
    "\n",
    "Like with most things in python, if it's useful enough, chances are there's probably someone else who already put a library together for that. In our case, we're going to use the python [request library](http://docs.python-requests.org/en/latest/) to handle loading files directly from our [Github repository](https://github.com/netmanchris/Jinja2-Network-Configurations-Scripts/).  \n",
    "\n"
   ]
  },
  {
   "cell_type": "markdown",
   "metadata": {
    "slideshow": {
     "slide_type": "-"
    }
   },
   "source": [
    "The first thing we'll do is load the HPE comware switch template from that we used in [this post](https://kontrolissues.wordpress.com/2016/01/19/more-jinja-working-with-yam-as-an-input/).  If you wanted to take a look at this directly on github, it can be found [here](https://github.com/netmanchris/Jinja2-Network-Configurations-Scripts/blob/master/simple_comware.j2).   All we have to do is to copy and paste the URL from our browser directly into the first input of the requests.get function. \n",
    "\n",
    "*note: The requests function will return a whole object that has various attributes. the \" .text \" at the end of this tells the function to just give us the contents of the file, not of the other information, like the HTTP status_code. *\n",
    "\n",
    "Simple, right?"
   ]
  },
  {
   "cell_type": "code",
   "execution_count": 3,
   "metadata": {
    "collapsed": false,
    "slideshow": {
     "slide_type": "-"
    }
   },
   "outputs": [],
   "source": [
    "comware_template = requests.get('https://github.com/netmanchris/Jinja2-Network-Configurations-Scripts/blob/master/simple_comware.j2').text"
   ]
  },
  {
   "cell_type": "markdown",
   "metadata": {
    "slideshow": {
     "slide_type": "slide"
    }
   },
   "source": [
    "## Looking at the output\n",
    "\n",
    "So now that we've loaded the contents of the simple_comware.j2 template directly from the Github site into the comware_template variable. Let's take a look to make sure that we have what we need."
   ]
  },
  {
   "cell_type": "code",
   "execution_count": 4,
   "metadata": {
    "collapsed": false
   },
   "outputs": [
    {
     "name": "stdout",
     "output_type": "stream",
     "text": [
      "\n",
      "\n",
      "\n",
      "\n",
      "<!DOCTYPE html>\n",
      "<html lang=\"en\" class=\"\">\n",
      "  <head prefix=\"og: http://ogp.me/ns# fb: http://ogp.me/ns/fb# object: http://ogp.me/ns/object# article: http://ogp.me/ns/article# profile: http://ogp.me/ns/profile#\">\n",
      "    <meta charset='utf-8'>\n",
      "\n",
      "    <link crossorigin=\"anonymous\" href=\"https://assets-cdn.github.com/assets/frameworks-d05617edbd0684501ca011b9998eb456541d8156ca96d8ffcfb175827827f62c.css\" media=\"all\" rel=\"stylesheet\" />\n",
      "    <link crossorigin=\"anonymous\" href=\"https://assets-cdn.github.com/assets/github-a5740f61dda90caedf6fe1f31c4049c578b906cca54de55bb297aff18eb0ff08.css\" media=\"all\" rel=\"stylesheet\" />\n",
      "    \n",
      "    \n",
      "    <link crossorigin=\"anonymous\" href=\"https://assets-cdn.github.com/assets/site-0996ced1a40a04be84d932b2c830830a2c87259cfb5c41c90ca7fee0c5979e9d.css\" media=\"all\" rel=\"stylesheet\" />\n",
      "    \n",
      "\n",
      "    <link as=\"script\" href=\"https://assets-cdn.github.com/assets/frameworks-7162beea272a856d06e084945fd8026a47bbb9e7eb295d95b60ea82b26c27296.js\" rel=\"preload\" />\n",
      "    \n",
      "    <link as=\"script\" href=\"https://assets-cdn.github.com/assets/github-cb6ab72bc83e90e83a429b044f460572dc5ea6fb1b5894fc185c79e9389986f0.js\" rel=\"preload\" />\n",
      "\n",
      "    <meta http-equiv=\"X-UA-Compatible\" content=\"IE=edge\">\n",
      "    <meta http-equiv=\"Content-Language\" content=\"en\">\n",
      "    <meta name=\"viewport\" content=\"width=device-width\">\n",
      "    \n",
      "    \n",
      "    <title>Jinja2-Network-Configurations-Scripts/simple_comware.j2 at master · netmanchris/Jinja2-Network-Configurations-Scripts · GitHub</title>\n",
      "    <link rel=\"search\" type=\"application/opensearchdescription+xml\" href=\"/opensearch.xml\" title=\"GitHub\">\n",
      "    <link rel=\"fluid-icon\" href=\"https://github.com/fluidicon.png\" title=\"GitHub\">\n",
      "    <link rel=\"apple-touch-icon\" href=\"/apple-touch-icon.png\">\n",
      "    <link rel=\"apple-touch-icon\" sizes=\"57x57\" href=\"/apple-touch-icon-57x57.png\">\n",
      "    <link rel=\"apple-touch-icon\" sizes=\"60x60\" href=\"/apple-touch-icon-60x60.png\">\n",
      "    <link rel=\"apple-touch-icon\" sizes=\"72x72\" href=\"/apple-touch-icon-72x72.png\">\n",
      "    <link rel=\"apple-touch-icon\" sizes=\"76x76\" href=\"/apple-touch-icon-76x76.png\">\n",
      "    <link rel=\"apple-touch-icon\" sizes=\"114x114\" href=\"/apple-touch-icon-114x114.png\">\n",
      "    <link rel=\"apple-touch-icon\" sizes=\"120x120\" href=\"/apple-touch-icon-120x120.png\">\n",
      "    <link rel=\"apple-touch-icon\" sizes=\"144x144\" href=\"/apple-touch-icon-144x144.png\">\n",
      "    <link rel=\"apple-touch-icon\" sizes=\"152x152\" href=\"/apple-touch-icon-152x152.png\">\n",
      "    <link rel=\"apple-touch-icon\" sizes=\"180x180\" href=\"/apple-touch-icon-180x180.png\">\n",
      "    <meta property=\"fb:app_id\" content=\"1401488693436528\">\n",
      "\n",
      "      <meta content=\"https://avatars1.githubusercontent.com/u/9815146?v=3&amp;s=400\" name=\"twitter:image:src\" /><meta content=\"@github\" name=\"twitter:site\" /><meta content=\"summary\" name=\"twitter:card\" /><meta content=\"netmanchris/Jinja2-Network-Configurations-Scripts\" name=\"twitter:title\" /><meta content=\"Jinja2-Network-Configurations-Scripts - Network Configuration Scripts\" name=\"twitter:description\" />\n",
      "      <meta content=\"https://avatars1.githubusercontent.com/u/9815146?v=3&amp;s=400\" property=\"og:image\" /><meta content=\"GitHub\" property=\"og:site_name\" /><meta content=\"object\" property=\"og:type\" /><meta content=\"netmanchris/Jinja2-Network-Configurations-Scripts\" property=\"og:title\" /><meta content=\"https://github.com/netmanchris/Jinja2-Network-Configurations-Scripts\" property=\"og:url\" /><meta content=\"Jinja2-Network-Configurations-Scripts - Network Configuration Scripts\" property=\"og:description\" />\n",
      "      <meta name=\"browser-stats-url\" content=\"https://api.github.com/_private/browser/stats\">\n",
      "    <meta name=\"browser-errors-url\" content=\"https://api.github.com/_private/browser/errors\">\n",
      "    <link rel=\"assets\" href=\"https://assets-cdn.github.com/\">\n",
      "    \n",
      "    <meta name=\"pjax-timeout\" content=\"1000\">\n",
      "    \n",
      "\n",
      "    <meta name=\"msapplication-TileImage\" content=\"/windows-tile.png\">\n",
      "    <meta name=\"msapplication-TileColor\" content=\"#ffffff\">\n",
      "    <meta name=\"selected-link\" value=\"repo_source\" data-pjax-transient>\n",
      "\n",
      "    <meta name=\"google-site-verification\" content=\"KT5gs8h0wvaagLKAVWq8bbeNwnZZK1r1XQysX3xurLU\">\n",
      "<meta name=\"google-site-verification\" content=\"ZzhVyEFwb7w3e0-uOTltm8Jsck2F5StVihD0exw2fsA\">\n",
      "    <meta name=\"google-analytics\" content=\"UA-3769691-2\">\n",
      "\n",
      "<meta content=\"collector.githubapp.com\" name=\"octolytics-host\" /><meta content=\"github\" name=\"octolytics-app-id\" /><meta content=\"C20EA614:76D4:9D305A6:575E82F0\" name=\"octolytics-dimension-request_id\" />\n",
      "<meta content=\"/&lt;user-name&gt;/&lt;repo-name&gt;/blob/show\" data-pjax-transient=\"true\" name=\"analytics-location\" />\n",
      "\n",
      "\n",
      "\n",
      "  <meta class=\"js-ga-set\" name=\"dimension1\" content=\"Logged Out\">\n",
      "\n",
      "\n",
      "\n",
      "        <meta name=\"hostname\" content=\"github.com\">\n",
      "    <meta name=\"user-login\" content=\"\">\n",
      "\n",
      "        <meta name=\"expected-hostname\" content=\"github.com\">\n",
      "      <meta name=\"js-proxy-site-detection-payload\" content=\"M2VhYjk3YzYwMDNiZjMxNGZjZGNjMTA3MmVjMGU3ZTU2NWZhZTdmMzBlNWNlNjE0OTQ1YTdiYjYzMTM1OTVkZHx7InJlbW90ZV9hZGRyZXNzIjoiMTk0LjE0LjE2Ni4yMCIsInJlcXVlc3RfaWQiOiJDMjBFQTYxNDo3NkQ0OjlEMzA1QTY6NTc1RTgyRjAiLCJ0aW1lc3RhbXAiOjE0NjU4MTE2OTZ9\">\n",
      "\n",
      "\n",
      "      <link rel=\"mask-icon\" href=\"https://assets-cdn.github.com/pinned-octocat.svg\" color=\"#4078c0\">\n",
      "      <link rel=\"icon\" type=\"image/x-icon\" href=\"https://assets-cdn.github.com/favicon.ico\">\n",
      "\n",
      "    <meta name=\"html-safe-nonce\" content=\"4a01eef03d9e37f784168cec82f85ade74ac23a0\">\n",
      "    <meta content=\"2b2c8563cf4f7186dc51231dc17b2b215f7d3941\" name=\"form-nonce\" />\n",
      "\n",
      "    <meta http-equiv=\"x-pjax-version\" content=\"46f108ca66e01da98c38cf52e08c76c9\">\n",
      "    \n",
      "\n",
      "      \n",
      "  <meta name=\"description\" content=\"Jinja2-Network-Configurations-Scripts - Network Configuration Scripts\">\n",
      "  <meta name=\"go-import\" content=\"github.com/netmanchris/Jinja2-Network-Configurations-Scripts git https://github.com/netmanchris/Jinja2-Network-Configurations-Scripts.git\">\n",
      "\n",
      "  <meta content=\"9815146\" name=\"octolytics-dimension-user_id\" /><meta content=\"netmanchris\" name=\"octolytics-dimension-user_login\" /><meta content=\"39023270\" name=\"octolytics-dimension-repository_id\" /><meta content=\"netmanchris/Jinja2-Network-Configurations-Scripts\" name=\"octolytics-dimension-repository_nwo\" /><meta content=\"true\" name=\"octolytics-dimension-repository_public\" /><meta content=\"false\" name=\"octolytics-dimension-repository_is_fork\" /><meta content=\"39023270\" name=\"octolytics-dimension-repository_network_root_id\" /><meta content=\"netmanchris/Jinja2-Network-Configurations-Scripts\" name=\"octolytics-dimension-repository_network_root_nwo\" />\n",
      "  <link href=\"https://github.com/netmanchris/Jinja2-Network-Configurations-Scripts/commits/master.atom\" rel=\"alternate\" title=\"Recent Commits to Jinja2-Network-Configurations-Scripts:master\" type=\"application/atom+xml\">\n",
      "\n",
      "\n",
      "      <link rel=\"canonical\" href=\"https://github.com/netmanchris/Jinja2-Network-Configurations-Scripts/blob/master/simple_comware.j2\" data-pjax-transient>\n",
      "  </head>\n",
      "\n",
      "\n",
      "  <body class=\"logged-out   env-production  vis-public page-blob\">\n",
      "    <div id=\"js-pjax-loader-bar\" class=\"pjax-loader-bar\"></div>\n",
      "    <a href=\"#start-of-content\" tabindex=\"1\" class=\"accessibility-aid js-skip-to-content\">Skip to content</a>\n",
      "\n",
      "    \n",
      "    \n",
      "    \n",
      "\n",
      "\n",
      "\n",
      "          <header class=\"site-header js-details-container\" role=\"banner\">\n",
      "  <div class=\"container-responsive\">\n",
      "    <a class=\"header-logo-invertocat\" href=\"https://github.com/\" aria-label=\"Homepage\" data-ga-click=\"(Logged out) Header, go to homepage, icon:logo-wordmark\">\n",
      "      <svg aria-hidden=\"true\" class=\"octicon octicon-mark-github\" height=\"32\" version=\"1.1\" viewBox=\"0 0 16 16\" width=\"32\"><path d=\"M8 0C3.58 0 0 3.58 0 8c0 3.54 2.29 6.53 5.47 7.59.4.07.55-.17.55-.38 0-.19-.01-.82-.01-1.49-2.01.37-2.53-.49-2.69-.94-.09-.23-.48-.94-.82-1.13-.28-.15-.68-.52-.01-.53.63-.01 1.08.58 1.23.82.72 1.21 1.87.87 2.33.66.07-.52.28-.87.51-1.07-1.78-.2-3.64-.89-3.64-3.95 0-.87.31-1.59.82-2.15-.08-.2-.36-1.02.08-2.12 0 0 .67-.21 2.2.82.64-.18 1.32-.27 2-.27.68 0 1.36.09 2 .27 1.53-1.04 2.2-.82 2.2-.82.44 1.1.16 1.92.08 2.12.51.56.82 1.27.82 2.15 0 3.07-1.87 3.75-3.65 3.95.29.25.54.73.54 1.48 0 1.07-.01 1.93-.01 2.2 0 .21.15.46.55.38A8.013 8.013 0 0 0 16 8c0-4.42-3.58-8-8-8z\"></path></svg>\n",
      "    </a>\n",
      "\n",
      "    <button class=\"btn-link right site-header-toggle js-details-target\" type=\"button\" aria-label=\"Toggle navigation\">\n",
      "      <svg aria-hidden=\"true\" class=\"octicon octicon-three-bars\" height=\"24\" version=\"1.1\" viewBox=\"0 0 12 16\" width=\"18\"><path d=\"M11.41 9H.59C0 9 0 8.59 0 8c0-.59 0-1 .59-1H11.4c.59 0 .59.41.59 1 0 .59 0 1-.59 1h.01zm0-4H.59C0 5 0 4.59 0 4c0-.59 0-1 .59-1H11.4c.59 0 .59.41.59 1 0 .59 0 1-.59 1h.01zM.59 11H11.4c.59 0 .59.41.59 1 0 .59 0 1-.59 1H.59C0 13 0 12.59 0 12c0-.59 0-1 .59-1z\"></path></svg>\n",
      "    </button>\n",
      "\n",
      "    <div class=\"site-header-menu\">\n",
      "      <nav class=\"site-header-nav site-header-nav-main\">\n",
      "        <a href=\"/personal\" class=\"js-selected-navigation-item nav-item nav-item-personal\" data-ga-click=\"Header, click, Nav menu - item:personal\" data-selected-links=\"/personal /personal\">\n",
      "          Personal\n",
      "</a>        <a href=\"/open-source\" class=\"js-selected-navigation-item nav-item nav-item-opensource\" data-ga-click=\"Header, click, Nav menu - item:opensource\" data-selected-links=\"/open-source /open-source\">\n",
      "          Open source\n",
      "</a>        <a href=\"/business\" class=\"js-selected-navigation-item nav-item nav-item-business\" data-ga-click=\"Header, click, Nav menu - item:business\" data-selected-links=\"/business /business/features /business/customers /business\">\n",
      "          Business\n",
      "</a>        <a href=\"/explore\" class=\"js-selected-navigation-item nav-item nav-item-explore\" data-ga-click=\"Header, click, Nav menu - item:explore\" data-selected-links=\"/explore /trending /trending/developers /integrations /integrations/feature/code /integrations/feature/collaborate /integrations/feature/ship /explore\">\n",
      "          Explore\n",
      "</a>      </nav>\n",
      "\n",
      "      <div class=\"site-header-actions\">\n",
      "            <a class=\"btn btn-primary site-header-actions-btn\" href=\"/join?source=header-repo\" data-ga-click=\"(Logged out) Header, clicked Sign up, text:sign-up\">Sign up</a>\n",
      "          <a class=\"btn site-header-actions-btn mr-2\" href=\"/login?return_to=%2Fnetmanchris%2FJinja2-Network-Configurations-Scripts%2Fblob%2Fmaster%2Fsimple_comware.j2\" data-ga-click=\"(Logged out) Header, clicked Sign in, text:sign-in\">Sign in</a>\n",
      "      </div>\n",
      "\n",
      "        <nav class=\"site-header-nav site-header-nav-secondary\">\n",
      "          <a class=\"nav-item\" href=\"/pricing\">Pricing</a>\n",
      "          <a class=\"nav-item\" href=\"/blog\">Blog</a>\n",
      "          <a class=\"nav-item\" href=\"https://help.github.com\">Support</a>\n",
      "          <a class=\"nav-item header-search-link\" href=\"https://github.com/search\">Search GitHub</a>\n",
      "              <div class=\"header-search scoped-search site-scoped-search js-site-search\" role=\"search\">\n",
      "  <!-- </textarea> --><!-- '\"` --><form accept-charset=\"UTF-8\" action=\"/netmanchris/Jinja2-Network-Configurations-Scripts/search\" class=\"js-site-search-form\" data-scoped-search-url=\"/netmanchris/Jinja2-Network-Configurations-Scripts/search\" data-unscoped-search-url=\"/search\" method=\"get\"><div style=\"margin:0;padding:0;display:inline\"><input name=\"utf8\" type=\"hidden\" value=\"&#x2713;\" /></div>\n",
      "    <label class=\"form-control header-search-wrapper js-chromeless-input-container\">\n",
      "      <div class=\"header-search-scope\">This repository</div>\n",
      "      <input type=\"text\"\n",
      "        class=\"form-control header-search-input js-site-search-focus js-site-search-field is-clearable\"\n",
      "        data-hotkey=\"s\"\n",
      "        name=\"q\"\n",
      "        placeholder=\"Search\"\n",
      "        aria-label=\"Search this repository\"\n",
      "        data-unscoped-placeholder=\"Search GitHub\"\n",
      "        data-scoped-placeholder=\"Search\"\n",
      "        tabindex=\"1\"\n",
      "        autocapitalize=\"off\">\n",
      "    </label>\n",
      "</form></div>\n",
      "\n",
      "        </nav>\n",
      "    </div>\n",
      "  </div>\n",
      "</header>\n",
      "\n",
      "\n",
      "\n",
      "    <div id=\"start-of-content\" class=\"accessibility-aid\"></div>\n",
      "\n",
      "      <div id=\"js-flash-container\">\n",
      "</div>\n",
      "\n",
      "\n",
      "    <div role=\"main\" class=\"main-content\">\n",
      "        <div itemscope itemtype=\"http://schema.org/SoftwareSourceCode\">\n",
      "    <div id=\"js-repo-pjax-container\" data-pjax-container>\n",
      "      \n",
      "<div class=\"pagehead repohead instapaper_ignore readability-menu experiment-repo-nav\">\n",
      "  <div class=\"container repohead-details-container\">\n",
      "\n",
      "    \n",
      "\n",
      "<ul class=\"pagehead-actions\">\n",
      "\n",
      "  <li>\n",
      "      <a href=\"/login?return_to=%2Fnetmanchris%2FJinja2-Network-Configurations-Scripts\"\n",
      "    class=\"btn btn-sm btn-with-count tooltipped tooltipped-n\"\n",
      "    aria-label=\"You must be signed in to watch a repository\" rel=\"nofollow\">\n",
      "    <svg aria-hidden=\"true\" class=\"octicon octicon-eye\" height=\"16\" version=\"1.1\" viewBox=\"0 0 16 16\" width=\"16\"><path d=\"M8.06 2C3 2 0 8 0 8s3 6 8.06 6C13 14 16 8 16 8s-3-6-7.94-6zM8 12c-2.2 0-4-1.78-4-4 0-2.2 1.8-4 4-4 2.22 0 4 1.8 4 4 0 2.22-1.78 4-4 4zm2-4c0 1.11-.89 2-2 2-1.11 0-2-.89-2-2 0-1.11.89-2 2-2 1.11 0 2 .89 2 2z\"></path></svg>\n",
      "    Watch\n",
      "  </a>\n",
      "  <a class=\"social-count\" href=\"/netmanchris/Jinja2-Network-Configurations-Scripts/watchers\">\n",
      "    5\n",
      "  </a>\n",
      "\n",
      "  </li>\n",
      "\n",
      "  <li>\n",
      "      <a href=\"/login?return_to=%2Fnetmanchris%2FJinja2-Network-Configurations-Scripts\"\n",
      "    class=\"btn btn-sm btn-with-count tooltipped tooltipped-n\"\n",
      "    aria-label=\"You must be signed in to star a repository\" rel=\"nofollow\">\n",
      "    <svg aria-hidden=\"true\" class=\"octicon octicon-star\" height=\"16\" version=\"1.1\" viewBox=\"0 0 14 16\" width=\"14\"><path d=\"M14 6l-4.9-.64L7 1 4.9 5.36 0 6l3.6 3.26L2.67 14 7 11.67 11.33 14l-.93-4.74z\"></path></svg>\n",
      "    Star\n",
      "  </a>\n",
      "\n",
      "    <a class=\"social-count js-social-count\" href=\"/netmanchris/Jinja2-Network-Configurations-Scripts/stargazers\">\n",
      "      1\n",
      "    </a>\n",
      "\n",
      "  </li>\n",
      "\n",
      "  <li>\n",
      "      <a href=\"/login?return_to=%2Fnetmanchris%2FJinja2-Network-Configurations-Scripts\"\n",
      "        class=\"btn btn-sm btn-with-count tooltipped tooltipped-n\"\n",
      "        aria-label=\"You must be signed in to fork a repository\" rel=\"nofollow\">\n",
      "        <svg aria-hidden=\"true\" class=\"octicon octicon-repo-forked\" height=\"16\" version=\"1.1\" viewBox=\"0 0 10 16\" width=\"10\"><path d=\"M8 1a1.993 1.993 0 0 0-1 3.72V6L5 8 3 6V4.72A1.993 1.993 0 0 0 2 1a1.993 1.993 0 0 0-1 3.72V6.5l3 3v1.78A1.993 1.993 0 0 0 5 15a1.993 1.993 0 0 0 1-3.72V9.5l3-3V4.72A1.993 1.993 0 0 0 8 1zM2 4.2C1.34 4.2.8 3.65.8 3c0-.65.55-1.2 1.2-1.2.65 0 1.2.55 1.2 1.2 0 .65-.55 1.2-1.2 1.2zm3 10c-.66 0-1.2-.55-1.2-1.2 0-.65.55-1.2 1.2-1.2.65 0 1.2.55 1.2 1.2 0 .65-.55 1.2-1.2 1.2zm3-10c-.66 0-1.2-.55-1.2-1.2 0-.65.55-1.2 1.2-1.2.65 0 1.2.55 1.2 1.2 0 .65-.55 1.2-1.2 1.2z\"></path></svg>\n",
      "        Fork\n",
      "      </a>\n",
      "\n",
      "    <a href=\"/netmanchris/Jinja2-Network-Configurations-Scripts/network\" class=\"social-count\">\n",
      "      2\n",
      "    </a>\n",
      "  </li>\n",
      "</ul>\n",
      "\n",
      "    <h1 class=\"public \">\n",
      "  <svg aria-hidden=\"true\" class=\"octicon octicon-repo\" height=\"16\" version=\"1.1\" viewBox=\"0 0 12 16\" width=\"12\"><path d=\"M4 9H3V8h1v1zm0-3H3v1h1V6zm0-2H3v1h1V4zm0-2H3v1h1V2zm8-1v12c0 .55-.45 1-1 1H6v2l-1.5-1.5L3 16v-2H1c-.55 0-1-.45-1-1V1c0-.55.45-1 1-1h10c.55 0 1 .45 1 1zm-1 10H1v2h2v-1h3v1h5v-2zm0-10H2v9h9V1z\"></path></svg>\n",
      "  <span class=\"author\" itemprop=\"author\"><a href=\"/netmanchris\" class=\"url fn\" rel=\"author\">netmanchris</a></span><!--\n",
      "--><span class=\"path-divider\">/</span><!--\n",
      "--><strong itemprop=\"name\"><a href=\"/netmanchris/Jinja2-Network-Configurations-Scripts\" data-pjax=\"#js-repo-pjax-container\">Jinja2-Network-Configurations-Scripts</a></strong>\n",
      "\n",
      "</h1>\n",
      "\n",
      "  </div>\n",
      "  <div class=\"container\">\n",
      "    \n",
      "<nav class=\"reponav js-repo-nav js-sidenav-container-pjax\"\n",
      "     itemscope\n",
      "     itemtype=\"http://schema.org/BreadcrumbList\"\n",
      "     role=\"navigation\"\n",
      "     data-pjax=\"#js-repo-pjax-container\">\n",
      "\n",
      "  <span itemscope itemtype=\"http://schema.org/ListItem\" itemprop=\"itemListElement\">\n",
      "    <a href=\"/netmanchris/Jinja2-Network-Configurations-Scripts\" aria-selected=\"true\" class=\"js-selected-navigation-item selected reponav-item\" data-hotkey=\"g c\" data-selected-links=\"repo_source repo_downloads repo_commits repo_releases repo_tags repo_branches /netmanchris/Jinja2-Network-Configurations-Scripts\" itemprop=\"url\">\n",
      "      <svg aria-hidden=\"true\" class=\"octicon octicon-code\" height=\"16\" version=\"1.1\" viewBox=\"0 0 14 16\" width=\"14\"><path d=\"M9.5 3L8 4.5 11.5 8 8 11.5 9.5 13 14 8 9.5 3zm-5 0L0 8l4.5 5L6 11.5 2.5 8 6 4.5 4.5 3z\"></path></svg>\n",
      "      <span itemprop=\"name\">Code</span>\n",
      "      <meta itemprop=\"position\" content=\"1\">\n",
      "</a>  </span>\n",
      "\n",
      "    <span itemscope itemtype=\"http://schema.org/ListItem\" itemprop=\"itemListElement\">\n",
      "      <a href=\"/netmanchris/Jinja2-Network-Configurations-Scripts/issues\" class=\"js-selected-navigation-item reponav-item\" data-hotkey=\"g i\" data-selected-links=\"repo_issues repo_labels repo_milestones /netmanchris/Jinja2-Network-Configurations-Scripts/issues\" itemprop=\"url\">\n",
      "        <svg aria-hidden=\"true\" class=\"octicon octicon-issue-opened\" height=\"16\" version=\"1.1\" viewBox=\"0 0 14 16\" width=\"14\"><path d=\"M7 2.3c3.14 0 5.7 2.56 5.7 5.7s-2.56 5.7-5.7 5.7A5.71 5.71 0 0 1 1.3 8c0-3.14 2.56-5.7 5.7-5.7zM7 1C3.14 1 0 4.14 0 8s3.14 7 7 7 7-3.14 7-7-3.14-7-7-7zm1 3H6v5h2V4zm0 6H6v2h2v-2z\"></path></svg>\n",
      "        <span itemprop=\"name\">Issues</span>\n",
      "        <span class=\"counter\">0</span>\n",
      "        <meta itemprop=\"position\" content=\"2\">\n",
      "</a>    </span>\n",
      "\n",
      "  <span itemscope itemtype=\"http://schema.org/ListItem\" itemprop=\"itemListElement\">\n",
      "    <a href=\"/netmanchris/Jinja2-Network-Configurations-Scripts/pulls\" class=\"js-selected-navigation-item reponav-item\" data-hotkey=\"g p\" data-selected-links=\"repo_pulls /netmanchris/Jinja2-Network-Configurations-Scripts/pulls\" itemprop=\"url\">\n",
      "      <svg aria-hidden=\"true\" class=\"octicon octicon-git-pull-request\" height=\"16\" version=\"1.1\" viewBox=\"0 0 12 16\" width=\"12\"><path d=\"M11 11.28V5c-.03-.78-.34-1.47-.94-2.06C9.46 2.35 8.78 2.03 8 2H7V0L4 3l3 3V4h1c.27.02.48.11.69.31.21.2.3.42.31.69v6.28A1.993 1.993 0 0 0 10 15a1.993 1.993 0 0 0 1-3.72zm-1 2.92c-.66 0-1.2-.55-1.2-1.2 0-.65.55-1.2 1.2-1.2.65 0 1.2.55 1.2 1.2 0 .65-.55 1.2-1.2 1.2zM4 3c0-1.11-.89-2-2-2a1.993 1.993 0 0 0-1 3.72v6.56A1.993 1.993 0 0 0 2 15a1.993 1.993 0 0 0 1-3.72V4.72c.59-.34 1-.98 1-1.72zm-.8 10c0 .66-.55 1.2-1.2 1.2-.65 0-1.2-.55-1.2-1.2 0-.65.55-1.2 1.2-1.2.65 0 1.2.55 1.2 1.2zM2 4.2C1.34 4.2.8 3.65.8 3c0-.65.55-1.2 1.2-1.2.65 0 1.2.55 1.2 1.2 0 .65-.55 1.2-1.2 1.2z\"></path></svg>\n",
      "      <span itemprop=\"name\">Pull requests</span>\n",
      "      <span class=\"counter\">1</span>\n",
      "      <meta itemprop=\"position\" content=\"3\">\n",
      "</a>  </span>\n",
      "\n",
      "\n",
      "\n",
      "  <a href=\"/netmanchris/Jinja2-Network-Configurations-Scripts/pulse\" class=\"js-selected-navigation-item reponav-item\" data-selected-links=\"pulse /netmanchris/Jinja2-Network-Configurations-Scripts/pulse\">\n",
      "    <svg aria-hidden=\"true\" class=\"octicon octicon-pulse\" height=\"16\" version=\"1.1\" viewBox=\"0 0 14 16\" width=\"14\"><path d=\"M11.5 8L8.8 5.4 6.6 8.5 5.5 1.6 2.38 8H0v2h3.6l.9-1.8.9 5.4L9 8.5l1.6 1.5H14V8z\"></path></svg>\n",
      "    Pulse\n",
      "</a>\n",
      "  <a href=\"/netmanchris/Jinja2-Network-Configurations-Scripts/graphs\" class=\"js-selected-navigation-item reponav-item\" data-selected-links=\"repo_graphs repo_contributors /netmanchris/Jinja2-Network-Configurations-Scripts/graphs\">\n",
      "    <svg aria-hidden=\"true\" class=\"octicon octicon-graph\" height=\"16\" version=\"1.1\" viewBox=\"0 0 16 16\" width=\"16\"><path d=\"M16 14v1H0V0h1v14h15zM5 13H3V8h2v5zm4 0H7V3h2v10zm4 0h-2V6h2v7z\"></path></svg>\n",
      "    Graphs\n",
      "</a>\n",
      "\n",
      "</nav>\n",
      "\n",
      "  </div>\n",
      "</div>\n",
      "\n",
      "<div class=\"container new-discussion-timeline experiment-repo-nav\">\n",
      "  <div class=\"repository-content\">\n",
      "\n",
      "    \n",
      "\n",
      "<a href=\"/netmanchris/Jinja2-Network-Configurations-Scripts/blob/fc02696f5af22a359fc881e9317ae2a71cc80c14/simple_comware.j2\" class=\"hidden js-permalink-shortcut\" data-hotkey=\"y\">Permalink</a>\n",
      "\n",
      "<!-- blob contrib key: blob_contributors:v21:d75b7c9a36c8f97125dd1a803c96b7bb -->\n",
      "\n",
      "<div class=\"file-navigation js-zeroclipboard-container\">\n",
      "  \n",
      "<div class=\"select-menu branch-select-menu js-menu-container js-select-menu left\">\n",
      "  <button class=\"btn btn-sm select-menu-button js-menu-target css-truncate\" data-hotkey=\"w\"\n",
      "    title=\"master\"\n",
      "    type=\"button\" aria-label=\"Switch branches or tags\" tabindex=\"0\" aria-haspopup=\"true\">\n",
      "    <i>Branch:</i>\n",
      "    <span class=\"js-select-button css-truncate-target\">master</span>\n",
      "  </button>\n",
      "\n",
      "  <div class=\"select-menu-modal-holder js-menu-content js-navigation-container\" data-pjax aria-hidden=\"true\">\n",
      "\n",
      "    <div class=\"select-menu-modal\">\n",
      "      <div class=\"select-menu-header\">\n",
      "        <svg aria-label=\"Close\" class=\"octicon octicon-x js-menu-close\" height=\"16\" role=\"img\" version=\"1.1\" viewBox=\"0 0 12 16\" width=\"12\"><path d=\"M7.48 8l3.75 3.75-1.48 1.48L6 9.48l-3.75 3.75-1.48-1.48L4.52 8 .77 4.25l1.48-1.48L6 6.52l3.75-3.75 1.48 1.48z\"></path></svg>\n",
      "        <span class=\"select-menu-title\">Switch branches/tags</span>\n",
      "      </div>\n",
      "\n",
      "      <div class=\"select-menu-filters\">\n",
      "        <div class=\"select-menu-text-filter\">\n",
      "          <input type=\"text\" aria-label=\"Filter branches/tags\" id=\"context-commitish-filter-field\" class=\"form-control js-filterable-field js-navigation-enable\" placeholder=\"Filter branches/tags\">\n",
      "        </div>\n",
      "        <div class=\"select-menu-tabs\">\n",
      "          <ul>\n",
      "            <li class=\"select-menu-tab\">\n",
      "              <a href=\"#\" data-tab-filter=\"branches\" data-filter-placeholder=\"Filter branches/tags\" class=\"js-select-menu-tab\" role=\"tab\">Branches</a>\n",
      "            </li>\n",
      "            <li class=\"select-menu-tab\">\n",
      "              <a href=\"#\" data-tab-filter=\"tags\" data-filter-placeholder=\"Find a tag…\" class=\"js-select-menu-tab\" role=\"tab\">Tags</a>\n",
      "            </li>\n",
      "          </ul>\n",
      "        </div>\n",
      "      </div>\n",
      "\n",
      "      <div class=\"select-menu-list select-menu-tab-bucket js-select-menu-tab-bucket\" data-tab-filter=\"branches\" role=\"menu\">\n",
      "\n",
      "        <div data-filterable-for=\"context-commitish-filter-field\" data-filterable-type=\"substring\">\n",
      "\n",
      "\n",
      "            <a class=\"select-menu-item js-navigation-item js-navigation-open selected\"\n",
      "               href=\"/netmanchris/Jinja2-Network-Configurations-Scripts/blob/master/simple_comware.j2\"\n",
      "               data-name=\"master\"\n",
      "               data-skip-pjax=\"true\"\n",
      "               rel=\"nofollow\">\n",
      "              <svg aria-hidden=\"true\" class=\"octicon octicon-check select-menu-item-icon\" height=\"16\" version=\"1.1\" viewBox=\"0 0 12 16\" width=\"12\"><path d=\"M12 5l-8 8-4-4 1.5-1.5L4 10l6.5-6.5z\"></path></svg>\n",
      "              <span class=\"select-menu-item-text css-truncate-target js-select-menu-filter-text\" title=\"master\">\n",
      "                master\n",
      "              </span>\n",
      "            </a>\n",
      "        </div>\n",
      "\n",
      "          <div class=\"select-menu-no-results\">Nothing to show</div>\n",
      "      </div>\n",
      "\n",
      "      <div class=\"select-menu-list select-menu-tab-bucket js-select-menu-tab-bucket\" data-tab-filter=\"tags\">\n",
      "        <div data-filterable-for=\"context-commitish-filter-field\" data-filterable-type=\"substring\">\n",
      "\n",
      "\n",
      "        </div>\n",
      "\n",
      "        <div class=\"select-menu-no-results\">Nothing to show</div>\n",
      "      </div>\n",
      "\n",
      "    </div>\n",
      "  </div>\n",
      "</div>\n",
      "\n",
      "  <div class=\"btn-group right\">\n",
      "    <a href=\"/netmanchris/Jinja2-Network-Configurations-Scripts/find/master\"\n",
      "          class=\"js-pjax-capture-input btn btn-sm\"\n",
      "          data-pjax\n",
      "          data-hotkey=\"t\">\n",
      "      Find file\n",
      "    </a>\n",
      "    <button aria-label=\"Copy file path to clipboard\" class=\"js-zeroclipboard btn btn-sm zeroclipboard-button tooltipped tooltipped-s\" data-copied-hint=\"Copied!\" type=\"button\">Copy path</button>\n",
      "  </div>\n",
      "  <div class=\"breadcrumb js-zeroclipboard-target\">\n",
      "    <span class=\"repo-root js-repo-root\"><span class=\"js-path-segment\"><a href=\"/netmanchris/Jinja2-Network-Configurations-Scripts\"><span>Jinja2-Network-Configurations-Scripts</span></a></span></span><span class=\"separator\">/</span><strong class=\"final-path\">simple_comware.j2</strong>\n",
      "  </div>\n",
      "</div>\n",
      "\n",
      "<include-fragment class=\"commit-tease\" src=\"/netmanchris/Jinja2-Network-Configurations-Scripts/contributors/master/simple_comware.j2\">\n",
      "  <div>\n",
      "    Fetching contributors&hellip;\n",
      "  </div>\n",
      "\n",
      "  <div class=\"commit-tease-contributors\">\n",
      "    <img alt=\"\" class=\"loader-loading left\" height=\"16\" src=\"https://assets-cdn.github.com/images/spinners/octocat-spinner-32-EAF2F5.gif\" width=\"16\" />\n",
      "    <span class=\"loader-error\">Cannot retrieve contributors at this time</span>\n",
      "  </div>\n",
      "</include-fragment>\n",
      "<div class=\"file\">\n",
      "  <div class=\"file-header\">\n",
      "  <div class=\"file-actions\">\n",
      "\n",
      "    <div class=\"btn-group\">\n",
      "      <a href=\"/netmanchris/Jinja2-Network-Configurations-Scripts/raw/master/simple_comware.j2\" class=\"btn btn-sm \" id=\"raw-url\">Raw</a>\n",
      "        <a href=\"/netmanchris/Jinja2-Network-Configurations-Scripts/blame/master/simple_comware.j2\" class=\"btn btn-sm js-update-url-with-hash\">Blame</a>\n",
      "      <a href=\"/netmanchris/Jinja2-Network-Configurations-Scripts/commits/master/simple_comware.j2\" class=\"btn btn-sm \" rel=\"nofollow\">History</a>\n",
      "    </div>\n",
      "\n",
      "\n",
      "        <button type=\"button\" class=\"btn-octicon disabled tooltipped tooltipped-nw\"\n",
      "          aria-label=\"You must be signed in to make or propose changes\">\n",
      "          <svg aria-hidden=\"true\" class=\"octicon octicon-pencil\" height=\"16\" version=\"1.1\" viewBox=\"0 0 14 16\" width=\"14\"><path d=\"M0 12v3h3l8-8-3-3-8 8zm3 2H1v-2h1v1h1v1zm10.3-9.3L12 6 9 3l1.3-1.3a.996.996 0 0 1 1.41 0l1.59 1.59c.39.39.39 1.02 0 1.41z\"></path></svg>\n",
      "        </button>\n",
      "        <button type=\"button\" class=\"btn-octicon btn-octicon-danger disabled tooltipped tooltipped-nw\"\n",
      "          aria-label=\"You must be signed in to make or propose changes\">\n",
      "          <svg aria-hidden=\"true\" class=\"octicon octicon-trashcan\" height=\"16\" version=\"1.1\" viewBox=\"0 0 12 16\" width=\"12\"><path d=\"M11 2H9c0-.55-.45-1-1-1H5c-.55 0-1 .45-1 1H2c-.55 0-1 .45-1 1v1c0 .55.45 1 1 1v9c0 .55.45 1 1 1h7c.55 0 1-.45 1-1V5c.55 0 1-.45 1-1V3c0-.55-.45-1-1-1zm-1 12H3V5h1v8h1V5h1v8h1V5h1v8h1V5h1v9zm1-10H2V3h9v1z\"></path></svg>\n",
      "        </button>\n",
      "  </div>\n",
      "\n",
      "  <div class=\"file-info\">\n",
      "      14 lines (14 sloc)\n",
      "      <span class=\"file-info-divider\"></span>\n",
      "    497 Bytes\n",
      "  </div>\n",
      "</div>\n",
      "\n",
      "  \n",
      "\n",
      "  <div itemprop=\"text\" class=\"blob-wrapper data type-text\">\n",
      "      <table class=\"highlight tab-size js-file-line-container\" data-tab-size=\"8\">\n",
      "      <tr>\n",
      "        <td id=\"L1\" class=\"blob-num js-line-number\" data-line-number=\"1\"></td>\n",
      "        <td id=\"LC1\" class=\"blob-code blob-code-inner js-file-line\">#sysname config</td>\n",
      "      </tr>\n",
      "      <tr>\n",
      "        <td id=\"L2\" class=\"blob-num js-line-number\" data-line-number=\"2\"></td>\n",
      "        <td id=\"LC2\" class=\"blob-code blob-code-inner js-file-line\">sysname {{ simple[&#39;hostname&#39;] }}</td>\n",
      "      </tr>\n",
      "      <tr>\n",
      "        <td id=\"L3\" class=\"blob-num js-line-number\" data-line-number=\"3\"></td>\n",
      "        <td id=\"LC3\" class=\"blob-code blob-code-inner js-file-line\">#vlan config</td>\n",
      "      </tr>\n",
      "      <tr>\n",
      "        <td id=\"L4\" class=\"blob-num js-line-number\" data-line-number=\"4\"></td>\n",
      "        <td id=\"LC4\" class=\"blob-code blob-code-inner js-file-line\">{% for vlan in simple[&#39;vlans&#39;] -%}</td>\n",
      "      </tr>\n",
      "      <tr>\n",
      "        <td id=\"L5\" class=\"blob-num js-line-number\" data-line-number=\"5\"></td>\n",
      "        <td id=\"LC5\" class=\"blob-code blob-code-inner js-file-line\">vlan {{ vlan[&#39;id&#39;] }}</td>\n",
      "      </tr>\n",
      "      <tr>\n",
      "        <td id=\"L6\" class=\"blob-num js-line-number\" data-line-number=\"6\"></td>\n",
      "        <td id=\"LC6\" class=\"blob-code blob-code-inner js-file-line\">    name {{ vlan[&#39;name&#39;] }}</td>\n",
      "      </tr>\n",
      "      <tr>\n",
      "        <td id=\"L7\" class=\"blob-num js-line-number\" data-line-number=\"7\"></td>\n",
      "        <td id=\"LC7\" class=\"blob-code blob-code-inner js-file-line\">    description {{ vlan[&#39;description&#39;] }}</td>\n",
      "      </tr>\n",
      "      <tr>\n",
      "        <td id=\"L8\" class=\"blob-num js-line-number\" data-line-number=\"8\"></td>\n",
      "        <td id=\"LC8\" class=\"blob-code blob-code-inner js-file-line\">{% endfor %}#snmp_config</td>\n",
      "      </tr>\n",
      "      <tr>\n",
      "        <td id=\"L9\" class=\"blob-num js-line-number\" data-line-number=\"9\"></td>\n",
      "        <td id=\"LC9\" class=\"blob-code blob-code-inner js-file-line\">snmp-agent</td>\n",
      "      </tr>\n",
      "      <tr>\n",
      "        <td id=\"L10\" class=\"blob-num js-line-number\" data-line-number=\"10\"></td>\n",
      "        <td id=\"LC10\" class=\"blob-code blob-code-inner js-file-line\">snmp-agent community read {{ simple[&#39;snmp&#39;][&#39;read&#39;] }}</td>\n",
      "      </tr>\n",
      "      <tr>\n",
      "        <td id=\"L11\" class=\"blob-num js-line-number\" data-line-number=\"11\"></td>\n",
      "        <td id=\"LC11\" class=\"blob-code blob-code-inner js-file-line\">snmp-agent community write {{ simple[&#39;snmp&#39;][&#39;write&#39;] }}</td>\n",
      "      </tr>\n",
      "      <tr>\n",
      "        <td id=\"L12\" class=\"blob-num js-line-number\" data-line-number=\"12\"></td>\n",
      "        <td id=\"LC12\" class=\"blob-code blob-code-inner js-file-line\">snmp-agent sys-info contact {{ simple[&#39;snmp&#39;][&#39;syscontact&#39;]  }}</td>\n",
      "      </tr>\n",
      "      <tr>\n",
      "        <td id=\"L13\" class=\"blob-num js-line-number\" data-line-number=\"13\"></td>\n",
      "        <td id=\"LC13\" class=\"blob-code blob-code-inner js-file-line\">snmp-agent sys-info location {{ simple[&#39;snmp&#39;][&#39;syslocation&#39;] }}</td>\n",
      "      </tr>\n",
      "      <tr>\n",
      "        <td id=\"L14\" class=\"blob-num js-line-number\" data-line-number=\"14\"></td>\n",
      "        <td id=\"LC14\" class=\"blob-code blob-code-inner js-file-line\">snmp-agent sys-info version all</td>\n",
      "      </tr>\n",
      "</table>\n",
      "\n",
      "  </div>\n",
      "\n",
      "</div>\n",
      "\n",
      "<button type=\"button\" data-facebox=\"#jump-to-line\" data-facebox-class=\"linejump\" data-hotkey=\"l\" class=\"hidden\">Jump to Line</button>\n",
      "<div id=\"jump-to-line\" style=\"display:none\">\n",
      "  <!-- </textarea> --><!-- '\"` --><form accept-charset=\"UTF-8\" action=\"\" class=\"js-jump-to-line-form\" method=\"get\"><div style=\"margin:0;padding:0;display:inline\"><input name=\"utf8\" type=\"hidden\" value=\"&#x2713;\" /></div>\n",
      "    <input class=\"form-control linejump-input js-jump-to-line-field\" type=\"text\" placeholder=\"Jump to line&hellip;\" aria-label=\"Jump to line\" autofocus>\n",
      "    <button type=\"submit\" class=\"btn\">Go</button>\n",
      "</form></div>\n",
      "\n",
      "  </div>\n",
      "  <div class=\"modal-backdrop\"></div>\n",
      "</div>\n",
      "\n",
      "\n",
      "    </div>\n",
      "  </div>\n",
      "\n",
      "    </div>\n",
      "\n",
      "        <div class=\"container site-footer-container\">\n",
      "  <div class=\"site-footer\" role=\"contentinfo\">\n",
      "    <ul class=\"site-footer-links right\">\n",
      "        <li><a href=\"https://status.github.com/\" data-ga-click=\"Footer, go to status, text:status\">Status</a></li>\n",
      "      <li><a href=\"https://developer.github.com\" data-ga-click=\"Footer, go to api, text:api\">API</a></li>\n",
      "      <li><a href=\"https://training.github.com\" data-ga-click=\"Footer, go to training, text:training\">Training</a></li>\n",
      "      <li><a href=\"https://shop.github.com\" data-ga-click=\"Footer, go to shop, text:shop\">Shop</a></li>\n",
      "        <li><a href=\"https://github.com/blog\" data-ga-click=\"Footer, go to blog, text:blog\">Blog</a></li>\n",
      "        <li><a href=\"https://github.com/about\" data-ga-click=\"Footer, go to about, text:about\">About</a></li>\n",
      "\n",
      "    </ul>\n",
      "\n",
      "    <a href=\"https://github.com\" aria-label=\"Homepage\" class=\"site-footer-mark\" title=\"GitHub\">\n",
      "      <svg aria-hidden=\"true\" class=\"octicon octicon-mark-github\" height=\"24\" version=\"1.1\" viewBox=\"0 0 16 16\" width=\"24\"><path d=\"M8 0C3.58 0 0 3.58 0 8c0 3.54 2.29 6.53 5.47 7.59.4.07.55-.17.55-.38 0-.19-.01-.82-.01-1.49-2.01.37-2.53-.49-2.69-.94-.09-.23-.48-.94-.82-1.13-.28-.15-.68-.52-.01-.53.63-.01 1.08.58 1.23.82.72 1.21 1.87.87 2.33.66.07-.52.28-.87.51-1.07-1.78-.2-3.64-.89-3.64-3.95 0-.87.31-1.59.82-2.15-.08-.2-.36-1.02.08-2.12 0 0 .67-.21 2.2.82.64-.18 1.32-.27 2-.27.68 0 1.36.09 2 .27 1.53-1.04 2.2-.82 2.2-.82.44 1.1.16 1.92.08 2.12.51.56.82 1.27.82 2.15 0 3.07-1.87 3.75-3.65 3.95.29.25.54.73.54 1.48 0 1.07-.01 1.93-.01 2.2 0 .21.15.46.55.38A8.013 8.013 0 0 0 16 8c0-4.42-3.58-8-8-8z\"></path></svg>\n",
      "</a>\n",
      "    <ul class=\"site-footer-links\">\n",
      "      <li>&copy; 2016 <span title=\"0.06045s from github-fe149-cp1-prd.iad.github.net\">GitHub</span>, Inc.</li>\n",
      "        <li><a href=\"https://github.com/site/terms\" data-ga-click=\"Footer, go to terms, text:terms\">Terms</a></li>\n",
      "        <li><a href=\"https://github.com/site/privacy\" data-ga-click=\"Footer, go to privacy, text:privacy\">Privacy</a></li>\n",
      "        <li><a href=\"https://github.com/security\" data-ga-click=\"Footer, go to security, text:security\">Security</a></li>\n",
      "        <li><a href=\"https://github.com/contact\" data-ga-click=\"Footer, go to contact, text:contact\">Contact</a></li>\n",
      "        <li><a href=\"https://help.github.com\" data-ga-click=\"Footer, go to help, text:help\">Help</a></li>\n",
      "    </ul>\n",
      "  </div>\n",
      "</div>\n",
      "\n",
      "\n",
      "\n",
      "    \n",
      "\n",
      "    <div id=\"ajax-error-message\" class=\"ajax-error-message flash flash-error\">\n",
      "      <svg aria-hidden=\"true\" class=\"octicon octicon-alert\" height=\"16\" version=\"1.1\" viewBox=\"0 0 16 16\" width=\"16\"><path d=\"M8.865 1.52c-.18-.31-.51-.5-.87-.5s-.69.19-.87.5L.275 13.5c-.18.31-.18.69 0 1 .19.31.52.5.87.5h13.7c.36 0 .69-.19.86-.5.17-.31.18-.69.01-1L8.865 1.52zM8.995 13h-2v-2h2v2zm0-3h-2V6h2v4z\"></path></svg>\n",
      "      <button type=\"button\" class=\"flash-close js-flash-close js-ajax-error-dismiss\" aria-label=\"Dismiss error\">\n",
      "        <svg aria-hidden=\"true\" class=\"octicon octicon-x\" height=\"16\" version=\"1.1\" viewBox=\"0 0 12 16\" width=\"12\"><path d=\"M7.48 8l3.75 3.75-1.48 1.48L6 9.48l-3.75 3.75-1.48-1.48L4.52 8 .77 4.25l1.48-1.48L6 6.52l3.75-3.75 1.48 1.48z\"></path></svg>\n",
      "      </button>\n",
      "      Something went wrong with that request. Please try again.\n",
      "    </div>\n",
      "\n",
      "\n",
      "      <script crossorigin=\"anonymous\" src=\"https://assets-cdn.github.com/assets/compat-7db58f8b7b91111107fac755dd8b178fe7db0f209ced51fc339c446ad3f8da2b.js\"></script>\n",
      "      <script crossorigin=\"anonymous\" src=\"https://assets-cdn.github.com/assets/frameworks-7162beea272a856d06e084945fd8026a47bbb9e7eb295d95b60ea82b26c27296.js\"></script>\n",
      "      <script async=\"async\" crossorigin=\"anonymous\" src=\"https://assets-cdn.github.com/assets/github-cb6ab72bc83e90e83a429b044f460572dc5ea6fb1b5894fc185c79e9389986f0.js\"></script>\n",
      "      \n",
      "      \n",
      "      \n",
      "      \n",
      "      \n",
      "      \n",
      "    <div class=\"js-stale-session-flash stale-session-flash flash flash-warn flash-banner hidden\">\n",
      "      <svg aria-hidden=\"true\" class=\"octicon octicon-alert\" height=\"16\" version=\"1.1\" viewBox=\"0 0 16 16\" width=\"16\"><path d=\"M8.865 1.52c-.18-.31-.51-.5-.87-.5s-.69.19-.87.5L.275 13.5c-.18.31-.18.69 0 1 .19.31.52.5.87.5h13.7c.36 0 .69-.19.86-.5.17-.31.18-.69.01-1L8.865 1.52zM8.995 13h-2v-2h2v2zm0-3h-2V6h2v4z\"></path></svg>\n",
      "      <span class=\"signed-in-tab-flash\">You signed in with another tab or window. <a href=\"\">Reload</a> to refresh your session.</span>\n",
      "      <span class=\"signed-out-tab-flash\">You signed out in another tab or window. <a href=\"\">Reload</a> to refresh your session.</span>\n",
      "    </div>\n",
      "    <div class=\"facebox\" id=\"facebox\" style=\"display:none;\">\n",
      "  <div class=\"facebox-popup\">\n",
      "    <div class=\"facebox-content\" role=\"dialog\" aria-labelledby=\"facebox-header\" aria-describedby=\"facebox-description\">\n",
      "    </div>\n",
      "    <button type=\"button\" class=\"facebox-close js-facebox-close\" aria-label=\"Close modal\">\n",
      "      <svg aria-hidden=\"true\" class=\"octicon octicon-x\" height=\"16\" version=\"1.1\" viewBox=\"0 0 12 16\" width=\"12\"><path d=\"M7.48 8l3.75 3.75-1.48 1.48L6 9.48l-3.75 3.75-1.48-1.48L4.52 8 .77 4.25l1.48-1.48L6 6.52l3.75-3.75 1.48 1.48z\"></path></svg>\n",
      "    </button>\n",
      "  </div>\n",
      "</div>\n",
      "\n",
      "  </body>\n",
      "</html>\n",
      "\n",
      "\n"
     ]
    }
   ],
   "source": [
    "print (comware_template)"
   ]
  },
  {
   "cell_type": "markdown",
   "metadata": {
    "slideshow": {
     "slide_type": "slide"
    }
   },
   "source": [
    "## Hmmmmm. That's not right?\n",
    "\n",
    "The requests library is reaching out and grabbing whatever we put into that first variable. If we look at the print contents, we can see the first line is ** <!DOCTYPE html> **. So it looks like we're grabbing the rendered webpage, not just the contents of the file. Thankfully, looking at the GITHub website, there's an option to look at any of your files in **raw** mode.  So let's grab that URL and try this again, ok?"
   ]
  },
  {
   "cell_type": "code",
   "execution_count": 5,
   "metadata": {
    "collapsed": true
   },
   "outputs": [],
   "source": [
    "comware_template = requests.get('https://raw.githubusercontent.com/netmanchris/Jinja2-Network-Configurations-Scripts/master/simple_comware.j2').text"
   ]
  },
  {
   "cell_type": "code",
   "execution_count": 6,
   "metadata": {
    "collapsed": false
   },
   "outputs": [
    {
     "name": "stdout",
     "output_type": "stream",
     "text": [
      "#sysname config\n",
      "sysname {{ simple['hostname'] }}\n",
      "#vlan config\n",
      "{% for vlan in simple['vlans'] -%}\n",
      "vlan {{ vlan['id'] }}\n",
      "    name {{ vlan['name'] }}\n",
      "    description {{ vlan['description'] }}\n",
      "{% endfor %}#snmp_config\n",
      "snmp-agent\n",
      "snmp-agent community read {{ simple['snmp']['read'] }}\n",
      "snmp-agent community write {{ simple['snmp']['write'] }}\n",
      "snmp-agent sys-info contact {{ simple['snmp']['syscontact']  }}\n",
      "snmp-agent sys-info location {{ simple['snmp']['syslocation'] }}\n",
      "snmp-agent sys-info version all\n"
     ]
    }
   ],
   "source": [
    "print (comware_template)"
   ]
  },
  {
   "cell_type": "markdown",
   "metadata": {
    "slideshow": {
     "slide_type": "slide"
    }
   },
   "source": [
    "> ## Ahhhh... That's better."
   ]
  },
  {
   "cell_type": "markdown",
   "metadata": {
    "slideshow": {
     "slide_type": "slide"
    }
   },
   "source": [
    "# Loading Network Specific Values from GITHub\n",
    "\n",
    "Now we're going to load our network specific values which were stored in the YAML file in [this post](https://kontrolissues.wordpress.com/2016/01/19/more-jinja-working-with-yam-as-an-input/).  But this time, we're going to load them directly from a private github repository.  \n",
    "\n",
    "The free GITHub accounts allow you to have public repositories, which means everyone can see what you're doing, but if you have a [paid version](https://github.com/pricing), you can get private repositories for as little as five dollars a month.\n",
    "\n",
    "The private repositories are secured and can only be accessed by someone with a GIThub username and password who has explicitly been given access to this repository.\n",
    "\n",
    "I would say that it's probably a bad idea for us to keep any secure information like usernames, passwords, or SNMP strings in a online repository. But for my purposes, I don't have anythng of value in this lab environment so I'm not too worried about it.\n",
    "\n",
    "**note: Before you put any sensitive data into an online repository of any kind, be sure to check with your companies data policies to see if you're breaking any corporate rules.**\n",
    "\n"
   ]
  },
  {
   "cell_type": "markdown",
   "metadata": {
    "slideshow": {
     "slide_type": "slide"
    }
   },
   "source": [
    "## Creating an Auth Object\n",
    "\n",
    "First, I'm going to create an auth object, which is basically a single object that represents the username and password for my github account. In my case, I've got a file on my local hard drive that will automatically create the auth object for me. \n",
    "\n",
    "In case you're interested, the file is called *githubuser.py* and contains the following code.\n",
    "<code>\n",
    "from requests.auth import HTTPBasicAuth\n",
    "\n",
    "def gitcreds():\n",
    "    auth = HTTPBasicAuth('netmanchris', 'my_secret_password')\n",
    "    return auth\n",
    "\n",
    "    \n"
   ]
  },
  {
   "cell_type": "code",
   "execution_count": 8,
   "metadata": {
    "collapsed": false
   },
   "outputs": [],
   "source": [
    "#auth = githubuser.gitcreds() #you didn't think I was going to give you my password did you?\n",
    "auth = mygithub.gitcreds() #you didn't think I was going to give you my password did you?"
   ]
  },
  {
   "cell_type": "markdown",
   "metadata": {
    "slideshow": {
     "slide_type": "slide"
    }
   },
   "source": [
    "## Loading simple.yaml\n",
    "\n",
    "We'll now load the simple.yaml file like we did in [this post](https://kontrolissues.wordpress.com/2016/01/19/more-jinja-working-with-yam-as-an-input/) but instead of opening it from a local file, we're going to load it directly from the raw version of the file on github. I'd give you the link but it's in a private repository, so you won't be able to access it anyways. \n",
    "\n",
    "Thigs I want to point out\n",
    "- yaml.load:  takes the response and processes the yaml content directly into a python data structure ( dictionary )\n",
    "- .text: takes the \".text\" attribute from the requests object which is the content of the page. \n",
    "- auth = auth:  takes the auth object we created above and passes it as the username and password during the HTTP request. \n",
    "\n",
    "Make sense?"
   ]
  },
  {
   "cell_type": "code",
   "execution_count": 9,
   "metadata": {
    "collapsed": true
   },
   "outputs": [],
   "source": [
    "simple = yaml.load(requests.get('https://raw.githubusercontent.com/netmanchris/PrivateRepo/master/simple_config.yaml', auth=auth).text)"
   ]
  },
  {
   "cell_type": "code",
   "execution_count": 10,
   "metadata": {
    "collapsed": false
   },
   "outputs": [
    {
     "data": {
      "text/plain": [
       "{'hostname': 'testswitch',\n",
       " 'ip': '10.101.0.221',\n",
       " 'snmp': {'read': 'supersecret',\n",
       "  'syscontact': 'admin.lab.local',\n",
       "  'syslocation': 'lab',\n",
       "  'trap': [{'target': '10.101.0.200'},\n",
       "   {'target': '10.101.0.201'},\n",
       "   {'target': '10.101.0.202'}],\n",
       "  'write': 'macdonald'},\n",
       " 'vlans': [{'description': 'management vlan',\n",
       "   'id': '10',\n",
       "   'name': 'management'},\n",
       "  {'description': 'users vlan', 'id': '15', 'name': 'users'},\n",
       "  {'description': 'phones vlan', 'id': '16', 'name': 'phones'},\n",
       "  {'description': 'servers vlan', 'id': '20', 'name': 'servers vlan'}]}"
      ]
     },
     "execution_count": 10,
     "metadata": {},
     "output_type": "execute_result"
    }
   ],
   "source": [
    "simple"
   ]
  },
  {
   "cell_type": "markdown",
   "metadata": {
    "slideshow": {
     "slide_type": "slide"
    }
   },
   "source": [
    "# Putting it all together\n",
    "\n",
    "So looking at our list\n",
    "- download simple_comware.j2 template from Github public repo:    <span style=\"color:green\">**Check!**</span>\n",
    "- download simple.yaml values file from Github private repo: <span style=\"color:green\">**Check!**</span>\n",
    "- rendered templates:                                            <span style=\"color:red\">**Nope**</span>\n",
    "\n",
    "So I guess we know what comes next, right?"
   ]
  },
  {
   "cell_type": "markdown",
   "metadata": {
    "slideshow": {
     "slide_type": "slide"
    }
   },
   "source": [
    "# Rendering the final config\n",
    "\n",
    "We use the **Template** function to create a jinja2 template object and then we use the **simple** variable we created during the yaml section as input into the cw_template object."
   ]
  },
  {
   "cell_type": "code",
   "execution_count": 11,
   "metadata": {
    "collapsed": false
   },
   "outputs": [
    {
     "data": {
      "text/plain": [
       "jinja2.environment.Template"
      ]
     },
     "execution_count": 11,
     "metadata": {},
     "output_type": "execute_result"
    }
   ],
   "source": [
    "cw_template = Template(comware_template)\n",
    "type(cw_template)"
   ]
  },
  {
   "cell_type": "code",
   "execution_count": 12,
   "metadata": {
    "collapsed": false
   },
   "outputs": [
    {
     "name": "stdout",
     "output_type": "stream",
     "text": [
      "#sysname config\n",
      "sysname testswitch\n",
      "#vlan config\n",
      "vlan 10\n",
      "    name management\n",
      "    description management vlan\n",
      "vlan 15\n",
      "    name users\n",
      "    description users vlan\n",
      "vlan 16\n",
      "    name phones\n",
      "    description phones vlan\n",
      "vlan 20\n",
      "    name servers vlan\n",
      "    description servers vlan\n",
      "#snmp_config\n",
      "snmp-agent\n",
      "snmp-agent community read supersecret\n",
      "snmp-agent community write macdonald\n",
      "snmp-agent sys-info contact admin.lab.local\n",
      "snmp-agent sys-info location lab\n",
      "snmp-agent sys-info version all\n"
     ]
    }
   ],
   "source": [
    "print (cw_template.render(simple=simple))"
   ]
  },
  {
   "cell_type": "markdown",
   "metadata": {
    "slideshow": {
     "slide_type": "slide"
    }
   },
   "source": [
    "## Writing the Config to Disk\n",
    "\n",
    "So far we've only been rendering and printing configurations, but it would be kinda nice to be able to have these on disk so that we can open them in our favorite editor before we cut and paste them into a telnet session to our network device. \n",
    "\n",
    "The next two commands simply write the rendered template to disk with the filename **comware.cfg** and then we open and print the file to screen just to make sure it worked. "
   ]
  },
  {
   "cell_type": "code",
   "execution_count": 13,
   "metadata": {
    "collapsed": false
   },
   "outputs": [],
   "source": [
    "with open('comware.cfg', \"w\") as file:\n",
    "    file.write(cw_template.render(simple=simple))"
   ]
  },
  {
   "cell_type": "code",
   "execution_count": 14,
   "metadata": {
    "collapsed": false
   },
   "outputs": [
    {
     "name": "stdout",
     "output_type": "stream",
     "text": [
      "#sysname config\n",
      "sysname testswitch\n",
      "#vlan config\n",
      "vlan 10\n",
      "    name management\n",
      "    description management vlan\n",
      "vlan 15\n",
      "    name users\n",
      "    description users vlan\n",
      "vlan 16\n",
      "    name phones\n",
      "    description phones vlan\n",
      "vlan 20\n",
      "    name servers vlan\n",
      "    description servers vlan\n",
      "#snmp_config\n",
      "snmp-agent\n",
      "snmp-agent community read supersecret\n",
      "snmp-agent community write macdonald\n",
      "snmp-agent sys-info contact admin.lab.local\n",
      "snmp-agent sys-info location lab\n",
      "snmp-agent sys-info version all\n"
     ]
    }
   ],
   "source": [
    "with open('comware.cfg') as file:\n",
    "    print (file.read())"
   ]
  },
  {
   "cell_type": "markdown",
   "metadata": {
    "slideshow": {
     "slide_type": "slide"
    }
   },
   "source": [
    "# What's next?\n",
    "\n",
    "So far, we've come pretty far. We've written a couple of jinja templates, we've figure out how to store those files in a centralized control versioning system, but we're still cut'ing and past'ing those configurations ourselves which is not ideal.\n",
    "\n",
    "In the next post, we'll look at using APIs to push the configuraiton directly to a configuraiton management tool.\n",
    "\n",
    "Questions or comments?   Feel free to post below!\n",
    "\n",
    "@netmanchris\n"
   ]
  },
  {
   "cell_type": "code",
   "execution_count": null,
   "metadata": {
    "collapsed": true
   },
   "outputs": [],
   "source": [
    ""
   ]
  }
 ],
 "metadata": {
  "celltoolbar": "Slideshow",
  "kernelspec": {
   "display_name": "Python 3",
   "language": "python",
   "name": "python3"
  },
  "language_info": {
   "codemirror_mode": {
    "name": "ipython",
    "version": 3.0
   },
   "file_extension": ".py",
   "mimetype": "text/x-python",
   "name": "python",
   "nbconvert_exporter": "python",
   "pygments_lexer": "ipython3",
   "version": "3.4.3"
  }
 },
 "nbformat": 4,
 "nbformat_minor": 0
}
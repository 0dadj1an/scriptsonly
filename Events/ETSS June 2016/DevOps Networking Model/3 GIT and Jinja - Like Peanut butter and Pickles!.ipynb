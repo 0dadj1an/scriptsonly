{
 "cells": [
  {
   "cell_type": "code",
   "execution_count": 1,
   "metadata": {
    "collapsed": false,
    "slideshow": {
     "slide_type": "skip"
    }
   },
   "outputs": [
    {
     "data": {
      "text/html": [
       "<style>\n",
       "table {float:left}\n",
       "</style>"
      ],
      "text/plain": [
       "<IPython.core.display.HTML object>"
      ]
     },
     "metadata": {},
     "output_type": "display_data"
    }
   ],
   "source": [
    "%%html\n",
    "<style>\n",
    "table {float:left}\n",
    "</style>"
   ]
  },
  {
   "cell_type": "markdown",
   "metadata": {
    "slideshow": {
     "slide_type": "slide"
    }
   },
   "source": [
    "# Using GITHub to build our Network Configs\n",
    "\n",
    "As I wrote in [this post](https://kontrolissues.wordpress.com/2015/12/04/2015-2015-recap-and-plans-for-the-year/), one of my goals for this year is to be able to compltely automate the build of my lab environment programatically. \n",
    "\n",
    "In the last couple of jinja posts, I wrote about the basics of Jinja2 templates and how they can be applied to building network configurations. \n",
    "\n",
    "In this post, I'm going to take the next step and move those files from my local hard drive out to...\n",
    "\n",
    "> duh duh dahhhhhhhhhh\n",
    "\n",
    "The cloud.\n",
    "\n",
    "![The cloud](http://tse1.mm.bing.net/th?&id=OIP.M3407dafc5125fa282800d982c7ea84afH0&w=300&h=200&c=0&pid=1.9&rs=0&p=0&r=0)\n",
    "\n",
    "\n"
   ]
  },
  {
   "cell_type": "markdown",
   "metadata": {
    "slideshow": {
     "slide_type": "slide"
    }
   },
   "source": [
    "# Before we get started...\n",
    "\n",
    "We're going to go over some basics on the tools we're using to make sure everyone's on the same page. cool?\n",
    "\n",
    "### What's GIT?\n",
    "\n",
    "Git is a widely-used source code management system for software development. It is a distributed revision control system with an emphasis on speed, data integrity, and support for distributed, non-linear workflows. [wikipedia](https://goo.gl/bAsYMZ)\n",
    "\n",
    "### Huh?\n",
    "\n",
    "GIT is a piece of software that allows you to track changes to files over time. \n",
    "\n",
    "### So what's GITHub?\n",
    "\n",
    "\"Where software is built\n",
    "Powerful collaboration, code review, and code management for\n",
    "open source and private projects. Public projects are always free. \" [Github.com](https://github.com/)\n",
    "\n",
    "GITHub is like facebook for developers. It's a place where you can sync your local GIT repository to a central location, and then sync that central location to other local repositories. \n",
    "\n",
    "Different people can connect to the same repository allowing multiple people to work on the same project. \n",
    "\n",
    "### What's a repository?\n",
    "\n",
    "A repository is essentially a collection of files that make up a project. You could think of it like a folder or directory. That analogy is not exact as it's possible for a repository to have multiple sub-folders or directories, but it's close enough for our purposes. \n",
    "\n",
    "### Is GIT only for Code?\n",
    "GIT was definitely designed for software developers to as a versioning control system while developing software, \n",
    "but you can use it for tracking changes to things other than \n",
    "\n",
    "You could use it for anything text format that you want to track changes to over time. For example\n",
    "- grocery lists\n",
    "- contact list\n",
    "- tracking your weight\n",
    "\n",
    "There are a lot of interesting uses for GIT, one of those that we're going to use today is looking at storing our Jinja2 templates on a public GIT repository and loading them directly into our python script as part of the code."
   ]
  },
  {
   "cell_type": "markdown",
   "metadata": {
    "slideshow": {
     "slide_type": "slide"
    }
   },
   "source": [
    "# Import Required Libraries\n",
    "\n",
    "Unles you've already got them, you'll need to  <code> pip install jinj2 </code> and <code> pip install requests </code>these two libraries before loading them into your running environment."
   ]
  },
  {
   "cell_type": "code",
   "execution_count": 3,
   "metadata": {
    "collapsed": false,
    "slideshow": {
     "slide_type": "-"
    }
   },
   "outputs": [],
   "source": [
    "import requests\n",
    "import yaml\n",
    "import githubuser\n",
    "from jinja2 import Environment, FileSystemLoader, Template"
   ]
  },
  {
   "cell_type": "markdown",
   "metadata": {
    "collapsed": true,
    "slideshow": {
     "slide_type": "slide"
    }
   },
   "source": [
    "# Loading Templates from GITHub\n",
    "\n",
    "Like with most things in python, if it's useful enough, chances are there's probably someone else who already put a library together for that. In our case, we're going to use the python [request library](http://docs.python-requests.org/en/latest/) to handle loading files directly from our [Github repository](https://github.com/netmanchris/Jinja2-Network-Configurations-Scripts/).  \n",
    "\n"
   ]
  },
  {
   "cell_type": "markdown",
   "metadata": {
    "slideshow": {
     "slide_type": "-"
    }
   },
   "source": [
    "The first thing we'll do is load the HPE comware switch template from that we used in [this post](https://kontrolissues.wordpress.com/2016/01/19/more-jinja-working-with-yam-as-an-input/).  If you wanted to take a look at this directly on github, it can be found [here](https://github.com/netmanchris/Jinja2-Network-Configurations-Scripts/blob/master/simple_comware.j2).   All we have to do is to copy and paste the URL from our browser directly into the first input of the requests.get function. \n",
    "\n",
    "*note: The requests function will return a whole object that has various attributes. the \" .text \" at the end of this tells the function to just give us the contents of the file, not of the other information, like the HTTP status_code. *\n",
    "\n",
    "Simple, right?"
   ]
  },
  {
   "cell_type": "code",
   "execution_count": 4,
   "metadata": {
    "collapsed": false,
    "slideshow": {
     "slide_type": "-"
    }
   },
   "outputs": [],
   "source": [
    "comware_template = requests.get('https://github.com/netmanchris/Jinja2-Network-Configurations-Scripts/blob/master/simple_comware.j2').text\n"
   ]
  },
  {
   "cell_type": "markdown",
   "metadata": {
    "slideshow": {
     "slide_type": "slide"
    }
   },
   "source": [
    "## Looking at the output\n",
    "\n",
    "So now that we've loaded the contents of the simple_comware.j2 template directly from the Github site into the comware_template variable. Let's take a look to make sure that we have what we need."
   ]
  },
  {
   "cell_type": "code",
   "execution_count": 5,
   "metadata": {
    "collapsed": false
   },
   "outputs": [
    {
     "name": "stdout",
     "output_type": "stream",
     "text": [
      "\n",
      "\n",
      "\n",
      "\n",
      "<!DOCTYPE html>\n",
      "<html lang=\"en\" class=\"\">\n",
      "  <head prefix=\"og: http://ogp.me/ns# fb: http://ogp.me/ns/fb# object: http://ogp.me/ns/object# article: http://ogp.me/ns/article# profile: http://ogp.me/ns/profile#\">\n",
      "    <meta charset='utf-8'>\n",
      "\n",
      "    <link crossorigin=\"anonymous\" href=\"https://assets-cdn.github.com/assets/github-a15e59d993eb0844d736a04652f63d465d909127e84cf7cd27073076df530f05.css\" media=\"all\" rel=\"stylesheet\" />\n",
      "    <link crossorigin=\"anonymous\" href=\"https://assets-cdn.github.com/assets/github2-5eb765a970f5d2a442e2ddc646428cb268e0c9a6bd9fa4052a72d39799eb85cd.css\" media=\"all\" rel=\"stylesheet\" />\n",
      "    \n",
      "    \n",
      "    \n",
      "\n",
      "    <link as=\"script\" href=\"https://assets-cdn.github.com/assets/frameworks-ee521b8e9facac68ff27e93fc3ae0f8ed811d7bf9e434e84f4b9ea227780b084.js\" rel=\"preload\" />\n",
      "    <link as=\"script\" href=\"https://assets-cdn.github.com/assets/github-3f137b5d1ddd85df3bdf4469bfebc37af076ffcaa82719d7fb50a3f8b4ba88d8.js\" rel=\"preload\" />\n",
      "\n",
      "    <meta http-equiv=\"X-UA-Compatible\" content=\"IE=edge\">\n",
      "    <meta http-equiv=\"Content-Language\" content=\"en\">\n",
      "    <meta name=\"viewport\" content=\"width=1020\">\n",
      "    \n",
      "    \n",
      "    <title>Jinja2-Network-Configurations-Scripts/simple_comware.j2 at master · netmanchris/Jinja2-Network-Configurations-Scripts · GitHub</title>\n",
      "    <link rel=\"search\" type=\"application/opensearchdescription+xml\" href=\"/opensearch.xml\" title=\"GitHub\">\n",
      "    <link rel=\"fluid-icon\" href=\"https://github.com/fluidicon.png\" title=\"GitHub\">\n",
      "    <link rel=\"apple-touch-icon\" href=\"/apple-touch-icon.png\">\n",
      "    <link rel=\"apple-touch-icon\" sizes=\"57x57\" href=\"/apple-touch-icon-57x57.png\">\n",
      "    <link rel=\"apple-touch-icon\" sizes=\"60x60\" href=\"/apple-touch-icon-60x60.png\">\n",
      "    <link rel=\"apple-touch-icon\" sizes=\"72x72\" href=\"/apple-touch-icon-72x72.png\">\n",
      "    <link rel=\"apple-touch-icon\" sizes=\"76x76\" href=\"/apple-touch-icon-76x76.png\">\n",
      "    <link rel=\"apple-touch-icon\" sizes=\"114x114\" href=\"/apple-touch-icon-114x114.png\">\n",
      "    <link rel=\"apple-touch-icon\" sizes=\"120x120\" href=\"/apple-touch-icon-120x120.png\">\n",
      "    <link rel=\"apple-touch-icon\" sizes=\"144x144\" href=\"/apple-touch-icon-144x144.png\">\n",
      "    <link rel=\"apple-touch-icon\" sizes=\"152x152\" href=\"/apple-touch-icon-152x152.png\">\n",
      "    <link rel=\"apple-touch-icon\" sizes=\"180x180\" href=\"/apple-touch-icon-180x180.png\">\n",
      "    <meta property=\"fb:app_id\" content=\"1401488693436528\">\n",
      "\n",
      "      <meta content=\"https://avatars1.githubusercontent.com/u/9815146?v=3&amp;s=400\" name=\"twitter:image:src\" /><meta content=\"@github\" name=\"twitter:site\" /><meta content=\"summary\" name=\"twitter:card\" /><meta content=\"netmanchris/Jinja2-Network-Configurations-Scripts\" name=\"twitter:title\" /><meta content=\"Jinja2-Network-Configurations-Scripts - Network Configuration Scripts\" name=\"twitter:description\" />\n",
      "      <meta content=\"https://avatars1.githubusercontent.com/u/9815146?v=3&amp;s=400\" property=\"og:image\" /><meta content=\"GitHub\" property=\"og:site_name\" /><meta content=\"object\" property=\"og:type\" /><meta content=\"netmanchris/Jinja2-Network-Configurations-Scripts\" property=\"og:title\" /><meta content=\"https://github.com/netmanchris/Jinja2-Network-Configurations-Scripts\" property=\"og:url\" /><meta content=\"Jinja2-Network-Configurations-Scripts - Network Configuration Scripts\" property=\"og:description\" />\n",
      "      <meta name=\"browser-stats-url\" content=\"https://api.github.com/_private/browser/stats\">\n",
      "    <meta name=\"browser-errors-url\" content=\"https://api.github.com/_private/browser/errors\">\n",
      "    <link rel=\"assets\" href=\"https://assets-cdn.github.com/\">\n",
      "    \n",
      "    <meta name=\"pjax-timeout\" content=\"1000\">\n",
      "    \n",
      "\n",
      "    <meta name=\"msapplication-TileImage\" content=\"/windows-tile.png\">\n",
      "    <meta name=\"msapplication-TileColor\" content=\"#ffffff\">\n",
      "    <meta name=\"selected-link\" value=\"repo_source\" data-pjax-transient>\n",
      "\n",
      "    <meta name=\"google-site-verification\" content=\"KT5gs8h0wvaagLKAVWq8bbeNwnZZK1r1XQysX3xurLU\">\n",
      "<meta name=\"google-site-verification\" content=\"ZzhVyEFwb7w3e0-uOTltm8Jsck2F5StVihD0exw2fsA\">\n",
      "    <meta name=\"google-analytics\" content=\"UA-3769691-2\">\n",
      "\n",
      "<meta content=\"collector.githubapp.com\" name=\"octolytics-host\" /><meta content=\"github\" name=\"octolytics-app-id\" /><meta content=\"60148A1A:0C1A:3623CC5:56BCC3BD\" name=\"octolytics-dimension-request_id\" />\n",
      "<meta content=\"/&lt;user-name&gt;/&lt;repo-name&gt;/blob/show\" data-pjax-transient=\"true\" name=\"analytics-location\" />\n",
      "\n",
      "\n",
      "\n",
      "  <meta class=\"js-ga-set\" name=\"dimension1\" content=\"Logged Out\">\n",
      "\n",
      "\n",
      "\n",
      "        <meta name=\"hostname\" content=\"github.com\">\n",
      "    <meta name=\"user-login\" content=\"\">\n",
      "\n",
      "        <meta name=\"expected-hostname\" content=\"github.com\">\n",
      "      <meta name=\"js-proxy-site-detection-payload\" content=\"NDExYTliN2Q0YmQwMTI3YjgzZDNmMTYwN2U4YTJiYzAxODQzZTA5NjljNWVlZWM5MDg1YjA0Y2ZiNTkyMjMyZnx7InJlbW90ZV9hZGRyZXNzIjoiOTYuMjAuMTM4LjI2IiwicmVxdWVzdF9pZCI6IjYwMTQ4QTFBOjBDMUE6MzYyM0NDNTo1NkJDQzNCRCJ9\">\n",
      "\n",
      "      <link rel=\"mask-icon\" href=\"https://assets-cdn.github.com/pinned-octocat.svg\" color=\"#4078c0\">\n",
      "      <link rel=\"icon\" type=\"image/x-icon\" href=\"https://assets-cdn.github.com/favicon.ico\">\n",
      "\n",
      "    <meta content=\"f33b9084adc6a07b2c31b807503c2420c82fe6f8\" name=\"form-nonce\" />\n",
      "\n",
      "    <meta http-equiv=\"x-pjax-version\" content=\"13e288fbdeccbda703d7076aa1181a3d\">\n",
      "\n",
      "      \n",
      "  <meta name=\"description\" content=\"Jinja2-Network-Configurations-Scripts - Network Configuration Scripts\">\n",
      "  <meta name=\"go-import\" content=\"github.com/netmanchris/Jinja2-Network-Configurations-Scripts git https://github.com/netmanchris/Jinja2-Network-Configurations-Scripts.git\">\n",
      "\n",
      "  <meta content=\"9815146\" name=\"octolytics-dimension-user_id\" /><meta content=\"netmanchris\" name=\"octolytics-dimension-user_login\" /><meta content=\"39023270\" name=\"octolytics-dimension-repository_id\" /><meta content=\"netmanchris/Jinja2-Network-Configurations-Scripts\" name=\"octolytics-dimension-repository_nwo\" /><meta content=\"true\" name=\"octolytics-dimension-repository_public\" /><meta content=\"false\" name=\"octolytics-dimension-repository_is_fork\" /><meta content=\"39023270\" name=\"octolytics-dimension-repository_network_root_id\" /><meta content=\"netmanchris/Jinja2-Network-Configurations-Scripts\" name=\"octolytics-dimension-repository_network_root_nwo\" />\n",
      "  <link href=\"https://github.com/netmanchris/Jinja2-Network-Configurations-Scripts/commits/master.atom\" rel=\"alternate\" title=\"Recent Commits to Jinja2-Network-Configurations-Scripts:master\" type=\"application/atom+xml\">\n",
      "\n",
      "\n",
      "      <link rel=\"canonical\" href=\"https://github.com/netmanchris/Jinja2-Network-Configurations-Scripts/blob/master/simple_comware.j2\" data-pjax-transient>\n",
      "  </head>\n",
      "\n",
      "\n",
      "  <body class=\"logged_out   env-production  vis-public page-blob\">\n",
      "    <a href=\"#start-of-content\" tabindex=\"1\" class=\"accessibility-aid js-skip-to-content\">Skip to content</a>\n",
      "\n",
      "    \n",
      "    \n",
      "    \n",
      "\n",
      "\n",
      "\n",
      "      \n",
      "      <div class=\"header header-logged-out\" role=\"banner\">\n",
      "  <div class=\"container clearfix\">\n",
      "\n",
      "    <a class=\"header-logo-wordmark\" href=\"https://github.com/\" data-ga-click=\"(Logged out) Header, go to homepage, icon:logo-wordmark\">\n",
      "      <svg aria-hidden=\"true\" class=\"octicon octicon-logo-github\" height=\"28\" role=\"img\" version=\"1.1\" viewBox=\"0 0 45 16\" width=\"78\"><path d=\"M8.64 5.19H4.88c-0.11 0-0.19 0.08-0.19 0.17v1.84c0 0.09 0.08 0.17 0.19 0.17h1.47v2.3s-0.33 0.11-1.25 0.11c-1.08 0-2.58-0.39-2.58-3.7s1.58-3.73 3.05-3.73c1.27 0 1.81 0.22 2.17 0.33 0.11 0.03 0.2-0.08 0.2-0.17l0.42-1.78c0-0.05-0.02-0.09-0.06-0.14-0.14-0.09-1.02-0.58-3.2-0.58C2.58 0 0 1.06 0 6.2s2.95 5.92 5.44 5.92c2.06 0 3.31-0.89 3.31-0.89 0.05-0.02 0.06-0.09 0.06-0.13V5.36c0-0.09-0.08-0.17-0.19-0.17h0.02zM27.7 0.44h-2.13c-0.09 0-0.17 0.08-0.17 0.17v4.09h-3.31V0.61c0-0.09-0.08-0.17-0.17-0.17h-2.13c-0.09 0-0.17 0.08-0.17 0.17v11.11c0 0.09 0.09 0.17 0.17 0.17h2.13c0.09 0 0.17-0.08 0.17-0.17V6.97h3.31l-0.02 4.75c0 0.09 0.08 0.17 0.17 0.17h2.13c0.09 0 0.17-0.08 0.17-0.17V0.61c0-0.09-0.08-0.17-0.17-0.17h0.02zM11.19 0.69c-0.77 0-1.38 0.61-1.38 1.38s0.61 1.38 1.38 1.38c0.75 0 1.36-0.61 1.36-1.38s-0.61-1.38-1.36-1.38z m1.22 3.55c0-0.09-0.08-0.17-0.17-0.17H10.11c-0.09 0-0.17 0.09-0.17 0.2 0 0 0 6.17 0 7.34 0 0.2 0.13 0.27 0.3 0.27 0 0 0.91 0 1.92 0 0.2 0 0.25-0.09 0.25-0.27 0-0.39 0-7.36 0-7.36v-0.02z m23.52-0.16h-2.09c-0.11 0-0.17 0.08-0.17 0.19v5.44s-0.55 0.39-1.3 0.39-0.97-0.34-0.97-1.09c0-0.73 0-4.75 0-4.75 0-0.09-0.08-0.17-0.17-0.17h-2.14c-0.09 0-0.17 0.08-0.17 0.17 0 0 0 2.91 0 5.11s1.23 2.75 2.92 2.75c1.39 0 2.52-0.77 2.52-0.77s0.05 0.39 0.08 0.45c0.02 0.05 0.09 0.09 0.16 0.09h1.34c0.11 0 0.17-0.08 0.17-0.17l0.02-7.47c0-0.09-0.08-0.17-0.19-0.17z m5.77-0.25c-1.2 0-2.02 0.53-2.02 0.53V0.59c0-0.09-0.08-0.17-0.17-0.17h-2.13c-0.09 0-0.17 0.08-0.17 0.17l-0.02 11.11c0 0.09 0.09 0.17 0.19 0.17h1.48c0.06 0 0.11-0.02 0.14-0.08 0.05-0.06 0.09-0.52 0.09-0.52s0.88 0.83 2.52 0.83c1.94 0 3.05-0.98 3.05-4.41s-1.77-3.88-2.97-3.88z m-0.83 6.27c-0.73-0.02-1.22-0.36-1.22-0.36V6.22s0.48-0.3 1.08-0.34c0.77-0.08 1.5 0.16 1.5 1.97 0 1.91-0.33 2.28-1.36 2.25z m-22.33-0.05c-0.09 0-0.33 0.05-0.58 0.05-0.78 0-1.05-0.36-1.05-0.83s0-3.13 0-3.13h1.59c0.09 0 0.16-0.08 0.16-0.19V4.25c0-0.09-0.08-0.17-0.16-0.17h-1.59V1.97c0-0.08-0.05-0.13-0.14-0.13H14.61c-0.09 0-0.14 0.05-0.14 0.13v2.17s-1.09 0.27-1.16 0.28c-0.08 0.02-0.13 0.09-0.13 0.17v1.36c0 0.11 0.08 0.19 0.17 0.19h1.11s0 1.44 0 3.28c0 2.44 1.7 2.69 2.86 2.69 0.53 0 1.17-0.17 1.27-0.22 0.06-0.02 0.09-0.09 0.09-0.16v-1.5c0-0.11-0.08-0.19-0.17-0.19h0.02z\"></path></svg>\n",
      "    </a>\n",
      "\n",
      "    <div class=\"header-actions\" role=\"navigation\">\n",
      "        <a class=\"btn btn-primary\" href=\"/join?source=header-repo\" data-ga-click=\"(Logged out) Header, clicked Sign up, text:sign-up\">Sign up</a>\n",
      "      <a class=\"btn\" href=\"/login?return_to=%2Fnetmanchris%2FJinja2-Network-Configurations-Scripts%2Fblob%2Fmaster%2Fsimple_comware.j2\" data-ga-click=\"(Logged out) Header, clicked Sign in, text:sign-in\">Sign in</a>\n",
      "    </div>\n",
      "\n",
      "    <div class=\"site-search repo-scope js-site-search\" role=\"search\">\n",
      "      <!-- </textarea> --><!-- '\"` --><form accept-charset=\"UTF-8\" action=\"/netmanchris/Jinja2-Network-Configurations-Scripts/search\" class=\"js-site-search-form\" data-global-search-url=\"/search\" data-repo-search-url=\"/netmanchris/Jinja2-Network-Configurations-Scripts/search\" method=\"get\"><div style=\"margin:0;padding:0;display:inline\"><input name=\"utf8\" type=\"hidden\" value=\"&#x2713;\" /></div>\n",
      "  <label class=\"js-chromeless-input-container form-control\">\n",
      "    <div class=\"scope-badge\">This repository</div>\n",
      "    <input type=\"text\"\n",
      "      class=\"js-site-search-focus js-site-search-field is-clearable chromeless-input\"\n",
      "      data-hotkey=\"s\"\n",
      "      name=\"q\"\n",
      "      placeholder=\"Search\"\n",
      "      aria-label=\"Search this repository\"\n",
      "      data-global-scope-placeholder=\"Search GitHub\"\n",
      "      data-repo-scope-placeholder=\"Search\"\n",
      "      tabindex=\"1\"\n",
      "      autocapitalize=\"off\">\n",
      "  </label>\n",
      "</form>\n",
      "    </div>\n",
      "\n",
      "      <ul class=\"header-nav left\" role=\"navigation\">\n",
      "          <li class=\"header-nav-item\">\n",
      "            <a class=\"header-nav-link\" href=\"/explore\" data-ga-click=\"(Logged out) Header, go to explore, text:explore\">Explore</a>\n",
      "          </li>\n",
      "          <li class=\"header-nav-item\">\n",
      "            <a class=\"header-nav-link\" href=\"/features\" data-ga-click=\"(Logged out) Header, go to features, text:features\">Features</a>\n",
      "          </li>\n",
      "          <li class=\"header-nav-item\">\n",
      "            <a class=\"header-nav-link\" href=\"https://enterprise.github.com/\" data-ga-click=\"(Logged out) Header, go to enterprise, text:enterprise\">Enterprise</a>\n",
      "          </li>\n",
      "          <li class=\"header-nav-item\">\n",
      "            <a class=\"header-nav-link\" href=\"/pricing\" data-ga-click=\"(Logged out) Header, go to pricing, text:pricing\">Pricing</a>\n",
      "          </li>\n",
      "      </ul>\n",
      "\n",
      "  </div>\n",
      "</div>\n",
      "\n",
      "\n",
      "\n",
      "    <div id=\"start-of-content\" class=\"accessibility-aid\"></div>\n",
      "\n",
      "      <div id=\"js-flash-container\">\n",
      "</div>\n",
      "\n",
      "\n",
      "    <div role=\"main\" class=\"main-content\">\n",
      "        <div itemscope itemtype=\"http://schema.org/WebPage\">\n",
      "    <div id=\"js-repo-pjax-container\" class=\"context-loader-container js-repo-nav-next\" data-pjax-container>\n",
      "      \n",
      "<div class=\"pagehead repohead instapaper_ignore readability-menu experiment-repo-nav\">\n",
      "  <div class=\"container repohead-details-container\">\n",
      "\n",
      "    \n",
      "\n",
      "<ul class=\"pagehead-actions\">\n",
      "\n",
      "  <li>\n",
      "      <a href=\"/login?return_to=%2Fnetmanchris%2FJinja2-Network-Configurations-Scripts\"\n",
      "    class=\"btn btn-sm btn-with-count tooltipped tooltipped-n\"\n",
      "    aria-label=\"You must be signed in to watch a repository\" rel=\"nofollow\">\n",
      "    <svg aria-hidden=\"true\" class=\"octicon octicon-eye\" height=\"16\" role=\"img\" version=\"1.1\" viewBox=\"0 0 16 16\" width=\"16\"><path d=\"M8.06 2C3 2 0 8 0 8s3 6 8.06 6c4.94 0 7.94-6 7.94-6S13 2 8.06 2z m-0.06 10c-2.2 0-4-1.78-4-4 0-2.2 1.8-4 4-4 2.22 0 4 1.8 4 4 0 2.22-1.78 4-4 4z m2-4c0 1.11-0.89 2-2 2s-2-0.89-2-2 0.89-2 2-2 2 0.89 2 2z\"></path></svg>\n",
      "    Watch\n",
      "  </a>\n",
      "  <a class=\"social-count\" href=\"/netmanchris/Jinja2-Network-Configurations-Scripts/watchers\">\n",
      "    5\n",
      "  </a>\n",
      "\n",
      "  </li>\n",
      "\n",
      "  <li>\n",
      "      <a href=\"/login?return_to=%2Fnetmanchris%2FJinja2-Network-Configurations-Scripts\"\n",
      "    class=\"btn btn-sm btn-with-count tooltipped tooltipped-n\"\n",
      "    aria-label=\"You must be signed in to star a repository\" rel=\"nofollow\">\n",
      "    <svg aria-hidden=\"true\" class=\"octicon octicon-star\" height=\"16\" role=\"img\" version=\"1.1\" viewBox=\"0 0 14 16\" width=\"14\"><path d=\"M14 6l-4.9-0.64L7 1 4.9 5.36 0 6l3.6 3.26L2.67 14l4.33-2.33 4.33 2.33L10.4 9.26 14 6z\"></path></svg>\n",
      "    Star\n",
      "  </a>\n",
      "\n",
      "    <a class=\"social-count js-social-count\" href=\"/netmanchris/Jinja2-Network-Configurations-Scripts/stargazers\">\n",
      "      0\n",
      "    </a>\n",
      "\n",
      "  </li>\n",
      "\n",
      "  <li>\n",
      "      <a href=\"/login?return_to=%2Fnetmanchris%2FJinja2-Network-Configurations-Scripts\"\n",
      "        class=\"btn btn-sm btn-with-count tooltipped tooltipped-n\"\n",
      "        aria-label=\"You must be signed in to fork a repository\" rel=\"nofollow\">\n",
      "        <svg aria-hidden=\"true\" class=\"octicon octicon-repo-forked\" height=\"16\" role=\"img\" version=\"1.1\" viewBox=\"0 0 10 16\" width=\"10\"><path d=\"M8 1c-1.11 0-2 0.89-2 2 0 0.73 0.41 1.38 1 1.72v1.28L5 8 3 6v-1.28c0.59-0.34 1-0.98 1-1.72 0-1.11-0.89-2-2-2S0 1.89 0 3c0 0.73 0.41 1.38 1 1.72v1.78l3 3v1.78c-0.59 0.34-1 0.98-1 1.72 0 1.11 0.89 2 2 2s2-0.89 2-2c0-0.73-0.41-1.38-1-1.72V9.5l3-3V4.72c0.59-0.34 1-0.98 1-1.72 0-1.11-0.89-2-2-2zM2 4.2c-0.66 0-1.2-0.55-1.2-1.2s0.55-1.2 1.2-1.2 1.2 0.55 1.2 1.2-0.55 1.2-1.2 1.2z m3 10c-0.66 0-1.2-0.55-1.2-1.2s0.55-1.2 1.2-1.2 1.2 0.55 1.2 1.2-0.55 1.2-1.2 1.2z m3-10c-0.66 0-1.2-0.55-1.2-1.2s0.55-1.2 1.2-1.2 1.2 0.55 1.2 1.2-0.55 1.2-1.2 1.2z\"></path></svg>\n",
      "        Fork\n",
      "      </a>\n",
      "\n",
      "    <a href=\"/netmanchris/Jinja2-Network-Configurations-Scripts/network\" class=\"social-count\">\n",
      "      2\n",
      "    </a>\n",
      "  </li>\n",
      "</ul>\n",
      "\n",
      "    <h1 itemscope itemtype=\"http://data-vocabulary.org/Breadcrumb\" class=\"entry-title public \">\n",
      "  <svg aria-hidden=\"true\" class=\"octicon octicon-repo\" height=\"16\" role=\"img\" version=\"1.1\" viewBox=\"0 0 12 16\" width=\"12\"><path d=\"M4 9h-1v-1h1v1z m0-3h-1v1h1v-1z m0-2h-1v1h1v-1z m0-2h-1v1h1v-1z m8-1v12c0 0.55-0.45 1-1 1H6v2l-1.5-1.5-1.5 1.5V14H1c-0.55 0-1-0.45-1-1V1C0 0.45 0.45 0 1 0h10c0.55 0 1 0.45 1 1z m-1 10H1v2h2v-1h3v1h5V11z m0-10H2v9h9V1z\"></path></svg>\n",
      "  <span class=\"author\"><a href=\"/netmanchris\" class=\"url fn\" itemprop=\"url\" rel=\"author\"><span itemprop=\"title\">netmanchris</span></a></span><!--\n",
      "--><span class=\"path-divider\">/</span><!--\n",
      "--><strong><a href=\"/netmanchris/Jinja2-Network-Configurations-Scripts\" data-pjax=\"#js-repo-pjax-container\">Jinja2-Network-Configurations-Scripts</a></strong>\n",
      "\n",
      "  <span class=\"page-context-loader\">\n",
      "    <img alt=\"\" height=\"16\" src=\"https://assets-cdn.github.com/images/spinners/octocat-spinner-32.gif\" width=\"16\" />\n",
      "  </span>\n",
      "\n",
      "</h1>\n",
      "\n",
      "  </div>\n",
      "  <div class=\"container\">\n",
      "    \n",
      "<nav class=\"reponav js-repo-nav js-sidenav-container-pjax js-octicon-loaders\"\n",
      "     role=\"navigation\"\n",
      "     data-pjax=\"#js-repo-pjax-container\">\n",
      "\n",
      "  <a href=\"/netmanchris/Jinja2-Network-Configurations-Scripts\" aria-label=\"Code\" aria-selected=\"true\" class=\"js-selected-navigation-item selected reponav-item\" data-hotkey=\"g c\" data-selected-links=\"repo_source repo_downloads repo_commits repo_releases repo_tags repo_branches /netmanchris/Jinja2-Network-Configurations-Scripts\">\n",
      "    <svg aria-hidden=\"true\" class=\"octicon octicon-code\" height=\"16\" role=\"img\" version=\"1.1\" viewBox=\"0 0 14 16\" width=\"14\"><path d=\"M9.5 3l-1.5 1.5 3.5 3.5L8 11.5l1.5 1.5 4.5-5L9.5 3zM4.5 3L0 8l4.5 5 1.5-1.5L2.5 8l3.5-3.5L4.5 3z\"></path></svg>\n",
      "    Code\n",
      "</a>\n",
      "    <a href=\"/netmanchris/Jinja2-Network-Configurations-Scripts/issues\" class=\"js-selected-navigation-item reponav-item\" data-hotkey=\"g i\" data-selected-links=\"repo_issues repo_labels repo_milestones /netmanchris/Jinja2-Network-Configurations-Scripts/issues\">\n",
      "      <svg aria-hidden=\"true\" class=\"octicon octicon-issue-opened\" height=\"16\" role=\"img\" version=\"1.1\" viewBox=\"0 0 14 16\" width=\"14\"><path d=\"M7 2.3c3.14 0 5.7 2.56 5.7 5.7S10.14 13.7 7 13.7 1.3 11.14 1.3 8s2.56-5.7 5.7-5.7m0-1.3C3.14 1 0 4.14 0 8s3.14 7 7 7 7-3.14 7-7S10.86 1 7 1z m1 3H6v5h2V4z m0 6H6v2h2V10z\"></path></svg>\n",
      "      Issues\n",
      "      <span class=\"counter\">0</span>\n",
      "</a>\n",
      "  <a href=\"/netmanchris/Jinja2-Network-Configurations-Scripts/pulls\" class=\"js-selected-navigation-item reponav-item\" data-hotkey=\"g p\" data-selected-links=\"repo_pulls /netmanchris/Jinja2-Network-Configurations-Scripts/pulls\">\n",
      "    <svg aria-hidden=\"true\" class=\"octicon octicon-git-pull-request\" height=\"16\" role=\"img\" version=\"1.1\" viewBox=\"0 0 12 16\" width=\"12\"><path d=\"M11 11.28c0-1.73 0-6.28 0-6.28-0.03-0.78-0.34-1.47-0.94-2.06s-1.28-0.91-2.06-0.94c0 0-1.02 0-1 0V0L4 3l3 3V4h1c0.27 0.02 0.48 0.11 0.69 0.31s0.3 0.42 0.31 0.69v6.28c-0.59 0.34-1 0.98-1 1.72 0 1.11 0.89 2 2 2s2-0.89 2-2c0-0.73-0.41-1.38-1-1.72z m-1 2.92c-0.66 0-1.2-0.55-1.2-1.2s0.55-1.2 1.2-1.2 1.2 0.55 1.2 1.2-0.55 1.2-1.2 1.2zM4 3c0-1.11-0.89-2-2-2S0 1.89 0 3c0 0.73 0.41 1.38 1 1.72 0 1.55 0 5.56 0 6.56-0.59 0.34-1 0.98-1 1.72 0 1.11 0.89 2 2 2s2-0.89 2-2c0-0.73-0.41-1.38-1-1.72V4.72c0.59-0.34 1-0.98 1-1.72z m-0.8 10c0 0.66-0.55 1.2-1.2 1.2s-1.2-0.55-1.2-1.2 0.55-1.2 1.2-1.2 1.2 0.55 1.2 1.2z m-1.2-8.8c-0.66 0-1.2-0.55-1.2-1.2s0.55-1.2 1.2-1.2 1.2 0.55 1.2 1.2-0.55 1.2-1.2 1.2z\"></path></svg>\n",
      "    Pull requests\n",
      "    <span class=\"counter\">1</span>\n",
      "</a>\n",
      "\n",
      "  <a href=\"/netmanchris/Jinja2-Network-Configurations-Scripts/pulse\" class=\"js-selected-navigation-item reponav-item\" data-selected-links=\"pulse /netmanchris/Jinja2-Network-Configurations-Scripts/pulse\">\n",
      "    <svg aria-hidden=\"true\" class=\"octicon octicon-pulse\" height=\"16\" role=\"img\" version=\"1.1\" viewBox=\"0 0 14 16\" width=\"14\"><path d=\"M11.5 8L8.8 5.4 6.6 8.5 5.5 1.6 2.38 8H0V10h3.6L4.5 8.2l0.9 5.4L9 8.5l1.6 1.5H14V8H11.5z\"></path></svg>\n",
      "    Pulse\n",
      "</a>\n",
      "  <a href=\"/netmanchris/Jinja2-Network-Configurations-Scripts/graphs\" class=\"js-selected-navigation-item reponav-item\" data-selected-links=\"repo_graphs repo_contributors /netmanchris/Jinja2-Network-Configurations-Scripts/graphs\">\n",
      "    <svg aria-hidden=\"true\" class=\"octicon octicon-graph\" height=\"16\" role=\"img\" version=\"1.1\" viewBox=\"0 0 16 16\" width=\"16\"><path d=\"M16 14v1H0V0h1v14h15z m-11-1H3V8h2v5z m4 0H7V3h2v10z m4 0H11V6h2v7z\"></path></svg>\n",
      "    Graphs\n",
      "</a>\n",
      "\n",
      "</nav>\n",
      "\n",
      "  </div>\n",
      "</div>\n",
      "\n",
      "<div class=\"container new-discussion-timeline experiment-repo-nav\">\n",
      "  <div class=\"repository-content\">\n",
      "\n",
      "    \n",
      "\n",
      "<a href=\"/netmanchris/Jinja2-Network-Configurations-Scripts/blob/fc02696f5af22a359fc881e9317ae2a71cc80c14/simple_comware.j2\" class=\"hidden js-permalink-shortcut\" data-hotkey=\"y\">Permalink</a>\n",
      "\n",
      "<!-- blob contrib key: blob_contributors:v21:d75b7c9a36c8f97125dd1a803c96b7bb -->\n",
      "\n",
      "<div class=\"file-navigation js-zeroclipboard-container\">\n",
      "  \n",
      "<div class=\"select-menu js-menu-container js-select-menu left\">\n",
      "  <button class=\"btn btn-sm select-menu-button js-menu-target css-truncate\" data-hotkey=\"w\"\n",
      "    title=\"master\"\n",
      "    type=\"button\" aria-label=\"Switch branches or tags\" tabindex=\"0\" aria-haspopup=\"true\">\n",
      "    <i>Branch:</i>\n",
      "    <span class=\"js-select-button css-truncate-target\">master</span>\n",
      "  </button>\n",
      "\n",
      "  <div class=\"select-menu-modal-holder js-menu-content js-navigation-container\" data-pjax aria-hidden=\"true\">\n",
      "\n",
      "    <div class=\"select-menu-modal\">\n",
      "      <div class=\"select-menu-header\">\n",
      "        <svg aria-label=\"Close\" class=\"octicon octicon-x js-menu-close\" height=\"16\" role=\"img\" version=\"1.1\" viewBox=\"0 0 12 16\" width=\"12\"><path d=\"M7.48 8l3.75 3.75-1.48 1.48-3.75-3.75-3.75 3.75-1.48-1.48 3.75-3.75L0.77 4.25l1.48-1.48 3.75 3.75 3.75-3.75 1.48 1.48-3.75 3.75z\"></path></svg>\n",
      "        <span class=\"select-menu-title\">Switch branches/tags</span>\n",
      "      </div>\n",
      "\n",
      "      <div class=\"select-menu-filters\">\n",
      "        <div class=\"select-menu-text-filter\">\n",
      "          <input type=\"text\" aria-label=\"Filter branches/tags\" id=\"context-commitish-filter-field\" class=\"js-filterable-field js-navigation-enable\" placeholder=\"Filter branches/tags\">\n",
      "        </div>\n",
      "        <div class=\"select-menu-tabs\">\n",
      "          <ul>\n",
      "            <li class=\"select-menu-tab\">\n",
      "              <a href=\"#\" data-tab-filter=\"branches\" data-filter-placeholder=\"Filter branches/tags\" class=\"js-select-menu-tab\" role=\"tab\">Branches</a>\n",
      "            </li>\n",
      "            <li class=\"select-menu-tab\">\n",
      "              <a href=\"#\" data-tab-filter=\"tags\" data-filter-placeholder=\"Find a tag…\" class=\"js-select-menu-tab\" role=\"tab\">Tags</a>\n",
      "            </li>\n",
      "          </ul>\n",
      "        </div>\n",
      "      </div>\n",
      "\n",
      "      <div class=\"select-menu-list select-menu-tab-bucket js-select-menu-tab-bucket\" data-tab-filter=\"branches\" role=\"menu\">\n",
      "\n",
      "        <div data-filterable-for=\"context-commitish-filter-field\" data-filterable-type=\"substring\">\n",
      "\n",
      "\n",
      "            <a class=\"select-menu-item js-navigation-item js-navigation-open selected\"\n",
      "               href=\"/netmanchris/Jinja2-Network-Configurations-Scripts/blob/master/simple_comware.j2\"\n",
      "               data-name=\"master\"\n",
      "               data-skip-pjax=\"true\"\n",
      "               rel=\"nofollow\">\n",
      "              <svg aria-hidden=\"true\" class=\"octicon octicon-check select-menu-item-icon\" height=\"16\" role=\"img\" version=\"1.1\" viewBox=\"0 0 12 16\" width=\"12\"><path d=\"M12 5L4 13 0 9l1.5-1.5 2.5 2.5 6.5-6.5 1.5 1.5z\"></path></svg>\n",
      "              <span class=\"select-menu-item-text css-truncate-target\" title=\"master\">\n",
      "                master\n",
      "              </span>\n",
      "            </a>\n",
      "        </div>\n",
      "\n",
      "          <div class=\"select-menu-no-results\">Nothing to show</div>\n",
      "      </div>\n",
      "\n",
      "      <div class=\"select-menu-list select-menu-tab-bucket js-select-menu-tab-bucket\" data-tab-filter=\"tags\">\n",
      "        <div data-filterable-for=\"context-commitish-filter-field\" data-filterable-type=\"substring\">\n",
      "\n",
      "\n",
      "        </div>\n",
      "\n",
      "        <div class=\"select-menu-no-results\">Nothing to show</div>\n",
      "      </div>\n",
      "\n",
      "    </div>\n",
      "  </div>\n",
      "</div>\n",
      "\n",
      "  <div class=\"btn-group right\">\n",
      "    <a href=\"/netmanchris/Jinja2-Network-Configurations-Scripts/find/master\"\n",
      "          class=\"js-show-file-finder btn btn-sm\"\n",
      "          data-pjax\n",
      "          data-hotkey=\"t\">\n",
      "      Find file\n",
      "    </a>\n",
      "    <button aria-label=\"Copy file path to clipboard\" class=\"js-zeroclipboard btn btn-sm zeroclipboard-button tooltipped tooltipped-s\" data-copied-hint=\"Copied!\" type=\"button\">Copy path</button>\n",
      "  </div>\n",
      "  <div class=\"breadcrumb js-zeroclipboard-target\">\n",
      "    <span class=\"repo-root js-repo-root\"><span itemscope=\"\" itemtype=\"http://data-vocabulary.org/Breadcrumb\"><a href=\"/netmanchris/Jinja2-Network-Configurations-Scripts\" class=\"\" data-branch=\"master\" data-pjax=\"true\" itemscope=\"url\"><span itemprop=\"title\">Jinja2-Network-Configurations-Scripts</span></a></span></span><span class=\"separator\">/</span><strong class=\"final-path\">simple_comware.j2</strong>\n",
      "  </div>\n",
      "</div>\n",
      "\n",
      "<include-fragment class=\"commit-tease\" src=\"/netmanchris/Jinja2-Network-Configurations-Scripts/contributors/master/simple_comware.j2\">\n",
      "  <div>\n",
      "    Fetching contributors&hellip;\n",
      "  </div>\n",
      "\n",
      "  <div class=\"commit-tease-contributors\">\n",
      "    <img alt=\"\" class=\"loader-loading left\" height=\"16\" src=\"https://assets-cdn.github.com/images/spinners/octocat-spinner-32-EAF2F5.gif\" width=\"16\" />\n",
      "    <span class=\"loader-error\">Cannot retrieve contributors at this time</span>\n",
      "  </div>\n",
      "</include-fragment>\n",
      "<div class=\"file\">\n",
      "  <div class=\"file-header\">\n",
      "  <div class=\"file-actions\">\n",
      "\n",
      "    <div class=\"btn-group\">\n",
      "      <a href=\"/netmanchris/Jinja2-Network-Configurations-Scripts/raw/master/simple_comware.j2\" class=\"btn btn-sm \" id=\"raw-url\">Raw</a>\n",
      "        <a href=\"/netmanchris/Jinja2-Network-Configurations-Scripts/blame/master/simple_comware.j2\" class=\"btn btn-sm js-update-url-with-hash\">Blame</a>\n",
      "      <a href=\"/netmanchris/Jinja2-Network-Configurations-Scripts/commits/master/simple_comware.j2\" class=\"btn btn-sm \" rel=\"nofollow\">History</a>\n",
      "    </div>\n",
      "\n",
      "\n",
      "        <button type=\"button\" class=\"btn-octicon disabled tooltipped tooltipped-nw\"\n",
      "          aria-label=\"You must be signed in to make or propose changes\">\n",
      "          <svg aria-hidden=\"true\" class=\"octicon octicon-pencil\" height=\"16\" role=\"img\" version=\"1.1\" viewBox=\"0 0 14 16\" width=\"14\"><path d=\"M0 12v3h3l8-8-3-3L0 12z m3 2H1V12h1v1h1v1z m10.3-9.3l-1.3 1.3-3-3 1.3-1.3c0.39-0.39 1.02-0.39 1.41 0l1.59 1.59c0.39 0.39 0.39 1.02 0 1.41z\"></path></svg>\n",
      "        </button>\n",
      "        <button type=\"button\" class=\"btn-octicon btn-octicon-danger disabled tooltipped tooltipped-nw\"\n",
      "          aria-label=\"You must be signed in to make or propose changes\">\n",
      "          <svg aria-hidden=\"true\" class=\"octicon octicon-trashcan\" height=\"16\" role=\"img\" version=\"1.1\" viewBox=\"0 0 12 16\" width=\"12\"><path d=\"M10 2H8c0-0.55-0.45-1-1-1H4c-0.55 0-1 0.45-1 1H1c-0.55 0-1 0.45-1 1v1c0 0.55 0.45 1 1 1v9c0 0.55 0.45 1 1 1h7c0.55 0 1-0.45 1-1V5c0.55 0 1-0.45 1-1v-1c0-0.55-0.45-1-1-1z m-1 12H2V5h1v8h1V5h1v8h1V5h1v8h1V5h1v9z m1-10H1v-1h9v1z\"></path></svg>\n",
      "        </button>\n",
      "  </div>\n",
      "\n",
      "  <div class=\"file-info\">\n",
      "      14 lines (14 sloc)\n",
      "      <span class=\"file-info-divider\"></span>\n",
      "    497 Bytes\n",
      "  </div>\n",
      "</div>\n",
      "\n",
      "  \n",
      "\n",
      "  <div class=\"blob-wrapper data type-text\">\n",
      "      <table class=\"highlight tab-size js-file-line-container\" data-tab-size=\"8\">\n",
      "      <tr>\n",
      "        <td id=\"L1\" class=\"blob-num js-line-number\" data-line-number=\"1\"></td>\n",
      "        <td id=\"LC1\" class=\"blob-code blob-code-inner js-file-line\">#sysname config</td>\n",
      "      </tr>\n",
      "      <tr>\n",
      "        <td id=\"L2\" class=\"blob-num js-line-number\" data-line-number=\"2\"></td>\n",
      "        <td id=\"LC2\" class=\"blob-code blob-code-inner js-file-line\">sysname {{ simple[&#39;hostname&#39;] }}</td>\n",
      "      </tr>\n",
      "      <tr>\n",
      "        <td id=\"L3\" class=\"blob-num js-line-number\" data-line-number=\"3\"></td>\n",
      "        <td id=\"LC3\" class=\"blob-code blob-code-inner js-file-line\">#vlan config</td>\n",
      "      </tr>\n",
      "      <tr>\n",
      "        <td id=\"L4\" class=\"blob-num js-line-number\" data-line-number=\"4\"></td>\n",
      "        <td id=\"LC4\" class=\"blob-code blob-code-inner js-file-line\">{% for vlan in simple[&#39;vlans&#39;] -%}</td>\n",
      "      </tr>\n",
      "      <tr>\n",
      "        <td id=\"L5\" class=\"blob-num js-line-number\" data-line-number=\"5\"></td>\n",
      "        <td id=\"LC5\" class=\"blob-code blob-code-inner js-file-line\">vlan {{ vlan[&#39;id&#39;] }}</td>\n",
      "      </tr>\n",
      "      <tr>\n",
      "        <td id=\"L6\" class=\"blob-num js-line-number\" data-line-number=\"6\"></td>\n",
      "        <td id=\"LC6\" class=\"blob-code blob-code-inner js-file-line\">    name {{ vlan[&#39;name&#39;] }}</td>\n",
      "      </tr>\n",
      "      <tr>\n",
      "        <td id=\"L7\" class=\"blob-num js-line-number\" data-line-number=\"7\"></td>\n",
      "        <td id=\"LC7\" class=\"blob-code blob-code-inner js-file-line\">    description {{ vlan[&#39;description&#39;] }}</td>\n",
      "      </tr>\n",
      "      <tr>\n",
      "        <td id=\"L8\" class=\"blob-num js-line-number\" data-line-number=\"8\"></td>\n",
      "        <td id=\"LC8\" class=\"blob-code blob-code-inner js-file-line\">{% endfor %}#snmp_config</td>\n",
      "      </tr>\n",
      "      <tr>\n",
      "        <td id=\"L9\" class=\"blob-num js-line-number\" data-line-number=\"9\"></td>\n",
      "        <td id=\"LC9\" class=\"blob-code blob-code-inner js-file-line\">snmp-agent</td>\n",
      "      </tr>\n",
      "      <tr>\n",
      "        <td id=\"L10\" class=\"blob-num js-line-number\" data-line-number=\"10\"></td>\n",
      "        <td id=\"LC10\" class=\"blob-code blob-code-inner js-file-line\">snmp-agent community read {{ simple[&#39;snmp&#39;][&#39;read&#39;] }}</td>\n",
      "      </tr>\n",
      "      <tr>\n",
      "        <td id=\"L11\" class=\"blob-num js-line-number\" data-line-number=\"11\"></td>\n",
      "        <td id=\"LC11\" class=\"blob-code blob-code-inner js-file-line\">snmp-agent community write {{ simple[&#39;snmp&#39;][&#39;write&#39;] }}</td>\n",
      "      </tr>\n",
      "      <tr>\n",
      "        <td id=\"L12\" class=\"blob-num js-line-number\" data-line-number=\"12\"></td>\n",
      "        <td id=\"LC12\" class=\"blob-code blob-code-inner js-file-line\">snmp-agent sys-info contact {{ simple[&#39;snmp&#39;][&#39;syscontact&#39;]  }}</td>\n",
      "      </tr>\n",
      "      <tr>\n",
      "        <td id=\"L13\" class=\"blob-num js-line-number\" data-line-number=\"13\"></td>\n",
      "        <td id=\"LC13\" class=\"blob-code blob-code-inner js-file-line\">snmp-agent sys-info location {{ simple[&#39;snmp&#39;][&#39;syslocation&#39;] }}</td>\n",
      "      </tr>\n",
      "      <tr>\n",
      "        <td id=\"L14\" class=\"blob-num js-line-number\" data-line-number=\"14\"></td>\n",
      "        <td id=\"LC14\" class=\"blob-code blob-code-inner js-file-line\">snmp-agent sys-info version all</td>\n",
      "      </tr>\n",
      "</table>\n",
      "\n",
      "  </div>\n",
      "\n",
      "</div>\n",
      "\n",
      "<a href=\"#jump-to-line\" rel=\"facebox[.linejump]\" data-hotkey=\"l\" style=\"display:none\">Jump to Line</a>\n",
      "<div id=\"jump-to-line\" style=\"display:none\">\n",
      "  <!-- </textarea> --><!-- '\"` --><form accept-charset=\"UTF-8\" action=\"\" class=\"js-jump-to-line-form\" method=\"get\"><div style=\"margin:0;padding:0;display:inline\"><input name=\"utf8\" type=\"hidden\" value=\"&#x2713;\" /></div>\n",
      "    <input class=\"linejump-input js-jump-to-line-field\" type=\"text\" placeholder=\"Jump to line&hellip;\" aria-label=\"Jump to line\" autofocus>\n",
      "    <button type=\"submit\" class=\"btn\">Go</button>\n",
      "</form></div>\n",
      "\n",
      "  </div>\n",
      "  <div class=\"modal-backdrop\"></div>\n",
      "</div>\n",
      "\n",
      "\n",
      "    </div>\n",
      "  </div>\n",
      "\n",
      "    </div>\n",
      "\n",
      "        <div class=\"container site-footer-container\">\n",
      "  <div class=\"site-footer\" role=\"contentinfo\">\n",
      "    <ul class=\"site-footer-links right\">\n",
      "        <li><a href=\"https://status.github.com/\" data-ga-click=\"Footer, go to status, text:status\">Status</a></li>\n",
      "      <li><a href=\"https://developer.github.com\" data-ga-click=\"Footer, go to api, text:api\">API</a></li>\n",
      "      <li><a href=\"https://training.github.com\" data-ga-click=\"Footer, go to training, text:training\">Training</a></li>\n",
      "      <li><a href=\"https://shop.github.com\" data-ga-click=\"Footer, go to shop, text:shop\">Shop</a></li>\n",
      "        <li><a href=\"https://github.com/blog\" data-ga-click=\"Footer, go to blog, text:blog\">Blog</a></li>\n",
      "        <li><a href=\"https://github.com/about\" data-ga-click=\"Footer, go to about, text:about\">About</a></li>\n",
      "          <li><a href=\"https://github.com/pricing\" data-ga-click=\"Footer, go to pricing, text:pricing\">Pricing</a></li>\n",
      "\n",
      "    </ul>\n",
      "\n",
      "    <a href=\"https://github.com\" aria-label=\"Homepage\" class=\"site-footer-mark\">\n",
      "      <svg aria-hidden=\"true\" class=\"octicon octicon-mark-github\" height=\"24\" role=\"img\" title=\"GitHub \" version=\"1.1\" viewBox=\"0 0 16 16\" width=\"24\"><path d=\"M8 0C3.58 0 0 3.58 0 8c0 3.54 2.29 6.53 5.47 7.59 0.4 0.07 0.55-0.17 0.55-0.38 0-0.19-0.01-0.82-0.01-1.49-2.01 0.37-2.53-0.49-2.69-0.94-0.09-0.23-0.48-0.94-0.82-1.13-0.28-0.15-0.68-0.52-0.01-0.53 0.63-0.01 1.08 0.58 1.23 0.82 0.72 1.21 1.87 0.87 2.33 0.66 0.07-0.52 0.28-0.87 0.51-1.07-1.78-0.2-3.64-0.89-3.64-3.95 0-0.87 0.31-1.59 0.82-2.15-0.08-0.2-0.36-1.02 0.08-2.12 0 0 0.67-0.21 2.2 0.82 0.64-0.18 1.32-0.27 2-0.27 0.68 0 1.36 0.09 2 0.27 1.53-1.04 2.2-0.82 2.2-0.82 0.44 1.1 0.16 1.92 0.08 2.12 0.51 0.56 0.82 1.27 0.82 2.15 0 3.07-1.87 3.75-3.65 3.95 0.29 0.25 0.54 0.73 0.54 1.48 0 1.07-0.01 1.93-0.01 2.2 0 0.21 0.15 0.46 0.55 0.38C13.71 14.53 16 11.53 16 8 16 3.58 12.42 0 8 0z\"></path></svg>\n",
      "</a>\n",
      "    <ul class=\"site-footer-links\">\n",
      "      <li>&copy; 2016 <span title=\"0.08011s from github-fe157-cp1-prd.iad.github.net\">GitHub</span>, Inc.</li>\n",
      "        <li><a href=\"https://github.com/site/terms\" data-ga-click=\"Footer, go to terms, text:terms\">Terms</a></li>\n",
      "        <li><a href=\"https://github.com/site/privacy\" data-ga-click=\"Footer, go to privacy, text:privacy\">Privacy</a></li>\n",
      "        <li><a href=\"https://github.com/security\" data-ga-click=\"Footer, go to security, text:security\">Security</a></li>\n",
      "        <li><a href=\"https://github.com/contact\" data-ga-click=\"Footer, go to contact, text:contact\">Contact</a></li>\n",
      "        <li><a href=\"https://help.github.com\" data-ga-click=\"Footer, go to help, text:help\">Help</a></li>\n",
      "    </ul>\n",
      "  </div>\n",
      "</div>\n",
      "\n",
      "\n",
      "\n",
      "    \n",
      "    \n",
      "    \n",
      "\n",
      "    <div id=\"ajax-error-message\" class=\"ajax-error-message flash flash-error\">\n",
      "      <svg aria-hidden=\"true\" class=\"octicon octicon-alert\" height=\"16\" role=\"img\" version=\"1.1\" viewBox=\"0 0 16 16\" width=\"16\"><path d=\"M15.72 12.5l-6.85-11.98C8.69 0.21 8.36 0.02 8 0.02s-0.69 0.19-0.87 0.5l-6.85 11.98c-0.18 0.31-0.18 0.69 0 1C0.47 13.81 0.8 14 1.15 14h13.7c0.36 0 0.69-0.19 0.86-0.5S15.89 12.81 15.72 12.5zM9 12H7V10h2V12zM9 9H7V5h2V9z\"></path></svg>\n",
      "      <button type=\"button\" class=\"flash-close js-flash-close js-ajax-error-dismiss\" aria-label=\"Dismiss error\">\n",
      "        <svg aria-hidden=\"true\" class=\"octicon octicon-x\" height=\"16\" role=\"img\" version=\"1.1\" viewBox=\"0 0 12 16\" width=\"12\"><path d=\"M7.48 8l3.75 3.75-1.48 1.48-3.75-3.75-3.75 3.75-1.48-1.48 3.75-3.75L0.77 4.25l1.48-1.48 3.75 3.75 3.75-3.75 1.48 1.48-3.75 3.75z\"></path></svg>\n",
      "      </button>\n",
      "      Something went wrong with that request. Please try again.\n",
      "    </div>\n",
      "\n",
      "\n",
      "      <script crossorigin=\"anonymous\" src=\"https://assets-cdn.github.com/assets/compat-ef12e71982f00805539829712436829b02370b2e561de18ece6796130cbb9bbe.js\"></script>\n",
      "      <script crossorigin=\"anonymous\" src=\"https://assets-cdn.github.com/assets/frameworks-ee521b8e9facac68ff27e93fc3ae0f8ed811d7bf9e434e84f4b9ea227780b084.js\"></script>\n",
      "      <script async=\"async\" crossorigin=\"anonymous\" src=\"https://assets-cdn.github.com/assets/github-3f137b5d1ddd85df3bdf4469bfebc37af076ffcaa82719d7fb50a3f8b4ba88d8.js\"></script>\n",
      "      \n",
      "      \n",
      "      \n",
      "    <div class=\"js-stale-session-flash stale-session-flash flash flash-warn flash-banner hidden\">\n",
      "      <svg aria-hidden=\"true\" class=\"octicon octicon-alert\" height=\"16\" role=\"img\" version=\"1.1\" viewBox=\"0 0 16 16\" width=\"16\"><path d=\"M15.72 12.5l-6.85-11.98C8.69 0.21 8.36 0.02 8 0.02s-0.69 0.19-0.87 0.5l-6.85 11.98c-0.18 0.31-0.18 0.69 0 1C0.47 13.81 0.8 14 1.15 14h13.7c0.36 0 0.69-0.19 0.86-0.5S15.89 12.81 15.72 12.5zM9 12H7V10h2V12zM9 9H7V5h2V9z\"></path></svg>\n",
      "      <span class=\"signed-in-tab-flash\">You signed in with another tab or window. <a href=\"\">Reload</a> to refresh your session.</span>\n",
      "      <span class=\"signed-out-tab-flash\">You signed out in another tab or window. <a href=\"\">Reload</a> to refresh your session.</span>\n",
      "    </div>\n",
      "    <div class=\"facebox\" id=\"facebox\" style=\"display:none;\">\n",
      "  <div class=\"facebox-popup\">\n",
      "    <div class=\"facebox-content\" role=\"dialog\" aria-labelledby=\"facebox-header\" aria-describedby=\"facebox-description\">\n",
      "    </div>\n",
      "    <button type=\"button\" class=\"facebox-close js-facebox-close\" aria-label=\"Close modal\">\n",
      "      <svg aria-hidden=\"true\" class=\"octicon octicon-x\" height=\"16\" role=\"img\" version=\"1.1\" viewBox=\"0 0 12 16\" width=\"12\"><path d=\"M7.48 8l3.75 3.75-1.48 1.48-3.75-3.75-3.75 3.75-1.48-1.48 3.75-3.75L0.77 4.25l1.48-1.48 3.75 3.75 3.75-3.75 1.48 1.48-3.75 3.75z\"></path></svg>\n",
      "    </button>\n",
      "  </div>\n",
      "</div>\n",
      "\n",
      "  </body>\n",
      "</html>\n",
      "\n",
      "\n"
     ]
    }
   ],
   "source": [
    "print (comware_template)"
   ]
  },
  {
   "cell_type": "markdown",
   "metadata": {
    "slideshow": {
     "slide_type": "slide"
    }
   },
   "source": [
    "## Hmmmmm. That's not right?\n",
    "\n",
    "The requests library is reaching out and grabbing whatever we put into that first variable. If we look at the print contents, we can see the first line is ** <!DOCTYPE html> **. So it looks like we're grabbing the rendered webpage, not just the contents of the file. Thankfully, looking at the GITHub website, there's an option to look at any of your files in **raw** mode.  So let's grab that URL and try this again, ok?"
   ]
  },
  {
   "cell_type": "code",
   "execution_count": 6,
   "metadata": {
    "collapsed": true
   },
   "outputs": [],
   "source": [
    "comware_template = requests.get('https://raw.githubusercontent.com/netmanchris/Jinja2-Network-Configurations-Scripts/master/simple_comware.j2').text"
   ]
  },
  {
   "cell_type": "code",
   "execution_count": 7,
   "metadata": {
    "collapsed": false
   },
   "outputs": [
    {
     "name": "stdout",
     "output_type": "stream",
     "text": [
      "#sysname config\n",
      "sysname {{ simple['hostname'] }}\n",
      "#vlan config\n",
      "{% for vlan in simple['vlans'] -%}\n",
      "vlan {{ vlan['id'] }}\n",
      "    name {{ vlan['name'] }}\n",
      "    description {{ vlan['description'] }}\n",
      "{% endfor %}#snmp_config\n",
      "snmp-agent\n",
      "snmp-agent community read {{ simple['snmp']['read'] }}\n",
      "snmp-agent community write {{ simple['snmp']['write'] }}\n",
      "snmp-agent sys-info contact {{ simple['snmp']['syscontact']  }}\n",
      "snmp-agent sys-info location {{ simple['snmp']['syslocation'] }}\n",
      "snmp-agent sys-info version all\n"
     ]
    }
   ],
   "source": [
    "print (comware_template)"
   ]
  },
  {
   "cell_type": "markdown",
   "metadata": {
    "slideshow": {
     "slide_type": "slide"
    }
   },
   "source": [
    "> ## Ahhhh... That's better."
   ]
  },
  {
   "cell_type": "markdown",
   "metadata": {
    "slideshow": {
     "slide_type": "slide"
    }
   },
   "source": [
    "# Loading Network Specific Values from GITHub\n",
    "\n",
    "Now we're going to load our network specific values which were stored in the YAML file in [this post](https://kontrolissues.wordpress.com/2016/01/19/more-jinja-working-with-yam-as-an-input/).  But this time, we're going to load them directly from a private github repository.  \n",
    "\n",
    "The free GITHub accounts allow you to have public repositories, which means everyone can see what you're doing, but if you have a [paid version](https://github.com/pricing), you can get private repositories for as little as five dollars a month.\n",
    "\n",
    "The private repositories are secured and can only be accessed by someone with a GIThub username and password who has explicitly been given access to this repository.\n",
    "\n",
    "I would say that it's probably a bad idea for us to keep any secure information like usernames, passwords, or SNMP strings in a online repository. But for my purposes, I don't have anythng of value in this lab environment so I'm not too worried about it.\n",
    "\n",
    "**note: Before you put any sensitive data into an online repository of any kind, be sure to check with your companies data policies to see if you're breaking any corporate rules.**\n",
    "\n"
   ]
  },
  {
   "cell_type": "markdown",
   "metadata": {
    "slideshow": {
     "slide_type": "slide"
    }
   },
   "source": [
    "## Creating an Auth Object\n",
    "\n",
    "First, I'm going to create an auth object, which is basically a single object that represents the username and password for my github account. In my case, I've got a file on my local hard drive that will automatically create the auth object for me. \n",
    "\n",
    "In case you're interested, the file is called *githubuser.py* and contains the following code.\n",
    "<code>\n",
    "from requests.auth import HTTPBasicAuth\n",
    "\n",
    "def gitcreds():\n",
    "    auth = HTTPBasicAuth('netmanchris', 'my_secret_password')\n",
    "    return auth\n",
    "\n",
    "    \n"
   ]
  },
  {
   "cell_type": "code",
   "execution_count": 8,
   "metadata": {
    "collapsed": true
   },
   "outputs": [],
   "source": [
    "auth = githubuser.gitcreds() #you didn't think I was going to give you my password did you?"
   ]
  },
  {
   "cell_type": "markdown",
   "metadata": {
    "slideshow": {
     "slide_type": "slide"
    }
   },
   "source": [
    "## Loading simple.yaml\n",
    "\n",
    "We'll now load the simple.yaml file like we did in [this post](https://kontrolissues.wordpress.com/2016/01/19/more-jinja-working-with-yam-as-an-input/) but instead of opening it from a local file, we're going to load it directly from the raw version of the file on github. I'd give you the link but it's in a private repository, so you won't be able to access it anyways. \n",
    "\n",
    "Thigs I want to point out\n",
    "- yaml.load:  takes the response and processes the yaml content directly into a python data structure ( dictionary )\n",
    "- .text: takes the \".text\" attribute from the requests object which is the content of the page. \n",
    "- auth = auth:  takes the auth object we created above and passes it as the username and password during the HTTP request. \n",
    "\n",
    "Make sense?"
   ]
  },
  {
   "cell_type": "code",
   "execution_count": 9,
   "metadata": {
    "collapsed": true
   },
   "outputs": [],
   "source": [
    "simple = yaml.load(requests.get('https://raw.githubusercontent.com/netmanchris/PrivateRepo/master/simple_config.yaml', auth=auth).text)"
   ]
  },
  {
   "cell_type": "code",
   "execution_count": 10,
   "metadata": {
    "collapsed": false
   },
   "outputs": [
    {
     "data": {
      "text/plain": [
       "{'hostname': 'testswitch',\n",
       " 'ip': '10.101.0.221',\n",
       " 'snmp': {'read': 'supersecret',\n",
       "  'syscontact': 'admin.lab.local',\n",
       "  'syslocation': 'lab',\n",
       "  'trap': [{'target': '10.101.0.200'},\n",
       "   {'target': '10.101.0.201'},\n",
       "   {'target': '10.101.0.202'}],\n",
       "  'write': 'macdonald'},\n",
       " 'vlans': [{'description': 'management vlan',\n",
       "   'id': '10',\n",
       "   'name': 'management'},\n",
       "  {'description': 'users vlan', 'id': '15', 'name': 'users'},\n",
       "  {'description': 'phones vlan', 'id': '16', 'name': 'phones'},\n",
       "  {'description': 'servers vlan', 'id': '20', 'name': 'servers vlan'}]}"
      ]
     },
     "execution_count": 10,
     "metadata": {},
     "output_type": "execute_result"
    }
   ],
   "source": [
    "simple"
   ]
  },
  {
   "cell_type": "markdown",
   "metadata": {
    "slideshow": {
     "slide_type": "slide"
    }
   },
   "source": [
    "# Putting it all together\n",
    "\n",
    "So looking at our list\n",
    "- download simple_comware.j2 template from Github public repo:    <span style=\"color:green\">**Check!**</span>\n",
    "- download simple.yaml values file from Github private repo: <span style=\"color:green\">**Check!**</span>\n",
    "- rendered templates:                                            <span style=\"color:red\">**Nope**</span>\n",
    "\n",
    "So I guess we know what comes next, right?"
   ]
  },
  {
   "cell_type": "markdown",
   "metadata": {
    "slideshow": {
     "slide_type": "slide"
    }
   },
   "source": [
    "# Rendering the final config\n",
    "\n",
    "We use the **Template** function to create a jinja2 template object and then we use the **simple** variable we created during the yaml section as input into the cw_template object."
   ]
  },
  {
   "cell_type": "code",
   "execution_count": 11,
   "metadata": {
    "collapsed": false
   },
   "outputs": [
    {
     "data": {
      "text/plain": [
       "jinja2.environment.Template"
      ]
     },
     "execution_count": 11,
     "metadata": {},
     "output_type": "execute_result"
    }
   ],
   "source": [
    "cw_template = Template(comware_template)\n",
    "type(cw_template)\n",
    "\n"
   ]
  },
  {
   "cell_type": "code",
   "execution_count": 12,
   "metadata": {
    "collapsed": false
   },
   "outputs": [
    {
     "name": "stdout",
     "output_type": "stream",
     "text": [
      "#sysname config\n",
      "sysname testswitch\n",
      "#vlan config\n",
      "vlan 10\n",
      "    name management\n",
      "    description management vlan\n",
      "vlan 15\n",
      "    name users\n",
      "    description users vlan\n",
      "vlan 16\n",
      "    name phones\n",
      "    description phones vlan\n",
      "vlan 20\n",
      "    name servers vlan\n",
      "    description servers vlan\n",
      "#snmp_config\n",
      "snmp-agent\n",
      "snmp-agent community read supersecret\n",
      "snmp-agent community write macdonald\n",
      "snmp-agent sys-info contact admin.lab.local\n",
      "snmp-agent sys-info location lab\n",
      "snmp-agent sys-info version all\n"
     ]
    }
   ],
   "source": [
    "print (cw_template.render(simple=simple))"
   ]
  },
  {
   "cell_type": "markdown",
   "metadata": {
    "slideshow": {
     "slide_type": "slide"
    }
   },
   "source": [
    "## Writing the Config to Disk\n",
    "\n",
    "So far we've only been rendering and printing configurations, but it would be kinda nice to be able to have these on disk so that we can open them in our favorite editor before we cut and paste them into a telnet session to our network device. \n",
    "\n",
    "The next two commands simply write the rendered template to disk with the filename **comware.cfg** and then we open and print the file to screen just to make sure it worked. "
   ]
  },
  {
   "cell_type": "code",
   "execution_count": 13,
   "metadata": {
    "collapsed": false
   },
   "outputs": [],
   "source": [
    "with open('comware.cfg', \"w\") as file:\n",
    "    file.write(cw_template.render(simple=simple))"
   ]
  },
  {
   "cell_type": "code",
   "execution_count": 14,
   "metadata": {
    "collapsed": false
   },
   "outputs": [
    {
     "name": "stdout",
     "output_type": "stream",
     "text": [
      "#sysname config\n",
      "sysname testswitch\n",
      "#vlan config\n",
      "vlan 10\n",
      "    name management\n",
      "    description management vlan\n",
      "vlan 15\n",
      "    name users\n",
      "    description users vlan\n",
      "vlan 16\n",
      "    name phones\n",
      "    description phones vlan\n",
      "vlan 20\n",
      "    name servers vlan\n",
      "    description servers vlan\n",
      "#snmp_config\n",
      "snmp-agent\n",
      "snmp-agent community read supersecret\n",
      "snmp-agent community write macdonald\n",
      "snmp-agent sys-info contact admin.lab.local\n",
      "snmp-agent sys-info location lab\n",
      "snmp-agent sys-info version all\n"
     ]
    }
   ],
   "source": [
    "with open('comware.cfg') as file:\n",
    "    print (file.read())"
   ]
  },
  {
   "cell_type": "markdown",
   "metadata": {
    "slideshow": {
     "slide_type": "slide"
    }
   },
   "source": [
    "# What's next?\n",
    "\n",
    "So far, we've come pretty far. We've written a couple of jinja templates, we've figure out how to store those files in a centralized control versioning system, but we're still cut'ing and past'ing those configurations ourselves which is not ideal.\n",
    "\n",
    "In the next post, we'll look at using APIs to push the configuraiton directly to a configuraiton management tool.\n",
    "\n",
    "Questions or comments?   Feel free to post below!\n",
    "\n",
    "@netmanchris\n"
   ]
  },
  {
   "cell_type": "code",
   "execution_count": null,
   "metadata": {
    "collapsed": true
   },
   "outputs": [],
   "source": []
  }
 ],
 "metadata": {
  "celltoolbar": "Slideshow",
  "kernelspec": {
   "display_name": "Python 3",
   "language": "python",
   "name": "python3"
  },
  "language_info": {
   "codemirror_mode": {
    "name": "ipython",
    "version": 3
   },
   "file_extension": ".py",
   "mimetype": "text/x-python",
   "name": "python",
   "nbconvert_exporter": "python",
   "pygments_lexer": "ipython3",
   "version": "3.4.3"
  }
 },
 "nbformat": 4,
 "nbformat_minor": 0
}

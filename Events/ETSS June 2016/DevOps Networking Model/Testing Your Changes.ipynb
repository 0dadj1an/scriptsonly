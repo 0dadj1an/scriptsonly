{
 "cells": [
  {
   "cell_type": "markdown",
   "metadata": {},
   "source": [
    "# Testing is good\n",
    "\n",
    "Testing is one of the most important things we can do in our infrastructure to make sure that things are configured the way we expect them to be and that the system as a whole is operating the way we want it to.\n",
    "\n",
    "In a world of dynamic protocols that are **designed** to continue to operate in the face of multiple failures, it's always good to make sure that you know when the system has gone through a failure.  \n",
    "\n",
    "If routing works the way it's supposed to, you may not even be aware you have a failure until the last bandaid finally falls off and you have a total meltdown.\n",
    "\n",
    "More importantly, Testing can be used to help gain confidence in your changes, not just for you, but for your peers, managers, and the business who depends on the network to get things done.\n",
    "\n",
    "We're going to start as usual by grabbing all the imports we need. \n",
    "\n",
    "** *Note: I'm going to fly through some of these steps as I've covered them pretty thouroughly in previous blogs, please feel free to ask/comment if there's something that you'd like me to explain in further detail* **"
   ]
  },
  {
   "cell_type": "code",
   "execution_count": 26,
   "metadata": {
    "collapsed": true
   },
   "outputs": [],
   "source": [
    "from pyhpeimc.auth import *\n",
    "from pyhpeimc.plat.icc import *\n",
    "from pyhpeimc.plat.device import *\n",
    "import jtextfsm as textfsm\n",
    "import yaml\n",
    "#import githubuser\n",
    "import mygithub   #file not in github repo\n",
    "auth = IMCAuth(\"http://\", \"10.101.0.203\", \"8080\", \"admin\", \"admin\")"
   ]
  },
  {
   "cell_type": "markdown",
   "metadata": {},
   "source": [
    "First we've got to grab the devID of the switch we wish to test "
   ]
  },
  {
   "cell_type": "code",
   "execution_count": 27,
   "metadata": {
    "collapsed": false
   },
   "outputs": [
    {
     "data": {
      "text/plain": [
       "'10'"
      ]
     },
     "execution_count": 27,
     "metadata": {},
     "output_type": "execute_result"
    }
   ],
   "source": [
    "devid = get_dev_details('10.101.0.221', auth.creds, auth.url)['id']\n",
    "devid"
   ]
  },
  {
   "cell_type": "markdown",
   "metadata": {},
   "source": [
    "Now we need to create the list of commands that we want to gather their output. For this example, we want to make sure that OSPF, as a system, is still working. So we want to gather the **display ospf peer** output so that we can tkae a look at the peers and make sure that all expected peers are still present and in a **Full/BDR** state."
   ]
  },
  {
   "cell_type": "code",
   "execution_count": 28,
   "metadata": {
    "collapsed": true
   },
   "outputs": [],
   "source": [
    "cmd_list = ['display ospf peer']"
   ]
  },
  {
   "cell_type": "markdown",
   "metadata": {},
   "source": [
    "Now that we've got the command list, we're going to use the **run_dev_cmd** function from the **pyhpeimc** library to gather this for the devid of the switch we specified above.\n",
    "\n",
    "We'll also take a quick look at the contents of the **contents** key of the object that is returned by the run_dev_cmd function."
   ]
  },
  {
   "cell_type": "code",
   "execution_count": 29,
   "metadata": {
    "collapsed": false
   },
   "outputs": [
    {
     "data": {
      "text/plain": [
       "'\\t          OSPF Process 1 with Router ID 10.101.0.221\\r\\n                        Neighbor Brief Information\\r\\n\\r\\n Area: 0.0.0.0\\r\\n Router ID       Address         Pri  Dead-Time  Interface       State\\r\\n 10.101.16.1     10.101.0.1      1    36         Vlan1           Full/BDR\\r\\n 10.101.16.1     10.101.15.1     1    32         Vlan15          Full/BDR\\r\\n 10.20.1.1       10.20.1.1       1    37         GE2/0/23        Full/BDR'"
      ]
     },
     "execution_count": 29,
     "metadata": {},
     "output_type": "execute_result"
    }
   ],
   "source": [
    "raw_text_data = run_dev_cmd(devid, cmd_list, auth.creds, auth.url)\n",
    "raw_text_data['content']"
   ]
  },
  {
   "cell_type": "markdown",
   "metadata": {},
   "source": [
    "Just to be sure, we'll print this out to make sure that this is the response we would actually expect for this command from that specific device OS."
   ]
  },
  {
   "cell_type": "code",
   "execution_count": 30,
   "metadata": {
    "collapsed": false
   },
   "outputs": [
    {
     "name": "stdout",
     "output_type": "stream",
     "text": [
      "\t          OSPF Process 1 with Router ID 10.101.0.221\r\n",
      "                        Neighbor Brief Information\r\n",
      "\r\n",
      " Area: 0.0.0.0\r\n",
      " Router ID       Address         Pri  Dead-Time  Interface       State\r\n",
      " 10.101.16.1     10.101.0.1      1    36         Vlan1           Full/BDR\r\n",
      " 10.101.16.1     10.101.15.1     1    32         Vlan15          Full/BDR\r\n",
      " 10.20.1.1       10.20.1.1       1    37         GE2/0/23        Full/BDR\n"
     ]
    }
   ],
   "source": [
    "print (raw_text_data['content'])"
   ]
  },
  {
   "cell_type": "markdown",
   "metadata": {},
   "source": [
    "We will now run this through a TextFSM template to transform this string into some structured text which will make it much easier to deal with.  "
   ]
  },
  {
   "cell_type": "code",
   "execution_count": 31,
   "metadata": {
    "collapsed": false
   },
   "outputs": [
    {
     "name": "stdout",
     "output_type": "stream",
     "text": [
      "There are currently 4 OSPF peers on this device\n"
     ]
    },
    {
     "data": {
      "text/plain": [
       "{'address': '10.101.0.1',\n",
       " 'area': '0.0.0.0',\n",
       " 'deadtime': '36',\n",
       " 'interface': 'Vlan1',\n",
       " 'pri': '1',\n",
       " 'router_id': '10.101.16.1',\n",
       " 'state': 'Full/BDR'}"
      ]
     },
     "execution_count": 31,
     "metadata": {},
     "output_type": "execute_result"
    }
   ],
   "source": [
    "template = open(\"./Textfsm/Templates/displayospf.textfsm\")\n",
    "re_table = textfsm.TextFSM(template)\n",
    "fsm_results = re_table.ParseText(raw_text_data['content'])\n",
    "ospf_peer = [ { 'area': i[0], 'router_id' :i[1], 'address':i[2], 'pri' :i[3], 'deadtime': i[4], 'interface': i[5], 'state': i[6]} for i in fsm_results]\n",
    "print ( \"There are currently \" + str(len(ospf_peer)) + ' OSPF peers on this device')\n",
    "ospf_peer[0]"
   ]
  },
  {
   "cell_type": "markdown",
   "metadata": {},
   "source": [
    "Now that we've got an object with all the OSPF Peers in them, let's write some quick code to see if the one specific peer, 10.20.1.1, is present in the OSPF peer table and if it's current state is Full/BDR.  This will let us know that the OSPF peer we expect to be in the table is, in fact, still in the table and in the FULL/BDR state which tells us there's a pretty good chance it's passing traffic.\n",
    "\n",
    "I've also added an **else** clause to "
   ]
  },
  {
   "cell_type": "code",
   "execution_count": 32,
   "metadata": {
    "collapsed": false
   },
   "outputs": [
    {
     "name": "stdout",
     "output_type": "stream",
     "text": [
      "10.101.0.1 was not the peer I was looking for\n",
      "10.101.15.1 was not the peer I was looking for\n",
      "10.20.1.1 was the peer I was looking for and it's Full\n",
      " was not the peer I was looking for\n"
     ]
    }
   ],
   "source": [
    "for peer in ospf_peer:\n",
    "    if (peer['address']) == '10.20.1.1' and peer['state'] == \"Full/BDR\":\n",
    "        print ( peer['address'] + \" was the peer I was looking for and it's Full\")\n",
    "    else:\n",
    "        print (peer['address'] + ' was not the peer I was looking for')"
   ]
  },
  {
   "cell_type": "markdown",
   "metadata": {},
   "source": [
    "# Checking IP Routes\n",
    "\n",
    "What about checking the routing table of a remote peer?\n"
   ]
  },
  {
   "cell_type": "code",
   "execution_count": 33,
   "metadata": {
    "collapsed": true
   },
   "outputs": [],
   "source": [
    "cmd_list = ['display ip routing-table']"
   ]
  },
  {
   "cell_type": "code",
   "execution_count": 34,
   "metadata": {
    "collapsed": false
   },
   "outputs": [
    {
     "data": {
      "text/plain": [
       "'Routing Tables: Public\\r\\n\\tDestinations : 58\\tRoutes : 59\\r\\n\\r\\nDestination/Mask    Proto  Pre  Cost         NextHop         Interface\\r\\n\\r\\n0.0.0.0/0           Static 60   0            10.101.0.1      Vlan1\\r\\n10.3.10.0/24        Direct 0    0            10.3.10.1       Vlan20\\r\\n10.3.10.1/32        Direct 0    0            127.0.0.1       InLoop0\\r\\n10.10.3.0/24        Direct 0    0            10.10.3.1       Vlan3\\r\\n10.10.3.1/32        Direct 0    0            127.0.0.1       InLoop0\\r\\n10.10.10.0/24       Direct 0    0            10.10.10.1      Vlan10\\r\\n10.10.10.1/32       Direct 0    0            127.0.0.1       InLoop0\\r\\n10.10.11.0/24       Direct 0    0            10.10.11.1      Vlan11\\r\\n10.10.11.1/32       Direct 0    0            127.0.0.1       InLoop0\\r\\n10.10.12.0/24       Direct 0    0            10.10.12.1      Vlan12\\r\\n10.10.12.1/32       Direct 0    0            127.0.0.1       InLoop0\\r\\n10.10.13.0/24       Direct 0    0            10.10.13.1      Vlan13\\r\\n10.10.13.1/32       Direct 0    0            127.0.0.1       InLoop0\\r\\n10.10.50.0/24       Direct 0    0            10.10.50.1      Vlan500\\r\\n10.10.50.1/32       Direct 0    0            127.0.0.1       InLoop0\\r\\n10.10.101.0/24      Direct 0    0            10.10.101.1     Vlan101\\r\\n10.10.101.1/32      Direct 0    0            127.0.0.1       InLoop0\\r\\n10.10.102.0/24      Direct 0    0            10.10.102.1     Vlan102\\r\\n10.10.102.1/32      Direct 0    0            127.0.0.1       InLoop0\\r\\n10.10.103.0/24      Direct 0    0            10.10.103.1     Vlan103\\r\\n10.10.103.1/32      Direct 0    0            127.0.0.1       InLoop0\\r\\n10.10.105.0/24      Direct 0    0            10.10.105.1     Vlan105\\r\\n10.10.105.1/32      Direct 0    0            127.0.0.1       InLoop0\\r\\n10.10.106.0/24      Direct 0    0            10.10.106.1     Vlan106\\r\\n10.10.106.1/32      Direct 0    0            127.0.0.1       InLoop0\\r\\n10.10.201.0/24      Direct 0    0            10.10.201.1     Vlan201\\r\\n10.10.201.1/32      Direct 0    0            127.0.0.1       InLoop0\\r\\n10.10.203.0/24      Direct 0    0            10.10.203.1     Vlan203\\r\\n10.10.203.1/32      Direct 0    0            127.0.0.1       InLoop0\\r\\n10.20.1.0/24        Direct 0    0            10.20.1.254     GE2/0/23\\r\\n10.20.1.254/32      Direct 0    0            127.0.0.1       InLoop0\\r\\n10.20.10.0/24       Direct 0    0            10.20.10.1      GE1/0/22\\r\\n10.20.10.1/32       Direct 0    0            127.0.0.1       InLoop0\\r\\n10.101.0.0/24       Direct 0    0            10.101.0.221    Vlan1\\r\\n10.101.0.221/32     Direct 0    0            127.0.0.1       InLoop0\\r\\n10.101.2.0/24       Direct 0    0            10.101.2.1      Vlan2\\r\\n10.101.2.1/32       Direct 0    0            127.0.0.1       InLoop0\\r\\n10.101.15.0/24      Direct 0    0            10.101.15.254   Vlan15\\r\\n10.101.15.254/32    Direct 0    0            127.0.0.1       InLoop0\\r\\n10.101.16.0/24      OSPF   10   2            10.101.0.1      Vlan1\\r\\n                    OSPF   10   2            10.101.15.1     Vlan15\\r\\n10.102.1.0/24       Direct 0    0            10.102.1.2      Vlan50\\r\\n10.102.1.2/32       Direct 0    0            127.0.0.1       InLoop0\\r\\n127.0.0.0/8         Direct 0    0            127.0.0.1       InLoop0\\r\\n127.0.0.1/32        Direct 0    0            127.0.0.1       InLoop0\\r\\n172.16.2.0/24       Direct 0    0            172.16.2.1      Vlan2000\\r\\n172.16.2.1/32       Direct 0    0            127.0.0.1       InLoop0\\r\\n172.16.3.0/24       Direct 0    0            172.16.3.1      Vlan2001\\r\\n172.16.3.1/32       Direct 0    0            127.0.0.1       InLoop0\\r\\n172.16.3.10/32      Direct 0    0            127.0.0.1       InLoop0\\r\\n172.16.4.0/24       Direct 0    0            172.16.4.1      Vlan2002\\r\\n172.16.4.1/32       Direct 0    0            127.0.0.1       InLoop0\\r\\n172.16.5.0/24       Direct 0    0            172.16.5.1      Vlan2003\\r\\n172.16.5.1/32       Direct 0    0            127.0.0.1       InLoop0\\r\\n172.16.6.0/24       Direct 0    0            172.16.6.1      Vlan2004\\r\\n172.16.6.1/32       Direct 0    0            127.0.0.1       InLoop0\\r\\n172.16.7.0/24       Direct 0    0            172.16.7.1      Vlan2007\\r\\n172.16.7.1/32       Direct 0    0            127.0.0.1       InLoop0\\r\\n192.168.1.221/32    Direct 0    0            127.0.0.1       InLoop0\\r\\n'"
      ]
     },
     "execution_count": 34,
     "metadata": {},
     "output_type": "execute_result"
    }
   ],
   "source": [
    "raw_text_data = run_dev_cmd(devid, cmd_list, auth.creds, auth.url)\n",
    "raw_text_data['content']"
   ]
  },
  {
   "cell_type": "code",
   "execution_count": 35,
   "metadata": {
    "collapsed": false
   },
   "outputs": [
    {
     "name": "stdout",
     "output_type": "stream",
     "text": [
      "Routing Tables: Public\r\n",
      "\tDestinations : 58\tRoutes : 59\r\n",
      "\r\n",
      "Destination/Mask    Proto  Pre  Cost         NextHop         Interface\r\n",
      "\r\n",
      "0.0.0.0/0           Static 60   0            10.101.0.1      Vlan1\r\n",
      "10.3.10.0/24        Direct 0    0            10.3.10.1       Vlan20\r\n",
      "10.3.10.1/32        Direct 0    0            127.0.0.1       InLoop0\r\n",
      "10.10.3.0/24        Direct 0    0            10.10.3.1       Vlan3\r\n",
      "10.10.3.1/32        Direct 0    0            127.0.0.1       InLoop0\r\n",
      "10.10.10.0/24       Direct 0    0            10.10.10.1      Vlan10\r\n",
      "10.10.10.1/32       Direct 0    0            127.0.0.1       InLoop0\r\n",
      "10.10.11.0/24       Direct 0    0            10.10.11.1      Vlan11\r\n",
      "10.10.11.1/32       Direct 0    0            127.0.0.1       InLoop0\r\n",
      "10.10.12.0/24       Direct 0    0            10.10.12.1      Vlan12\r\n",
      "10.10.12.1/32       Direct 0    0            127.0.0.1       InLoop0\r\n",
      "10.10.13.0/24       Direct 0    0            10.10.13.1      Vlan13\r\n",
      "10.10.13.1/32       Direct 0    0            127.0.0.1       InLoop0\r\n",
      "10.10.50.0/24       Direct 0    0            10.10.50.1      Vlan500\r\n",
      "10.10.50.1/32       Direct 0    0            127.0.0.1       InLoop0\r\n",
      "10.10.101.0/24      Direct 0    0            10.10.101.1     Vlan101\r\n",
      "10.10.101.1/32      Direct 0    0            127.0.0.1       InLoop0\r\n",
      "10.10.102.0/24      Direct 0    0            10.10.102.1     Vlan102\r\n",
      "10.10.102.1/32      Direct 0    0            127.0.0.1       InLoop0\r\n",
      "10.10.103.0/24      Direct 0    0            10.10.103.1     Vlan103\r\n",
      "10.10.103.1/32      Direct 0    0            127.0.0.1       InLoop0\r\n",
      "10.10.105.0/24      Direct 0    0            10.10.105.1     Vlan105\r\n",
      "10.10.105.1/32      Direct 0    0            127.0.0.1       InLoop0\r\n",
      "10.10.106.0/24      Direct 0    0            10.10.106.1     Vlan106\r\n",
      "10.10.106.1/32      Direct 0    0            127.0.0.1       InLoop0\r\n",
      "10.10.201.0/24      Direct 0    0            10.10.201.1     Vlan201\r\n",
      "10.10.201.1/32      Direct 0    0            127.0.0.1       InLoop0\r\n",
      "10.10.203.0/24      Direct 0    0            10.10.203.1     Vlan203\r\n",
      "10.10.203.1/32      Direct 0    0            127.0.0.1       InLoop0\r\n",
      "10.20.1.0/24        Direct 0    0            10.20.1.254     GE2/0/23\r\n",
      "10.20.1.254/32      Direct 0    0            127.0.0.1       InLoop0\r\n",
      "10.20.10.0/24       Direct 0    0            10.20.10.1      GE1/0/22\r\n",
      "10.20.10.1/32       Direct 0    0            127.0.0.1       InLoop0\r\n",
      "10.101.0.0/24       Direct 0    0            10.101.0.221    Vlan1\r\n",
      "10.101.0.221/32     Direct 0    0            127.0.0.1       InLoop0\r\n",
      "10.101.2.0/24       Direct 0    0            10.101.2.1      Vlan2\r\n",
      "10.101.2.1/32       Direct 0    0            127.0.0.1       InLoop0\r\n",
      "10.101.15.0/24      Direct 0    0            10.101.15.254   Vlan15\r\n",
      "10.101.15.254/32    Direct 0    0            127.0.0.1       InLoop0\r\n",
      "10.101.16.0/24      OSPF   10   2            10.101.0.1      Vlan1\r\n",
      "                    OSPF   10   2            10.101.15.1     Vlan15\r\n",
      "10.102.1.0/24       Direct 0    0            10.102.1.2      Vlan50\r\n",
      "10.102.1.2/32       Direct 0    0            127.0.0.1       InLoop0\r\n",
      "127.0.0.0/8         Direct 0    0            127.0.0.1       InLoop0\r\n",
      "127.0.0.1/32        Direct 0    0            127.0.0.1       InLoop0\r\n",
      "172.16.2.0/24       Direct 0    0            172.16.2.1      Vlan2000\r\n",
      "172.16.2.1/32       Direct 0    0            127.0.0.1       InLoop0\r\n",
      "172.16.3.0/24       Direct 0    0            172.16.3.1      Vlan2001\r\n",
      "172.16.3.1/32       Direct 0    0            127.0.0.1       InLoop0\r\n",
      "172.16.3.10/32      Direct 0    0            127.0.0.1       InLoop0\r\n",
      "172.16.4.0/24       Direct 0    0            172.16.4.1      Vlan2002\r\n",
      "172.16.4.1/32       Direct 0    0            127.0.0.1       InLoop0\r\n",
      "172.16.5.0/24       Direct 0    0            172.16.5.1      Vlan2003\r\n",
      "172.16.5.1/32       Direct 0    0            127.0.0.1       InLoop0\r\n",
      "172.16.6.0/24       Direct 0    0            172.16.6.1      Vlan2004\r\n",
      "172.16.6.1/32       Direct 0    0            127.0.0.1       InLoop0\r\n",
      "172.16.7.0/24       Direct 0    0            172.16.7.1      Vlan2007\r\n",
      "172.16.7.1/32       Direct 0    0            127.0.0.1       InLoop0\r\n",
      "192.168.1.221/32    Direct 0    0            127.0.0.1       InLoop0\r\n",
      "\n"
     ]
    }
   ],
   "source": [
    "print (raw_text_data['content'])"
   ]
  },
  {
   "cell_type": "code",
   "execution_count": 36,
   "metadata": {
    "collapsed": false
   },
   "outputs": [
    {
     "data": {
      "text/plain": [
       "{'Cost': '0',\n",
       " 'DestinationMask': '0.0.0.0/0 ',\n",
       " 'Interface': 'Vlan1',\n",
       " 'NextHop': '10.101.0.1 ',\n",
       " 'Pre': '60',\n",
       " 'Proto': 'Static'}"
      ]
     },
     "execution_count": 36,
     "metadata": {},
     "output_type": "execute_result"
    }
   ],
   "source": [
    "template = open(\"./Textfsm/Templates/displayiproutingtable.textfsm\")\n",
    "re_table = textfsm.TextFSM(template)\n",
    "fsm_results = re_table.ParseText(raw_text_data['content'])\n",
    "ip_routes = [ { 'DestinationMask': i[0], 'Proto' :i[1], 'Pre':i[2], 'Cost' :i[3], 'NextHop': i[4], 'Interface': i[5]} for i in fsm_results]\n",
    "ip_routes[0]"
   ]
  },
  {
   "cell_type": "code",
   "execution_count": 37,
   "metadata": {
    "collapsed": false
   },
   "outputs": [
    {
     "name": "stdout",
     "output_type": "stream",
     "text": [
      "{\n",
      "    \"Proto\": \"Direct\",\n",
      "    \"Interface\": \"GE1/0/22\",\n",
      "    \"NextHop\": \"10.20.10.1 \",\n",
      "    \"Pre\": \"0\",\n",
      "    \"DestinationMask\": \"10.20.10.0/24\",\n",
      "    \"Cost\": \"0\"\n",
      "}\n"
     ]
    }
   ],
   "source": [
    "for route in ip_routes:\n",
    "    if route['DestinationMask'] == \"10.20.10.0/24\":\n",
    "        print (json.dumps(route, indent =4))\n"
   ]
  },
  {
   "cell_type": "markdown",
   "metadata": {},
   "source": [
    "# Checking VLANs"
   ]
  },
  {
   "cell_type": "code",
   "execution_count": 20,
   "metadata": {
    "collapsed": false
   },
   "outputs": [
    {
     "data": {
      "text/plain": [
       "'349'"
      ]
     },
     "execution_count": 20,
     "metadata": {},
     "output_type": "execute_result"
    }
   ],
   "source": [
    "devid = get_dev_details('10.20.10.10', auth.creds, auth.url)['id']\n",
    "devid"
   ]
  },
  {
   "cell_type": "code",
   "execution_count": 21,
   "metadata": {
    "collapsed": true
   },
   "outputs": [],
   "source": [
    "cmd_list = ['display vlan brief']"
   ]
  },
  {
   "cell_type": "code",
   "execution_count": 22,
   "metadata": {
    "collapsed": false
   },
   "outputs": [
    {
     "data": {
      "text/plain": [
       "'Brief information about all VLANs:\\r\\r\\nSupported Minimum VLAN ID: 1\\r\\r\\nSupported Maximum VLAN ID: 4094\\r\\r\\nDefault VLAN ID: 1\\r\\r\\nVLAN ID   Name                             Port\\r\\r\\n1         default                          FGE1/0/49  FGE1/0/50  FGE1/0/51  \\r\\r\\n                                           FGE1/0/52  XGE1/0/1  XGE1/0/2  \\r\\r\\n                                           XGE1/0/3  XGE1/0/4  XGE1/0/5  \\r\\r\\n                                           XGE1/0/6  XGE1/0/7  XGE1/0/8  \\r\\r\\n                                           XGE1/0/9  XGE1/0/10  XGE1/0/11  \\r\\r\\n                                           XGE1/0/12  XGE1/0/13  XGE1/0/14  \\r\\r\\n                                           XGE1/0/15  XGE1/0/16  XGE1/0/17  \\r\\r\\n                                           XGE1/0/18  XGE1/0/19  XGE1/0/20  \\r\\r\\n                                           XGE1/0/21  XGE1/0/22  XGE1/0/23  \\r\\r\\n                                           XGE1/0/24  XGE1/0/25  XGE1/0/26  \\r\\r\\n                                           XGE1/0/27  XGE1/0/28  XGE1/0/29  \\r\\r\\n                                           XGE1/0/30  XGE1/0/31  XGE1/0/32  \\r\\r\\n                                           XGE1/0/33  XGE1/0/34  XGE1/0/35  \\r\\r\\n                                           XGE1/0/36  XGE1/0/37  XGE1/0/38  \\r\\r\\n                                           XGE1/0/39  XGE1/0/40  XGE1/0/41  \\r\\r\\n                                           XGE1/0/42  XGE1/0/43  XGE1/0/44  \\r\\r\\n                                           XGE1/0/45  XGE1/0/46  XGE1/0/47  \\r\\r\\n                                           XGE1/0/48  \\r\\r\\n\\r\\r               \\r5         DoesntBelong                     \\r'"
      ]
     },
     "execution_count": 22,
     "metadata": {},
     "output_type": "execute_result"
    }
   ],
   "source": [
    "raw_text_data = run_dev_cmd(devid, cmd_list, auth.creds, auth.url)\n",
    "raw_text_data['content']"
   ]
  },
  {
   "cell_type": "code",
   "execution_count": 23,
   "metadata": {
    "collapsed": false
   },
   "outputs": [
    {
     "name": "stdout",
     "output_type": "stream",
     "text": [
      "Brief information about all VLANs:\r",
      "\r\n",
      "Supported Minimum VLAN ID: 1\r",
      "\r\n",
      "Supported Maximum VLAN ID: 4094\r",
      "\r\n",
      "Default VLAN ID: 1\r",
      "\r\n",
      "VLAN ID   Name                             Port\r",
      "\r\n",
      "1         default                          FGE1/0/49  FGE1/0/50  FGE1/0/51  \r",
      "\r\n",
      "                                           FGE1/0/52  XGE1/0/1  XGE1/0/2  \r",
      "\r\n",
      "                                           XGE1/0/3  XGE1/0/4  XGE1/0/5  \r",
      "\r\n",
      "                                           XGE1/0/6  XGE1/0/7  XGE1/0/8  \r",
      "\r\n",
      "                                           XGE1/0/9  XGE1/0/10  XGE1/0/11  \r",
      "\r\n",
      "                                           XGE1/0/12  XGE1/0/13  XGE1/0/14  \r",
      "\r\n",
      "                                           XGE1/0/15  XGE1/0/16  XGE1/0/17  \r",
      "\r\n",
      "                                           XGE1/0/18  XGE1/0/19  XGE1/0/20  \r",
      "\r\n",
      "                                           XGE1/0/21  XGE1/0/22  XGE1/0/23  \r",
      "\r\n",
      "                                           XGE1/0/24  XGE1/0/25  XGE1/0/26  \r",
      "\r\n",
      "                                           XGE1/0/27  XGE1/0/28  XGE1/0/29  \r",
      "\r\n",
      "                                           XGE1/0/30  XGE1/0/31  XGE1/0/32  \r",
      "\r\n",
      "                                           XGE1/0/33  XGE1/0/34  XGE1/0/35  \r",
      "\r\n",
      "                                           XGE1/0/36  XGE1/0/37  XGE1/0/38  \r",
      "\r\n",
      "                                           XGE1/0/39  XGE1/0/40  XGE1/0/41  \r",
      "\r\n",
      "                                           XGE1/0/42  XGE1/0/43  XGE1/0/44  \r",
      "\r\n",
      "                                           XGE1/0/45  XGE1/0/46  XGE1/0/47  \r",
      "\r\n",
      "                                           XGE1/0/48  \r",
      "\r\n",
      "\r",
      "\r",
      "               \r",
      "5         DoesntBelong                     \r\n"
     ]
    }
   ],
   "source": [
    "print (raw_text_data['content'])"
   ]
  },
  {
   "cell_type": "code",
   "execution_count": 24,
   "metadata": {
    "collapsed": false
   },
   "outputs": [],
   "source": [
    "template = open(\"./TextFSM/Templates/displayvlanbrief.textfsm\")\n",
    "re_table = textfsm.TextFSM(template)\n",
    "fsm_results = re_table.ParseText(raw_text_data['content'])"
   ]
  },
  {
   "cell_type": "code",
   "execution_count": 25,
   "metadata": {
    "collapsed": false
   },
   "outputs": [
    {
     "data": {
      "text/plain": [
       "[{'vlanId': '1', 'vlanName': 'default'},\n",
       " {'vlanId': '5', 'vlanName': 'DoesntBelong'}]"
      ]
     },
     "execution_count": 25,
     "metadata": {},
     "output_type": "execute_result"
    }
   ],
   "source": [
    "fsm_results\n",
    "dev_vlans = [ {'vlanId': i[0], 'vlanName' : i[1]} for i in fsm_results]\n",
    "dev_vlans"
   ]
  },
  {
   "cell_type": "markdown",
   "metadata": {},
   "source": [
    "#  Checking our work\n",
    "\n",
    "Now that we've captured the VLANs present on the device, we can easily compare this back to the GITHUB YAML file where we originally defined what VLANs should be on the device.\n",
    "\n",
    "First we'll create the git_vlans object from the file vlans.yaml directly from GITHUB. "
   ]
  },
  {
   "cell_type": "code",
   "execution_count": 288,
   "metadata": {
    "collapsed": false
   },
   "outputs": [],
   "source": [
    "gitauth = mygithub.gitcreds() #you didn't think I was going to give you my password did you?\n",
    "git_vlans = yaml.load(requests.get('https://raw.githubusercontent.com/netmanchris/Jinja2-Network-Configurations-Scripts/master/vlans.yaml', auth=gitauth).text)"
   ]
  },
  {
   "cell_type": "markdown",
   "metadata": {},
   "source": [
    "## Cleaning up a bit\n",
    "\n",
    "If we take a look at the gitvlans variable, we can see it's a little too deep for what we want to do. \n",
    "We're going to perform two transformations on the data here to get it to where we want it to be\n",
    "- grab the contents of the git_vlans['vlans'] key which is just the list of vlans.\n",
    "- use the .pop()  method on each of the vlans to get rid of the **vlanStatus** key which we don't want here\n",
    "\n",
    "For the "
   ]
  },
  {
   "cell_type": "code",
   "execution_count": 235,
   "metadata": {
    "collapsed": false
   },
   "outputs": [
    {
     "data": {
      "text/plain": [
       "[{'vlanId': '1', 'vlanName': 'default'},\n",
       " {'vlanId': '2', 'vlanName': 'TenantABC'},\n",
       " {'vlanId': '3', 'vlanName': 'management'},\n",
       " {'vlanId': '10', 'vlanName': 'mgmt'}]"
      ]
     },
     "execution_count": 235,
     "metadata": {},
     "output_type": "execute_result"
    }
   ],
   "source": [
    "git_vlans = git_vlans['vlans']\n",
    "for vlan in git_vlans:\n",
    "    vlan.pop('vlanStatus')\n",
    "git_vlans"
   ]
  },
  {
   "cell_type": "markdown",
   "metadata": {},
   "source": [
    "## Comparing git_vlans and dev_vlans\n",
    "\n",
    "Now that we've got two different list which contain a vlan dictionary for each VLAN with the exact same keys, we can do a boolean magic to see if each of the VLANs are present in the other objects. \n",
    "\n",
    "We'll first do this by comparing to see if all of the VLANs from the **git_vlans** object **are** actually on the device. The git_vlans objects was loaded from a YAML file on github where we defined what VLANS **should** be on the device, remember?"
   ]
  },
  {
   "cell_type": "code",
   "execution_count": 236,
   "metadata": {
    "collapsed": false
   },
   "outputs": [
    {
     "name": "stdout",
     "output_type": "stream",
     "text": [
      "1 is there\n",
      "2 is there\n",
      "3 is there\n",
      "10 is there\n"
     ]
    }
   ],
   "source": [
    "for vlan in git_vlans:\n",
    "        if vlan in dev_vlans:\n",
    "            print (vlan['vlanId'] + \" is there\")\n",
    "        elif vlan not in dev_vlans:\n",
    "            print (devv['vlanId'] + \" is not there\")"
   ]
  },
  {
   "cell_type": "markdown",
   "metadata": {},
   "source": [
    "## Comparing dev_vlans to git_vlans\n",
    "\n",
    "You didn't think we were done did you?\n",
    "\n",
    "For the last step here, we'll do the exact opposite to see if all of the vlans that are actually present on the device are also defined in the vlans.yaml file on github. We want to make sure that no body snuck in and configured a VLAN in our production environment when we weren't looking, right?"
   ]
  },
  {
   "cell_type": "code",
   "execution_count": 237,
   "metadata": {
    "collapsed": false
   },
   "outputs": [
    {
     "name": "stdout",
     "output_type": "stream",
     "text": [
      "VLAN 1 should be there\n",
      "VLAN 2 should be there\n",
      "VLAN 3 should be there\n",
      "\n",
      "Somebody added VLAN 5 when we weren't looking. \n",
      " \n",
      "Go slap them please.\n",
      "\n",
      "\n",
      "VLAN 10 should be there\n"
     ]
    }
   ],
   "source": [
    "for vlan in dev_vlans:\n",
    "        if vlan in git_vlans:\n",
    "            print ( \"VLAN \" + vlan['vlanId'] + \" should be there\")\n",
    "        elif vlan not in git_vlans:\n",
    "            print ( \"\\nSomebody added VLAN \" + vlan['vlanId'] + \" when we weren't looking. \\n \\nGo slap them please.\\n\\n\")"
   ]
  },
  {
   "cell_type": "code",
   "execution_count": null,
   "metadata": {
    "collapsed": true
   },
   "outputs": [],
   "source": []
  }
 ],
 "metadata": {
  "kernelspec": {
   "display_name": "Python 3",
   "language": "python",
   "name": "python3"
  },
  "language_info": {
   "codemirror_mode": {
    "name": "ipython",
    "version": 3
   },
   "file_extension": ".py",
   "mimetype": "text/x-python",
   "name": "python",
   "nbconvert_exporter": "python",
   "pygments_lexer": "ipython3",
   "version": "3.4.3"
  }
 },
 "nbformat": 4,
 "nbformat_minor": 0
}

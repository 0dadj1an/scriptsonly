{
 "cells": [
  {
   "cell_type": "markdown",
   "metadata": {},
   "source": [
    "We've looked at generating configurations for a single device, but what happens if we want to start generating standardized configurations for a group of devices, say a data center fabric?\n",
    "\n",
    "Well Jinja2, YAML, and a bit of python code can help you with that as well!\n",
    "\n",
    "\n",
    "First, let's get all our initial imports out of the way and set the environment variable, you'll notice I'm actually loading the env in a subdirectory here"
   ]
  },
  {
   "cell_type": "code",
   "execution_count": 7,
   "metadata": {
    "collapsed": true
   },
   "outputs": [],
   "source": [
    "from jinja2 import Environment, FileSystemLoader, Template\n",
    "import yaml\n",
    "import json\n",
    "ENV = Environment(loader=FileSystemLoader('./Generate_Spine_Leaf_Configs'))\n",
    "import os"
   ]
  },
  {
   "cell_type": "markdown",
   "metadata": {},
   "source": [
    "## Global Values\n",
    "\n",
    "In most environments, there are a lot of values that are identical between network devices, some of these may include\n",
    "- SNMP Settings\n",
    "- Usernames and Passwords\n",
    "- SNMP Trap Receiver\n",
    "- SYSLOG Server\n",
    "- NTP Server\n",
    "- Etc.\n",
    "\n",
    "Part of the power of automation is to not repeat yourself more than you have to right? So the first thing we do is split apart the device specific elements of the configurations vs. the elements that are global, or shared between the  different devices.\n",
    "\n",
    "To do that we've created two files, one called **globalvals.yaml** which we'll look first, and then one called **devs** which we will take a look at below.\n",
    "\n",
    "## Examining **globalvals**\n",
    "\n",
    "Now that we've loaded the **globalvals.yaml** file into a python dictionary called **devglobals** let's take a quick look and see what's in here. We're going to first convert it back to YAML and then print it out. YAML's a little easier to read for human beings which is why we use it so much. \n",
    "\n",
    "\n",
    "Looking at the output below, you can see we've got sections for \n",
    "- ecmpmode\n",
    "- ospf\n",
    "- snmp\n",
    "- users\n",
    "- vlans\n",
    "\n",
    "If you're reading this, I'm assuming you're a network professional and I'm guessing I don't need to explain what any of these pieces actually are. It's all pretty straight forward, but if I've guessed wrong, please let me know in the comments. \n"
   ]
  },
  {
   "cell_type": "code",
   "execution_count": 10,
   "metadata": {
    "collapsed": false
   },
   "outputs": [],
   "source": [
    "with open(\"./Generate_Spine_Leaf_Configs/Inputs/globalvals.yaml\") as inputfile:\n",
    "    devglobals =  yaml.load(inputfile)\n"
   ]
  },
  {
   "cell_type": "code",
   "execution_count": 20,
   "metadata": {
    "collapsed": false
   },
   "outputs": [
    {
     "name": "stdout",
     "output_type": "stream",
     "text": [
      "ecmpmode: enhanced\n",
      "ospf: {area: 0, network: 192.168.0.0, process: 1, wildcard: 0.0.255.255}\n",
      "snmp:\n",
      "    read: public\n",
      "    syscontact: admin.lab.local\n",
      "    syslocation: lab\n",
      "    trap:\n",
      "    - {target: 10.10.10.10}\n",
      "    write: private\n",
      "users:\n",
      "- {password: admin, username: admin}\n",
      "vlans:\n",
      "- {description: management vlan, id: '10', name: management}\n",
      "- {description: users vlan, id: '15', name: users}\n",
      "- {description: phones vlan, id: '16', name: phones}\n",
      "- {description: servers vlan, id: '20', name: servers vlan}\n",
      "\n"
     ]
    }
   ],
   "source": [
    "print (yaml.dump(devglobals, indent = 4))"
   ]
  },
  {
   "cell_type": "markdown",
   "metadata": {},
   "source": [
    "## Examining **devices.yaml**\n",
    "\n",
    "Now that we've loaded the **devices.yaml** file into a python dictionary called **devs** let's take a quick look and see what's in here. We're going to first convert it back to YAML and then print it out. YAML's a little easier to read for human beings which is why we use it so much. \n",
    "\n",
    "\n",
    "Looking at the output below, you can see we've got sections for four sections, each of which are describing the unique values for four different switches. If you're following along at home, the switches are named\n",
    "- 7904-1\n",
    "- 7904-2\n",
    "- 5930-1\n",
    "- 5930-3\n",
    "\n",
    "If you look at each individual switch, they all have the same attributes which I'm pretty sure you'll understand exactly what they're doing if you take a few moments to read through them.\n",
    "\n",
    "- interfaces\n",
    "- oobm\n",
    "- role\n",
    "- routerid\n",
    "- sysname\n",
    "- type\n",
    "\n"
   ]
  },
  {
   "cell_type": "code",
   "execution_count": 12,
   "metadata": {
    "collapsed": false
   },
   "outputs": [],
   "source": [
    "with open(\"./Generate_Spine_Leaf_Configs/Inputs/devices.yaml\") as inputfile:\n",
    "    devs =  yaml.load(inputfile)\n"
   ]
  },
  {
   "cell_type": "code",
   "execution_count": 21,
   "metadata": {
    "collapsed": false
   },
   "outputs": [
    {
     "name": "stdout",
     "output_type": "stream",
     "text": [
      "-   interfaces:\n",
      "    - {description: LoopBack0, ifdesc: LoopBack0, ipaddress: 192.168.1.1, mask: 255.255.255.255}\n",
      "    - {description: OOBM Interface, ifdesc: M-GigabitEthernet1/0/0/0, ipaddress: 10.10.10.40,\n",
      "        mask: 255.255.255.0}\n",
      "    - {description: link to 5930-2, ifdesc: Ten-GigabitEthernet1/2/0/3, ipaddress: 192.168.2.5,\n",
      "        mask: 255.255.255.252, portmode: route}\n",
      "    - {description: link to 5930-1, ifdesc: Ten-GigabitEthernet1/2/0/4, ipaddress: 192.168.2.1,\n",
      "        mask: 255.255.255.252, portmode: route}\n",
      "    oobm: 10.10.10.40\n",
      "    role: spine\n",
      "    routerid: 192.168.1.1\n",
      "    sysname: 7904-1\n",
      "    type: 7900\n",
      "-   interfaces:\n",
      "    - {description: LoopBack0, ifdesc: LoopBack0, ipaddress: 192.168.1.2, mask: 255.255.255.255}\n",
      "    - {description: OOBM Interface, ifdesc: M-GigabitEthernet1/0/0/0, ipaddress: 10.10.10.41,\n",
      "        mask: 255.255.255.0}\n",
      "    - {description: link to 5930-2, ifdesc: Ten-GigabitEthernet1/2/0/3, ipaddress: 192.168.2.13,\n",
      "        mask: 255.255.255.252, portmode: route}\n",
      "    - {description: link to 5930-1, ifdesc: Ten-GigabitEthernet1/2/0/4, ipaddress: 192.168.2.9,\n",
      "        mask: 255.255.255.252, portmode: route}\n",
      "    oobm: 10.10.10.41\n",
      "    role: spine\n",
      "    routerid: 192.168.1.2\n",
      "    sysname: 7904-2\n",
      "-   interfaces:\n",
      "    - {description: LoopBack0, ifdesc: LoopBack0, ipaddress: 192.168.1.11, mask: 255.255.255.255}\n",
      "    - {description: OOBM Interface, ifdesc: M-GigabitEthernet0/0/0, ipaddress: 10.10.10.42,\n",
      "        mask: 255.255.255.0}\n",
      "    - {description: link to 7904-2, ifdesc: Ten-GigabitEthernet1/1/1, ipaddress: 192.168.2.10,\n",
      "        mask: 255.255.255.252, portmode: route}\n",
      "    - {description: link to 7904-1, ifdesc: Ten-GigabitEthernet1/1/2, ipaddress: 192.168.2.2,\n",
      "        mask: 255.255.255.252, portmode: route}\n",
      "    oobm: 10.10.10.42\n",
      "    role: leaf\n",
      "    routerid: 192.168.1.11\n",
      "    sysname: 5930-1\n",
      "-   interfaces:\n",
      "    - {description: LoopBack0, ifdesc: LoopBack0, ipaddress: 192.168.1.12, mask: 255.255.255.255}\n",
      "    - {description: OOBM Interface, ifdesc: M-GigabitEthernet0/0/0, ipaddress: 10.10.10.43,\n",
      "        mask: 255.255.255.0}\n",
      "    - {description: link to 5930-2, ifdesc: Ten-GigabitEthernet1/1/1, ipaddress: 192.168.2.14,\n",
      "        mask: 255.255.255.252, portmode: route}\n",
      "    - {description: link to 5930-1, ifdesc: Ten-GigabitEthernet1/1/2, ipaddress: 192.168.2.6,\n",
      "        mask: 255.255.255.252, portmode: route}\n",
      "    oobm: 10.10.10.43\n",
      "    role: leaf\n",
      "    routerid: 192.168.1.12\n",
      "    sysname: 5930-2\n",
      "\n"
     ]
    }
   ],
   "source": [
    "print (yaml.dump(devs, indent = 4))"
   ]
  },
  {
   "cell_type": "markdown",
   "metadata": {},
   "source": [
    "## Rendering the Configurations\n",
    "\n",
    "Now that we've loaded the two YAML files, we're going to use them as input into the Jinja2 templates that are located in the template directory. \n",
    "\n",
    "Looking at the code below, we're executing the following logic\n",
    "\n",
    "1) For each switch in the devs file ( remember there were four right? )\n",
    "2) If the \"role\" key of the devices has a value of **spine** then render the configuration included in the template **7900_spine.j2** and write it to disk using the value of the \"sysname\" key.\n",
    "3) If the \"role key of the devices has a value of **leaf** then render the configuration included in the template **5930_leaf.j2** and write it to disk using the value of the \"sysname\" key. \n",
    "\n",
    "But before we do that, let's take a look in the Configs directory to make sure it's currently empty and I\"m not plaing any tricks here. \n"
   ]
  },
  {
   "cell_type": "code",
   "execution_count": 27,
   "metadata": {
    "collapsed": false
   },
   "outputs": [
    {
     "name": "stdout",
     "output_type": "stream",
     "text": [
      "[]\n"
     ]
    }
   ],
   "source": [
    "dirlist = os.listdir(\"./Generate_Spine_Leaf_Configs/Configs\")\n",
    "print (dirlist)"
   ]
  },
  {
   "cell_type": "markdown",
   "metadata": {},
   "source": [
    "Now we generate the configurations"
   ]
  },
  {
   "cell_type": "code",
   "execution_count": 28,
   "metadata": {
    "collapsed": false
   },
   "outputs": [],
   "source": [
    "for dev in devs:\n",
    "    if dev['role'] == \"spine\":\n",
    "        template = ENV.get_template(\"./Templates/7900_spine.j2\")\n",
    "        #print (template.render(devglobals=devglobals, dev=dev))\n",
    "        with open(\"./Generate_Spine_Leaf_Configs/Configs/\"+dev['sysname']+\".cfg\", \"w\") as file:\n",
    "            file.write(template.render(devglobals=devglobals, dev=dev))\n",
    "    if dev['role'] == \"leaf\":\n",
    "        template = ENV.get_template(\"./Templates/5930_leaf.j2\")\n",
    "    #print (template.render(devglobals=devglobals, dev=dev))\n",
    "    with open(\"./Generate_Spine_Leaf_Configs/Configs/\"+dev['sysname']+\".cfg\", \"w\") as file:\n",
    "        file.write(template.render(devglobals=devglobals, dev=dev))"
   ]
  },
  {
   "cell_type": "code",
   "execution_count": 29,
   "metadata": {
    "collapsed": false
   },
   "outputs": [
    {
     "name": "stdout",
     "output_type": "stream",
     "text": [
      "['5930-1.cfg', '5930-2.cfg', '7904-1.cfg', '7904-2.cfg']\n"
     ]
    }
   ],
   "source": [
    "dirlist = os.listdir(\"./Generate_Spine_Leaf_Configs/Configs\")\n",
    "print (dirlist)"
   ]
  },
  {
   "cell_type": "markdown",
   "metadata": {},
   "source": [
    "##  Verifying the Configs\n",
    "\n",
    "I'll leave it to the reader to take a look at the configurations to see exactly what the differences are, but to give you a quick taste, here's the compare screen capture from my pycharm IDE.\n",
    "\n",
    "The differences are automatically highlited in blue making it easy to see that other than the unique values which come ouf of the **devices.yaml** file, all of the configurations are standardized.  \n",
    "\n",
    "And the best part? If you want to change one of the global values? You just change it in a single place and it automatically will become part of the new configurations once you re-render the templates.\n",
    "\n",
    "![Config Diffs](./images/configdiffs.png)\n",
    "\n"
   ]
  },
  {
   "cell_type": "markdown",
   "metadata": {},
   "source": [
    "# Where to next?\n",
    "\n",
    "Templating is cool and incredibly useful in cutting down on the amount of repetitive config commands that you're probably typing by hand today. You may be slightly more advanced and using a good ol' cut-and-paste between files, but there's always the opportunity for human error when you're retyping the unique device values, not to mention the fact that you're going to have to cut and paste that a lot of times.\n",
    "\n",
    "As well, as we saw previously, the values in the **.YAML** files are not really unique to any particular vendor, so if you're looking to make a change, all you would have to do is to generate the jinja2 templates for your new manufacturer of choice and your new configurations could be moved over with minimal effort. \n",
    "\n",
    "Choice is always good right?  If you're staying with your current network vendor, it should be because you're happy with the overall experience, not because it's too hard to change to anything else. \n",
    "\n",
    "@netmanchris"
   ]
  }
 ],
 "metadata": {
  "kernelspec": {
   "display_name": "Python 3",
   "language": "python",
   "name": "python3"
  },
  "language_info": {
   "codemirror_mode": {
    "name": "ipython",
    "version": 3
   },
   "file_extension": ".py",
   "mimetype": "text/x-python",
   "name": "python",
   "nbconvert_exporter": "python",
   "pygments_lexer": "ipython3",
   "version": "3.4.3"
  }
 },
 "nbformat": 4,
 "nbformat_minor": 0
}
